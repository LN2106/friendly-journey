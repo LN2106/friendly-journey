{
  "nbformat": 4,
  "nbformat_minor": 0,
  "metadata": {
    "colab": {
      "provenance": []
    },
    "kernelspec": {
      "name": "python3",
      "display_name": "Python 3"
    },
    "language_info": {
      "name": "python"
    }
  },
  "cells": [
    {
      "cell_type": "markdown",
      "metadata": {
        "id": "ug_6NAb1rJgt"
      },
      "source": [
        "**TABLE OF CONTENT**\n",
        "\n",
        "PART I:\n",
        "1. IMPORTING FILES AND LIBRARIES\n",
        "2. TRAIN AND TEST SPLIT\n",
        "3. LSTM\n",
        "4. BI-LSTM\n",
        "5. MLP\n",
        "6. CNN\n",
        "7. ANN\n",
        "8. COMPARISON OF RESULTS\n",
        "\n",
        "PART II:\n",
        "1. ENSEMBLING\n",
        "2. REQUIRMENTS\n",
        "3. VOTING CLASSIFIER\n",
        "\n"
      ]
    },
    {
      "cell_type": "code",
      "execution_count": 24,
      "metadata": {
        "colab": {
          "base_uri": "https://localhost:8080/"
        },
        "id": "77Edn9s1oxTP",
        "outputId": "3539363a-c453-4314-a81f-27a66404a1d6"
      },
      "outputs": [
        {
          "output_type": "stream",
          "name": "stdout",
          "text": [
            "Drive already mounted at /content/drive; to attempt to forcibly remount, call drive.mount(\"/content/drive\", force_remount=True).\n"
          ]
        }
      ],
      "source": [
        "from google.colab import drive\n",
        "drive.mount('/content/drive')"
      ]
    },
    {
      "cell_type": "code",
      "execution_count": 25,
      "metadata": {
        "id": "uyqSJBp1rX9H"
      },
      "outputs": [],
      "source": [
        "import pandas as pd\n",
        "import numpy as np\n",
        "import matplotlib.pyplot as plt\n",
        "import seaborn as sns\n",
        "import warnings\n",
        "warnings.simplefilter(action='ignore', category=FutureWarning)"
      ]
    },
    {
      "cell_type": "code",
      "execution_count": 26,
      "metadata": {
        "id": "9nEW3IkknUVc",
        "colab": {
          "base_uri": "https://localhost:8080/",
          "height": 290
        },
        "outputId": "8868b418-6929-4243-b8a0-b4f1eeaa4715"
      },
      "outputs": [
        {
          "output_type": "execute_result",
          "data": {
            "text/plain": [
              "      gender  SeniorCitizen  Partner  Dependents    tenure  PhoneService  \\\n",
              "4443       1              0        0           0  0.013889             1   \n",
              "608        0              0        1           1  1.000000             1   \n",
              "6310       1              0        0           0  0.833333             0   \n",
              "4299       1              1        0           0  0.402778             1   \n",
              "2771       1              0        1           1  0.180556             1   \n",
              "\n",
              "      MultipleLines  OnlineSecurity  OnlineBackup  DeviceProtection  ...  \\\n",
              "4443              0               0             0                 0  ...   \n",
              "608               1               1             1                 1  ...   \n",
              "6310              0               1             0                 1  ...   \n",
              "4299              1               1             1                 0  ...   \n",
              "2771              0               1             0                 1  ...   \n",
              "\n",
              "      InternetService_No  Contract_Month-to-month  Contract_One year  \\\n",
              "4443                   0                        1                  0   \n",
              "608                    0                        0                  0   \n",
              "6310                   0                        0                  1   \n",
              "4299                   0                        1                  0   \n",
              "2771                   0                        1                  0   \n",
              "\n",
              "      Contract_Two year  PaymentMethod_Bank transfer (automatic)  \\\n",
              "4443                  0                                        0   \n",
              "608                   1                                        1   \n",
              "6310                  0                                        0   \n",
              "4299                  0                                        1   \n",
              "2771                  0                                        0   \n",
              "\n",
              "      PaymentMethod_Credit card (automatic)  PaymentMethod_Electronic check  \\\n",
              "4443                                      0                               0   \n",
              "608                                       0                               0   \n",
              "6310                                      0                               1   \n",
              "4299                                      0                               0   \n",
              "2771                                      0                               0   \n",
              "\n",
              "      PaymentMethod_Mailed check       CLV  AvgMonthlyCharges  \n",
              "4443                           1  0.005234           0.287805  \n",
              "608                            0  0.964632           0.943896  \n",
              "6310                           0  0.311930           0.301572  \n",
              "4299                           0  0.198591           0.422756  \n",
              "2771                           1  0.096018           0.455803  \n",
              "\n",
              "[5 rows x 29 columns]"
            ],
            "text/html": [
              "\n",
              "  <div id=\"df-e8f0d40f-4d17-4ffa-88b6-eb9e0cbc5e2c\" class=\"colab-df-container\">\n",
              "    <div>\n",
              "<style scoped>\n",
              "    .dataframe tbody tr th:only-of-type {\n",
              "        vertical-align: middle;\n",
              "    }\n",
              "\n",
              "    .dataframe tbody tr th {\n",
              "        vertical-align: top;\n",
              "    }\n",
              "\n",
              "    .dataframe thead th {\n",
              "        text-align: right;\n",
              "    }\n",
              "</style>\n",
              "<table border=\"1\" class=\"dataframe\">\n",
              "  <thead>\n",
              "    <tr style=\"text-align: right;\">\n",
              "      <th></th>\n",
              "      <th>gender</th>\n",
              "      <th>SeniorCitizen</th>\n",
              "      <th>Partner</th>\n",
              "      <th>Dependents</th>\n",
              "      <th>tenure</th>\n",
              "      <th>PhoneService</th>\n",
              "      <th>MultipleLines</th>\n",
              "      <th>OnlineSecurity</th>\n",
              "      <th>OnlineBackup</th>\n",
              "      <th>DeviceProtection</th>\n",
              "      <th>...</th>\n",
              "      <th>InternetService_No</th>\n",
              "      <th>Contract_Month-to-month</th>\n",
              "      <th>Contract_One year</th>\n",
              "      <th>Contract_Two year</th>\n",
              "      <th>PaymentMethod_Bank transfer (automatic)</th>\n",
              "      <th>PaymentMethod_Credit card (automatic)</th>\n",
              "      <th>PaymentMethod_Electronic check</th>\n",
              "      <th>PaymentMethod_Mailed check</th>\n",
              "      <th>CLV</th>\n",
              "      <th>AvgMonthlyCharges</th>\n",
              "    </tr>\n",
              "  </thead>\n",
              "  <tbody>\n",
              "    <tr>\n",
              "      <th>4443</th>\n",
              "      <td>1</td>\n",
              "      <td>0</td>\n",
              "      <td>0</td>\n",
              "      <td>0</td>\n",
              "      <td>0.013889</td>\n",
              "      <td>1</td>\n",
              "      <td>0</td>\n",
              "      <td>0</td>\n",
              "      <td>0</td>\n",
              "      <td>0</td>\n",
              "      <td>...</td>\n",
              "      <td>0</td>\n",
              "      <td>1</td>\n",
              "      <td>0</td>\n",
              "      <td>0</td>\n",
              "      <td>0</td>\n",
              "      <td>0</td>\n",
              "      <td>0</td>\n",
              "      <td>1</td>\n",
              "      <td>0.005234</td>\n",
              "      <td>0.287805</td>\n",
              "    </tr>\n",
              "    <tr>\n",
              "      <th>608</th>\n",
              "      <td>0</td>\n",
              "      <td>0</td>\n",
              "      <td>1</td>\n",
              "      <td>1</td>\n",
              "      <td>1.000000</td>\n",
              "      <td>1</td>\n",
              "      <td>1</td>\n",
              "      <td>1</td>\n",
              "      <td>1</td>\n",
              "      <td>1</td>\n",
              "      <td>...</td>\n",
              "      <td>0</td>\n",
              "      <td>0</td>\n",
              "      <td>0</td>\n",
              "      <td>1</td>\n",
              "      <td>1</td>\n",
              "      <td>0</td>\n",
              "      <td>0</td>\n",
              "      <td>0</td>\n",
              "      <td>0.964632</td>\n",
              "      <td>0.943896</td>\n",
              "    </tr>\n",
              "    <tr>\n",
              "      <th>6310</th>\n",
              "      <td>1</td>\n",
              "      <td>0</td>\n",
              "      <td>0</td>\n",
              "      <td>0</td>\n",
              "      <td>0.833333</td>\n",
              "      <td>0</td>\n",
              "      <td>0</td>\n",
              "      <td>1</td>\n",
              "      <td>0</td>\n",
              "      <td>1</td>\n",
              "      <td>...</td>\n",
              "      <td>0</td>\n",
              "      <td>0</td>\n",
              "      <td>1</td>\n",
              "      <td>0</td>\n",
              "      <td>0</td>\n",
              "      <td>0</td>\n",
              "      <td>1</td>\n",
              "      <td>0</td>\n",
              "      <td>0.311930</td>\n",
              "      <td>0.301572</td>\n",
              "    </tr>\n",
              "    <tr>\n",
              "      <th>4299</th>\n",
              "      <td>1</td>\n",
              "      <td>1</td>\n",
              "      <td>0</td>\n",
              "      <td>0</td>\n",
              "      <td>0.402778</td>\n",
              "      <td>1</td>\n",
              "      <td>1</td>\n",
              "      <td>1</td>\n",
              "      <td>1</td>\n",
              "      <td>0</td>\n",
              "      <td>...</td>\n",
              "      <td>0</td>\n",
              "      <td>1</td>\n",
              "      <td>0</td>\n",
              "      <td>0</td>\n",
              "      <td>1</td>\n",
              "      <td>0</td>\n",
              "      <td>0</td>\n",
              "      <td>0</td>\n",
              "      <td>0.198591</td>\n",
              "      <td>0.422756</td>\n",
              "    </tr>\n",
              "    <tr>\n",
              "      <th>2771</th>\n",
              "      <td>1</td>\n",
              "      <td>0</td>\n",
              "      <td>1</td>\n",
              "      <td>1</td>\n",
              "      <td>0.180556</td>\n",
              "      <td>1</td>\n",
              "      <td>0</td>\n",
              "      <td>1</td>\n",
              "      <td>0</td>\n",
              "      <td>1</td>\n",
              "      <td>...</td>\n",
              "      <td>0</td>\n",
              "      <td>1</td>\n",
              "      <td>0</td>\n",
              "      <td>0</td>\n",
              "      <td>0</td>\n",
              "      <td>0</td>\n",
              "      <td>0</td>\n",
              "      <td>1</td>\n",
              "      <td>0.096018</td>\n",
              "      <td>0.455803</td>\n",
              "    </tr>\n",
              "  </tbody>\n",
              "</table>\n",
              "<p>5 rows × 29 columns</p>\n",
              "</div>\n",
              "    <div class=\"colab-df-buttons\">\n",
              "\n",
              "  <div class=\"colab-df-container\">\n",
              "    <button class=\"colab-df-convert\" onclick=\"convertToInteractive('df-e8f0d40f-4d17-4ffa-88b6-eb9e0cbc5e2c')\"\n",
              "            title=\"Convert this dataframe to an interactive table.\"\n",
              "            style=\"display:none;\">\n",
              "\n",
              "  <svg xmlns=\"http://www.w3.org/2000/svg\" height=\"24px\" viewBox=\"0 -960 960 960\">\n",
              "    <path d=\"M120-120v-720h720v720H120Zm60-500h600v-160H180v160Zm220 220h160v-160H400v160Zm0 220h160v-160H400v160ZM180-400h160v-160H180v160Zm440 0h160v-160H620v160ZM180-180h160v-160H180v160Zm440 0h160v-160H620v160Z\"/>\n",
              "  </svg>\n",
              "    </button>\n",
              "\n",
              "  <style>\n",
              "    .colab-df-container {\n",
              "      display:flex;\n",
              "      gap: 12px;\n",
              "    }\n",
              "\n",
              "    .colab-df-convert {\n",
              "      background-color: #E8F0FE;\n",
              "      border: none;\n",
              "      border-radius: 50%;\n",
              "      cursor: pointer;\n",
              "      display: none;\n",
              "      fill: #1967D2;\n",
              "      height: 32px;\n",
              "      padding: 0 0 0 0;\n",
              "      width: 32px;\n",
              "    }\n",
              "\n",
              "    .colab-df-convert:hover {\n",
              "      background-color: #E2EBFA;\n",
              "      box-shadow: 0px 1px 2px rgba(60, 64, 67, 0.3), 0px 1px 3px 1px rgba(60, 64, 67, 0.15);\n",
              "      fill: #174EA6;\n",
              "    }\n",
              "\n",
              "    .colab-df-buttons div {\n",
              "      margin-bottom: 4px;\n",
              "    }\n",
              "\n",
              "    [theme=dark] .colab-df-convert {\n",
              "      background-color: #3B4455;\n",
              "      fill: #D2E3FC;\n",
              "    }\n",
              "\n",
              "    [theme=dark] .colab-df-convert:hover {\n",
              "      background-color: #434B5C;\n",
              "      box-shadow: 0px 1px 3px 1px rgba(0, 0, 0, 0.15);\n",
              "      filter: drop-shadow(0px 1px 2px rgba(0, 0, 0, 0.3));\n",
              "      fill: #FFFFFF;\n",
              "    }\n",
              "  </style>\n",
              "\n",
              "    <script>\n",
              "      const buttonEl =\n",
              "        document.querySelector('#df-e8f0d40f-4d17-4ffa-88b6-eb9e0cbc5e2c button.colab-df-convert');\n",
              "      buttonEl.style.display =\n",
              "        google.colab.kernel.accessAllowed ? 'block' : 'none';\n",
              "\n",
              "      async function convertToInteractive(key) {\n",
              "        const element = document.querySelector('#df-e8f0d40f-4d17-4ffa-88b6-eb9e0cbc5e2c');\n",
              "        const dataTable =\n",
              "          await google.colab.kernel.invokeFunction('convertToInteractive',\n",
              "                                                    [key], {});\n",
              "        if (!dataTable) return;\n",
              "\n",
              "        const docLinkHtml = 'Like what you see? Visit the ' +\n",
              "          '<a target=\"_blank\" href=https://colab.research.google.com/notebooks/data_table.ipynb>data table notebook</a>'\n",
              "          + ' to learn more about interactive tables.';\n",
              "        element.innerHTML = '';\n",
              "        dataTable['output_type'] = 'display_data';\n",
              "        await google.colab.output.renderOutput(dataTable, element);\n",
              "        const docLink = document.createElement('div');\n",
              "        docLink.innerHTML = docLinkHtml;\n",
              "        element.appendChild(docLink);\n",
              "      }\n",
              "    </script>\n",
              "  </div>\n",
              "\n",
              "\n",
              "<div id=\"df-0e359f39-6c2c-41b6-b4dd-f2db513446b7\">\n",
              "  <button class=\"colab-df-quickchart\" onclick=\"quickchart('df-0e359f39-6c2c-41b6-b4dd-f2db513446b7')\"\n",
              "            title=\"Suggest charts\"\n",
              "            style=\"display:none;\">\n",
              "\n",
              "<svg xmlns=\"http://www.w3.org/2000/svg\" height=\"24px\"viewBox=\"0 0 24 24\"\n",
              "     width=\"24px\">\n",
              "    <g>\n",
              "        <path d=\"M19 3H5c-1.1 0-2 .9-2 2v14c0 1.1.9 2 2 2h14c1.1 0 2-.9 2-2V5c0-1.1-.9-2-2-2zM9 17H7v-7h2v7zm4 0h-2V7h2v10zm4 0h-2v-4h2v4z\"/>\n",
              "    </g>\n",
              "</svg>\n",
              "  </button>\n",
              "\n",
              "<style>\n",
              "  .colab-df-quickchart {\n",
              "      --bg-color: #E8F0FE;\n",
              "      --fill-color: #1967D2;\n",
              "      --hover-bg-color: #E2EBFA;\n",
              "      --hover-fill-color: #174EA6;\n",
              "      --disabled-fill-color: #AAA;\n",
              "      --disabled-bg-color: #DDD;\n",
              "  }\n",
              "\n",
              "  [theme=dark] .colab-df-quickchart {\n",
              "      --bg-color: #3B4455;\n",
              "      --fill-color: #D2E3FC;\n",
              "      --hover-bg-color: #434B5C;\n",
              "      --hover-fill-color: #FFFFFF;\n",
              "      --disabled-bg-color: #3B4455;\n",
              "      --disabled-fill-color: #666;\n",
              "  }\n",
              "\n",
              "  .colab-df-quickchart {\n",
              "    background-color: var(--bg-color);\n",
              "    border: none;\n",
              "    border-radius: 50%;\n",
              "    cursor: pointer;\n",
              "    display: none;\n",
              "    fill: var(--fill-color);\n",
              "    height: 32px;\n",
              "    padding: 0;\n",
              "    width: 32px;\n",
              "  }\n",
              "\n",
              "  .colab-df-quickchart:hover {\n",
              "    background-color: var(--hover-bg-color);\n",
              "    box-shadow: 0 1px 2px rgba(60, 64, 67, 0.3), 0 1px 3px 1px rgba(60, 64, 67, 0.15);\n",
              "    fill: var(--button-hover-fill-color);\n",
              "  }\n",
              "\n",
              "  .colab-df-quickchart-complete:disabled,\n",
              "  .colab-df-quickchart-complete:disabled:hover {\n",
              "    background-color: var(--disabled-bg-color);\n",
              "    fill: var(--disabled-fill-color);\n",
              "    box-shadow: none;\n",
              "  }\n",
              "\n",
              "  .colab-df-spinner {\n",
              "    border: 2px solid var(--fill-color);\n",
              "    border-color: transparent;\n",
              "    border-bottom-color: var(--fill-color);\n",
              "    animation:\n",
              "      spin 1s steps(1) infinite;\n",
              "  }\n",
              "\n",
              "  @keyframes spin {\n",
              "    0% {\n",
              "      border-color: transparent;\n",
              "      border-bottom-color: var(--fill-color);\n",
              "      border-left-color: var(--fill-color);\n",
              "    }\n",
              "    20% {\n",
              "      border-color: transparent;\n",
              "      border-left-color: var(--fill-color);\n",
              "      border-top-color: var(--fill-color);\n",
              "    }\n",
              "    30% {\n",
              "      border-color: transparent;\n",
              "      border-left-color: var(--fill-color);\n",
              "      border-top-color: var(--fill-color);\n",
              "      border-right-color: var(--fill-color);\n",
              "    }\n",
              "    40% {\n",
              "      border-color: transparent;\n",
              "      border-right-color: var(--fill-color);\n",
              "      border-top-color: var(--fill-color);\n",
              "    }\n",
              "    60% {\n",
              "      border-color: transparent;\n",
              "      border-right-color: var(--fill-color);\n",
              "    }\n",
              "    80% {\n",
              "      border-color: transparent;\n",
              "      border-right-color: var(--fill-color);\n",
              "      border-bottom-color: var(--fill-color);\n",
              "    }\n",
              "    90% {\n",
              "      border-color: transparent;\n",
              "      border-bottom-color: var(--fill-color);\n",
              "    }\n",
              "  }\n",
              "</style>\n",
              "\n",
              "  <script>\n",
              "    async function quickchart(key) {\n",
              "      const quickchartButtonEl =\n",
              "        document.querySelector('#' + key + ' button');\n",
              "      quickchartButtonEl.disabled = true;  // To prevent multiple clicks.\n",
              "      quickchartButtonEl.classList.add('colab-df-spinner');\n",
              "      try {\n",
              "        const charts = await google.colab.kernel.invokeFunction(\n",
              "            'suggestCharts', [key], {});\n",
              "      } catch (error) {\n",
              "        console.error('Error during call to suggestCharts:', error);\n",
              "      }\n",
              "      quickchartButtonEl.classList.remove('colab-df-spinner');\n",
              "      quickchartButtonEl.classList.add('colab-df-quickchart-complete');\n",
              "    }\n",
              "    (() => {\n",
              "      let quickchartButtonEl =\n",
              "        document.querySelector('#df-0e359f39-6c2c-41b6-b4dd-f2db513446b7 button');\n",
              "      quickchartButtonEl.style.display =\n",
              "        google.colab.kernel.accessAllowed ? 'block' : 'none';\n",
              "    })();\n",
              "  </script>\n",
              "</div>\n",
              "\n",
              "    </div>\n",
              "  </div>\n"
            ],
            "application/vnd.google.colaboratory.intrinsic+json": {
              "type": "dataframe"
            }
          },
          "metadata": {},
          "execution_count": 26
        }
      ],
      "source": [
        "df = pd.read_csv(\"/content/drive/MyDrive/A1-fyp2- churn/data for deep models.csv\")\n",
        "df.sample(5)"
      ]
    },
    {
      "cell_type": "markdown",
      "metadata": {
        "id": "0XI3m9L9Eghg"
      },
      "source": [
        "**Train test split**"
      ]
    },
    {
      "cell_type": "code",
      "execution_count": 27,
      "metadata": {
        "id": "-O8XBNXTteln"
      },
      "outputs": [],
      "source": [
        "X = df.drop(['Churn'], axis = 1)\n",
        "y = df['Churn']"
      ]
    },
    {
      "cell_type": "code",
      "execution_count": 28,
      "metadata": {
        "id": "strd3RTlam8l"
      },
      "outputs": [],
      "source": [
        "\n",
        "from sklearn.model_selection import train_test_split\n",
        "X_train, X_test, y_train, y_test = train_test_split(X,y,test_size=0.2,random_state=42)"
      ]
    },
    {
      "cell_type": "code",
      "execution_count": 29,
      "metadata": {
        "id": "LXfaetHrEghh",
        "colab": {
          "base_uri": "https://localhost:8080/"
        },
        "outputId": "18c362da-4956-431f-a4d1-bb760e293d7b"
      },
      "outputs": [
        {
          "output_type": "execute_result",
          "data": {
            "text/plain": [
              "(5634, 28)"
            ]
          },
          "metadata": {},
          "execution_count": 29
        }
      ],
      "source": [
        "X_train.shape"
      ]
    },
    {
      "cell_type": "code",
      "execution_count": 30,
      "metadata": {
        "id": "NG7ZVa0YEghh",
        "scrolled": true,
        "colab": {
          "base_uri": "https://localhost:8080/"
        },
        "outputId": "83923dad-f284-4991-c75f-fe45f268e080"
      },
      "outputs": [
        {
          "output_type": "execute_result",
          "data": {
            "text/plain": [
              "(1409, 28)"
            ]
          },
          "metadata": {},
          "execution_count": 30
        }
      ],
      "source": [
        "X_test.shape"
      ]
    },
    {
      "cell_type": "code",
      "source": [
        "#from imblearn.over_sampling import SMOTE\n",
        "#smote = SMOTE(random_state=42)\n",
        "#X_train_smote, y_train_smote = smote.fit_resample(X_train, y_train)"
      ],
      "metadata": {
        "id": "2ILoHUA111H4"
      },
      "execution_count": 31,
      "outputs": []
    },
    {
      "cell_type": "markdown",
      "source": [
        "**LSTM**"
      ],
      "metadata": {
        "id": "1UwFo8-21x21"
      }
    },
    {
      "cell_type": "code",
      "source": [
        "\n",
        "import numpy as np\n",
        "import tensorflow as tf\n",
        "from tensorflow.keras.models import Sequential\n",
        "from tensorflow.keras.layers import LSTM, Bidirectional, Dense, Dropout\n",
        "from sklearn.preprocessing import MinMaxScaler\n",
        "from sklearn.metrics import accuracy_score, classification_report, confusion_matrix\n",
        "\n",
        "# Reshape the input data for LSTM\n",
        "# LSTM expects input in 3D format: (samples, timesteps, features)\n",
        "\n",
        "# Reshape the training and testing data for LSTM (1 timestep in this case)\n",
        "X_train_lstm = np.array(X_train).reshape((X_train.shape[0], 1, X_train.shape[1]))\n",
        "X_test_lstm = np.array(X_test).reshape((X_test.shape[0], 1, X_test.shape[1]))\n",
        "\n",
        "# Define the LSTM model\n",
        "lstm_model = Sequential()\n",
        "\n",
        "# Add a Bidirectional LSTM layer\n",
        "#model.add(Bidirectional(LSTM(64, return_sequences=False), input_shape=(X_train_lstm.shape[1], X_train_lstm.shape[2])))\n",
        "lstm_model.add(LSTM(64, return_sequences=False, input_shape=(X_train_lstm.shape[1], X_train_lstm.shape[2])))\n",
        "\n",
        "# Add Dropout to prevent overfitting\n",
        "lstm_model.add(Dropout(0.3))\n",
        "\n",
        "\n",
        "# Add a Dense output layer with a sigmoid activation function for binary classification\n",
        "lstm_model.add(Dense(1, activation='sigmoid'))\n",
        "\n",
        "# Compile the model\n",
        "lstm_model.compile(optimizer='adam', loss='binary_crossentropy', metrics=['accuracy'])\n",
        "\n",
        "# Train the LSTM model\n",
        "history = lstm_model.fit(X_train_lstm, y_train, epochs=10, batch_size=32, validation_split=0.2)\n",
        "\n",
        "# Make predictions on the test set\n",
        "y_pred_lstm = (lstm_model.predict(X_test_lstm) > 0.5).astype(\"int32\")\n",
        "\n",
        "# Evaluate the model\n",
        "accuracy_lstm = accuracy_score(y_test, y_pred_lstm)\n",
        "print(f\"LSTM Accuracy: {accuracy_lstm * 100:.2f}%\")\n",
        "\n",
        "# Print classification report and confusion matrix\n",
        "print(\"\\nClassification Report:\")\n",
        "print(classification_report(y_test, y_pred_lstm))\n",
        "\n",
        "print(\"\\nConfusion Matrix:\")\n",
        "print(confusion_matrix(y_test, y_pred_lstm))"
      ],
      "metadata": {
        "id": "bK60BCImcUE7",
        "colab": {
          "base_uri": "https://localhost:8080/"
        },
        "outputId": "829cfef9-ea16-417c-a47d-80a1933589d2"
      },
      "execution_count": 32,
      "outputs": [
        {
          "output_type": "stream",
          "name": "stdout",
          "text": [
            "Epoch 1/10\n"
          ]
        },
        {
          "output_type": "stream",
          "name": "stderr",
          "text": [
            "/usr/local/lib/python3.10/dist-packages/keras/src/layers/rnn/rnn.py:204: UserWarning: Do not pass an `input_shape`/`input_dim` argument to a layer. When using Sequential models, prefer using an `Input(shape)` object as the first layer in the model instead.\n",
            "  super().__init__(**kwargs)\n"
          ]
        },
        {
          "output_type": "stream",
          "name": "stdout",
          "text": [
            "\u001b[1m141/141\u001b[0m \u001b[32m━━━━━━━━━━━━━━━━━━━━\u001b[0m\u001b[37m\u001b[0m \u001b[1m4s\u001b[0m 8ms/step - accuracy: 0.6906 - loss: 0.5892 - val_accuracy: 0.7950 - val_loss: 0.4444\n",
            "Epoch 2/10\n",
            "\u001b[1m141/141\u001b[0m \u001b[32m━━━━━━━━━━━━━━━━━━━━\u001b[0m\u001b[37m\u001b[0m \u001b[1m1s\u001b[0m 4ms/step - accuracy: 0.7861 - loss: 0.4411 - val_accuracy: 0.8039 - val_loss: 0.4226\n",
            "Epoch 3/10\n",
            "\u001b[1m141/141\u001b[0m \u001b[32m━━━━━━━━━━━━━━━━━━━━\u001b[0m\u001b[37m\u001b[0m \u001b[1m1s\u001b[0m 4ms/step - accuracy: 0.7871 - loss: 0.4384 - val_accuracy: 0.8066 - val_loss: 0.4173\n",
            "Epoch 4/10\n",
            "\u001b[1m141/141\u001b[0m \u001b[32m━━━━━━━━━━━━━━━━━━━━\u001b[0m\u001b[37m\u001b[0m \u001b[1m1s\u001b[0m 4ms/step - accuracy: 0.7910 - loss: 0.4444 - val_accuracy: 0.7995 - val_loss: 0.4158\n",
            "Epoch 5/10\n",
            "\u001b[1m141/141\u001b[0m \u001b[32m━━━━━━━━━━━━━━━━━━━━\u001b[0m\u001b[37m\u001b[0m \u001b[1m1s\u001b[0m 4ms/step - accuracy: 0.7970 - loss: 0.4266 - val_accuracy: 0.8092 - val_loss: 0.4129\n",
            "Epoch 6/10\n",
            "\u001b[1m141/141\u001b[0m \u001b[32m━━━━━━━━━━━━━━━━━━━━\u001b[0m\u001b[37m\u001b[0m \u001b[1m1s\u001b[0m 4ms/step - accuracy: 0.7885 - loss: 0.4418 - val_accuracy: 0.8101 - val_loss: 0.4132\n",
            "Epoch 7/10\n",
            "\u001b[1m141/141\u001b[0m \u001b[32m━━━━━━━━━━━━━━━━━━━━\u001b[0m\u001b[37m\u001b[0m \u001b[1m1s\u001b[0m 4ms/step - accuracy: 0.7966 - loss: 0.4241 - val_accuracy: 0.8119 - val_loss: 0.4102\n",
            "Epoch 8/10\n",
            "\u001b[1m141/141\u001b[0m \u001b[32m━━━━━━━━━━━━━━━━━━━━\u001b[0m\u001b[37m\u001b[0m \u001b[1m1s\u001b[0m 4ms/step - accuracy: 0.8031 - loss: 0.4167 - val_accuracy: 0.8092 - val_loss: 0.4090\n",
            "Epoch 9/10\n",
            "\u001b[1m141/141\u001b[0m \u001b[32m━━━━━━━━━━━━━━━━━━━━\u001b[0m\u001b[37m\u001b[0m \u001b[1m1s\u001b[0m 5ms/step - accuracy: 0.8058 - loss: 0.4197 - val_accuracy: 0.8039 - val_loss: 0.4106\n",
            "Epoch 10/10\n",
            "\u001b[1m141/141\u001b[0m \u001b[32m━━━━━━━━━━━━━━━━━━━━\u001b[0m\u001b[37m\u001b[0m \u001b[1m1s\u001b[0m 4ms/step - accuracy: 0.7947 - loss: 0.4357 - val_accuracy: 0.8066 - val_loss: 0.4082\n",
            "\u001b[1m45/45\u001b[0m \u001b[32m━━━━━━━━━━━━━━━━━━━━\u001b[0m\u001b[37m\u001b[0m \u001b[1m0s\u001b[0m 6ms/step\n",
            "LSTM Accuracy: 81.62%\n",
            "\n",
            "Classification Report:\n",
            "              precision    recall  f1-score   support\n",
            "\n",
            "           0       0.86      0.90      0.88      1036\n",
            "           1       0.68      0.59      0.63       373\n",
            "\n",
            "    accuracy                           0.82      1409\n",
            "   macro avg       0.77      0.74      0.75      1409\n",
            "weighted avg       0.81      0.82      0.81      1409\n",
            "\n",
            "\n",
            "Confusion Matrix:\n",
            "[[931 105]\n",
            " [154 219]]\n"
          ]
        }
      ]
    },
    {
      "cell_type": "code",
      "source": [
        "from sklearn.metrics import roc_auc_score, roc_curve\n",
        "import matplotlib.pyplot as plt\n",
        "\n",
        "# Calculate ROC-AUC score\n",
        "y_pred_prob_lstm = lstm_model.predict(X_test_lstm)  # Get predicted probabilities\n",
        "roc_auc_lstm = roc_auc_score(y_test, y_pred_prob_lstm)\n",
        "print(f\"LSTM ROC-AUC Score: {roc_auc_lstm:.2f}\")\n",
        "\n",
        "# Plot ROC curve\n",
        "fpr, tpr, _ = roc_curve(y_test, y_pred_prob_lstm)\n",
        "plt.figure()\n",
        "plt.plot(fpr, tpr, color='blue', label=f'ROC Curve (area = {roc_auc_lstm:.2f})')\n",
        "plt.plot([0, 1], [0, 1], color='gray', linestyle='--')\n",
        "plt.xlim([0.0, 1.0])\n",
        "plt.ylim([0.0, 1.05])\n",
        "plt.xlabel('False Positive Rate')\n",
        "plt.ylabel('True Positive Rate')\n",
        "plt.title('ROC Curve')\n",
        "plt.legend(loc='lower right')\n",
        "plt.show()\n"
      ],
      "metadata": {
        "id": "eWkD7rAFfKT7",
        "colab": {
          "base_uri": "https://localhost:8080/",
          "height": 507
        },
        "outputId": "531fdf0c-8ba2-4f3e-f16c-1f3dfcdedf95"
      },
      "execution_count": 33,
      "outputs": [
        {
          "output_type": "stream",
          "name": "stdout",
          "text": [
            "\u001b[1m45/45\u001b[0m \u001b[32m━━━━━━━━━━━━━━━━━━━━\u001b[0m\u001b[37m\u001b[0m \u001b[1m0s\u001b[0m 2ms/step\n",
            "LSTM ROC-AUC Score: 0.86\n"
          ]
        },
        {
          "output_type": "display_data",
          "data": {
            "text/plain": [
              "<Figure size 640x480 with 1 Axes>"
            ],
            "image/png": "[encoded data removed]"
          },
          "metadata": {}
        }
      ]
    },
    {
      "cell_type": "code",
      "source": [
        "import joblib\n",
        "\n",
        "#Save the trained models\n",
        "joblib.dump(lstm_model, 'lstm_81_model.joblib')"
      ],
      "metadata": {
        "colab": {
          "base_uri": "https://localhost:8080/"
        },
        "id": "7RYTcpXVZD3_",
        "outputId": "3fef1b88-74dc-426a-80de-9f47c70ba305"
      },
      "execution_count": 47,
      "outputs": [
        {
          "output_type": "execute_result",
          "data": {
            "text/plain": [
              "['lstm_81_model.joblib']"
            ]
          },
          "metadata": {},
          "execution_count": 47
        }
      ]
    },
    {
      "cell_type": "markdown",
      "source": [
        "/content/lstm_81_model.joblib"
      ],
      "metadata": {
        "id": "-4Rr44sZbYKM"
      }
    },
    {
      "cell_type": "markdown",
      "source": [
        "----------------------------------------------------------"
      ],
      "metadata": {
        "id": "f1nVUxsdbPoG"
      }
    },
    {
      "cell_type": "markdown",
      "source": [
        "**BI-LSTM**"
      ],
      "metadata": {
        "id": "GSkpLUR4S8lE"
      }
    },
    {
      "cell_type": "code",
      "source": [
        "import numpy as np\n",
        "import tensorflow as tf\n",
        "from tensorflow.keras.models import Sequential\n",
        "from tensorflow.keras.layers import LSTM, Bidirectional, Dense, Dropout\n",
        "from sklearn.preprocessing import MinMaxScaler\n",
        "from sklearn.metrics import accuracy_score, classification_report, confusion_matrix, roc_auc_score, roc_curve\n",
        "import matplotlib.pyplot as plt\n",
        "\n",
        "# Reshape the training and testing data for LSTM (1 timestep in this case)\n",
        "X_train_bilstm = np.array(X_train).reshape((X_train.shape[0], 1, X_train.shape[1]))\n",
        "X_test_bilstm = np.array(X_test).reshape((X_test.shape[0], 1, X_test.shape[1]))\n",
        "\n",
        "# Define the BiLSTM model using a different variable name (bilstm_model)\n",
        "bilstm_model = Sequential()\n",
        "\n",
        "# Add a Bidirectional LSTM layer\n",
        "bilstm_model.add(Bidirectional(LSTM(64, return_sequences=False), input_shape=(X_train_bilstm.shape[1], X_train_bilstm.shape[2])))\n",
        "\n",
        "# Add Dropout to prevent overfitting\n",
        "bilstm_model.add(Dropout(0.3))\n",
        "\n",
        "# Add a Dense output layer with a sigmoid activation function for binary classification\n",
        "bilstm_model.add(Dense(1, activation='sigmoid'))\n",
        "\n",
        "# Compile the BiLSTM model\n",
        "bilstm_model.compile(optimizer='adam', loss='binary_crossentropy', metrics=['accuracy'])\n",
        "\n",
        "# Train the BiLSTM model\n",
        "history_bilstm = bilstm_model.fit(X_train_bilstm, y_train, epochs=10, batch_size=32, validation_split=0.2)\n",
        "\n",
        "# Make predictions on the test set\n",
        "y_pred_prob_bilstm = bilstm_model.predict(X_test_bilstm)  # Get predicted probabilities\n",
        "y_pred_bilstm = (y_pred_prob_bilstm > 0.5).astype(\"int32\")\n",
        "\n",
        "# Evaluate the BiLSTM model\n",
        "accuracy_bilstm = accuracy_score(y_test, y_pred_bilstm)\n",
        "print(f\"bi-LSTM Accuracy: {accuracy_bilstm * 100:.2f}%\")\n",
        "\n",
        "# Print classification report and confusion matrix\n",
        "print(\"\\nClassification Report:\")\n",
        "print(classification_report(y_test, y_pred_bilstm))\n",
        "\n",
        "print(\"\\nConfusion Matrix:\")\n",
        "print(confusion_matrix(y_test, y_pred_bilstm))\n",
        "\n",
        "# Calculate ROC-AUC score\n",
        "roc_auc_bilstm = roc_auc_score(y_test, y_pred_prob_bilstm)\n",
        "print(f\"bi-LSTM ROC-AUC Score: {roc_auc_bilstm:.2f}\")\n",
        "\n",
        "# Plot ROC curve\n",
        "fpr_bilstm, tpr_bilstm, _ = roc_curve(y_test, y_pred_prob_bilstm)\n",
        "plt.figure()\n",
        "plt.plot(fpr_bilstm, tpr_bilstm, color='blue', label=f'ROC Curve (area = {roc_auc_bilstm:.2f})')\n",
        "plt.plot([0, 1], [0, 1], color='gray', linestyle='--')\n",
        "plt.xlim([0.0, 1.0])\n",
        "plt.ylim([0.0, 1.05])\n",
        "plt.xlabel('False Positive Rate')\n",
        "plt.ylabel('True Positive Rate')\n",
        "plt.title('ROC Curve for bi-LSTM Model')\n",
        "plt.legend(loc='lower right')\n",
        "plt.show()\n",
        "\n",
        "\n"
      ],
      "metadata": {
        "id": "L_rqmW0HTAuF",
        "colab": {
          "base_uri": "https://localhost:8080/",
          "height": 1000
        },
        "outputId": "4cfc6b52-4f5e-4524-9f51-588911282bc7"
      },
      "execution_count": 35,
      "outputs": [
        {
          "output_type": "stream",
          "name": "stdout",
          "text": [
            "Epoch 1/10\n"
          ]
        },
        {
          "output_type": "stream",
          "name": "stderr",
          "text": [
            "/usr/local/lib/python3.10/dist-packages/keras/src/layers/rnn/bidirectional.py:107: UserWarning: Do not pass an `input_shape`/`input_dim` argument to a layer. When using Sequential models, prefer using an `Input(shape)` object as the first layer in the model instead.\n",
            "  super().__init__(**kwargs)\n"
          ]
        },
        {
          "output_type": "stream",
          "name": "stdout",
          "text": [
            "\u001b[1m141/141\u001b[0m \u001b[32m━━━━━━━━━━━━━━━━━━━━\u001b[0m\u001b[37m\u001b[0m \u001b[1m7s\u001b[0m 14ms/step - accuracy: 0.7162 - loss: 0.5659 - val_accuracy: 0.7933 - val_loss: 0.4297\n",
            "Epoch 2/10\n",
            "\u001b[1m141/141\u001b[0m \u001b[32m━━━━━━━━━━━━━━━━━━━━\u001b[0m\u001b[37m\u001b[0m \u001b[1m1s\u001b[0m 5ms/step - accuracy: 0.7968 - loss: 0.4289 - val_accuracy: 0.8030 - val_loss: 0.4194\n",
            "Epoch 3/10\n",
            "\u001b[1m141/141\u001b[0m \u001b[32m━━━━━━━━━━━━━━━━━━━━\u001b[0m\u001b[37m\u001b[0m \u001b[1m1s\u001b[0m 5ms/step - accuracy: 0.7929 - loss: 0.4238 - val_accuracy: 0.8083 - val_loss: 0.4153\n",
            "Epoch 4/10\n",
            "\u001b[1m141/141\u001b[0m \u001b[32m━━━━━━━━━━━━━━━━━━━━\u001b[0m\u001b[37m\u001b[0m \u001b[1m1s\u001b[0m 5ms/step - accuracy: 0.8019 - loss: 0.4145 - val_accuracy: 0.8075 - val_loss: 0.4133\n",
            "Epoch 5/10\n",
            "\u001b[1m141/141\u001b[0m \u001b[32m━━━━━━━━━━━━━━━━━━━━\u001b[0m\u001b[37m\u001b[0m \u001b[1m1s\u001b[0m 5ms/step - accuracy: 0.7978 - loss: 0.4174 - val_accuracy: 0.8075 - val_loss: 0.4121\n",
            "Epoch 6/10\n",
            "\u001b[1m141/141\u001b[0m \u001b[32m━━━━━━━━━━━━━━━━━━━━\u001b[0m\u001b[37m\u001b[0m \u001b[1m2s\u001b[0m 9ms/step - accuracy: 0.7923 - loss: 0.4378 - val_accuracy: 0.8128 - val_loss: 0.4101\n",
            "Epoch 7/10\n",
            "\u001b[1m141/141\u001b[0m \u001b[32m━━━━━━━━━━━━━━━━━━━━\u001b[0m\u001b[37m\u001b[0m \u001b[1m1s\u001b[0m 5ms/step - accuracy: 0.7910 - loss: 0.4185 - val_accuracy: 0.8039 - val_loss: 0.4100\n",
            "Epoch 8/10\n",
            "\u001b[1m141/141\u001b[0m \u001b[32m━━━━━━━━━━━━━━━━━━━━\u001b[0m\u001b[37m\u001b[0m \u001b[1m1s\u001b[0m 5ms/step - accuracy: 0.8094 - loss: 0.4130 - val_accuracy: 0.8119 - val_loss: 0.4079\n",
            "Epoch 9/10\n",
            "\u001b[1m141/141\u001b[0m \u001b[32m━━━━━━━━━━━━━━━━━━━━\u001b[0m\u001b[37m\u001b[0m \u001b[1m1s\u001b[0m 5ms/step - accuracy: 0.8030 - loss: 0.4132 - val_accuracy: 0.8092 - val_loss: 0.4072\n",
            "Epoch 10/10\n",
            "\u001b[1m141/141\u001b[0m \u001b[32m━━━━━━━━━━━━━━━━━━━━\u001b[0m\u001b[37m\u001b[0m \u001b[1m1s\u001b[0m 5ms/step - accuracy: 0.7951 - loss: 0.4301 - val_accuracy: 0.8101 - val_loss: 0.4067\n",
            "\u001b[1m45/45\u001b[0m \u001b[32m━━━━━━━━━━━━━━━━━━━━\u001b[0m\u001b[37m\u001b[0m \u001b[1m1s\u001b[0m 15ms/step\n",
            "bi-LSTM Accuracy: 81.55%\n",
            "\n",
            "Classification Report:\n",
            "              precision    recall  f1-score   support\n",
            "\n",
            "           0       0.85      0.90      0.88      1036\n",
            "           1       0.68      0.57      0.62       373\n",
            "\n",
            "    accuracy                           0.82      1409\n",
            "   macro avg       0.77      0.74      0.75      1409\n",
            "weighted avg       0.81      0.82      0.81      1409\n",
            "\n",
            "\n",
            "Confusion Matrix:\n",
            "[[935 101]\n",
            " [159 214]]\n",
            "bi-LSTM ROC-AUC Score: 0.86\n"
          ]
        },
        {
          "output_type": "display_data",
          "data": {
            "text/plain": [
              "<Figure size 640x480 with 1 Axes>"
            ],
            "image/png": "[encoded data removed]"
          },
          "metadata": {}
        }
      ]
    },
    {
      "cell_type": "markdown",
      "source": [
        "**MLP**"
      ],
      "metadata": {
        "id": "wxGvaNIFm83M"
      }
    },
    {
      "cell_type": "code",
      "source": [
        "import numpy as np\n",
        "import tensorflow as tf\n",
        "from tensorflow.keras.models import Sequential\n",
        "from tensorflow.keras.layers import Dense, Dropout\n",
        "from tensorflow.keras.callbacks import EarlyStopping\n",
        "from sklearn.metrics import accuracy_score, classification_report, confusion_matrix, roc_auc_score, roc_curve\n",
        "import matplotlib.pyplot as plt\n",
        "\n",
        "\n",
        "\n",
        "# Define the MLP model\n",
        "mlp_model = Sequential()\n",
        "\n",
        "# Input layer with 256 units and 'tanh' activation function\n",
        "mlp_model.add(Dense(256, activation='tanh', input_shape=(X_train_mlp.shape[1],)))\n",
        "\n",
        "# Add Dropout to prevent overfitting\n",
        "mlp_model.add(Dropout(0.3))\n",
        "\n",
        "# Second hidden layer with 128 units and 'tanh' activation\n",
        "mlp_model.add(Dense(128, activation='tanh'))\n",
        "\n",
        "# Add Dropout\n",
        "mlp_model.add(Dropout(0.3))\n",
        "\n",
        "# Third hidden layer with 64 units and Leaky ReLU activation\n",
        "mlp_model.add(Dense(64))\n",
        "mlp_model.add(tf.keras.layers.LeakyReLU(alpha=0.1))\n",
        "\n",
        "# Output layer for binary classification with sigmoid activation\n",
        "mlp_model.add(Dense(1, activation='sigmoid'))\n",
        "\n",
        "# Compile the MLP model\n",
        "mlp_model.compile(optimizer='adam', loss='binary_crossentropy', metrics=['accuracy'])\n",
        "\n",
        "# Implement EarlyStopping for MLP\n",
        "early_stopping_mlp = EarlyStopping(monitor='val_loss', patience=3, restore_best_weights=True)\n",
        "\n",
        "# Train the MLP model\n",
        "history_mlp = mlp_model.fit(X_train_mlp, y_train,\n",
        "                            epochs=50,\n",
        "                            batch_size=32,\n",
        "                            validation_split=0.2,\n",
        "                            callbacks=[early_stopping_mlp],\n",
        "                            verbose=1)\n",
        "\n",
        "# Visualize Training History (Accuracy per Epoch)\n",
        "plt.plot(history_mlp.history['accuracy'], label='Training Accuracy')\n",
        "plt.plot(history_mlp.history['val_accuracy'], label='Validation Accuracy')\n",
        "plt.xlabel('Epochs')\n",
        "plt.ylabel('Accuracy')\n",
        "plt.title('Training and Validation Accuracy (MLP)')\n",
        "plt.legend()\n",
        "plt.show()\n",
        "\n",
        "# Make predictions on the test set\n",
        "y_pred_prob_mlp = mlp_model.predict(X_test_mlp)  # Get predicted probabilities\n",
        "y_pred_mlp = (y_pred_prob_mlp > 0.5).astype(\"int32\")\n",
        "\n",
        "# Evaluate the MLP model\n",
        "accuracy_mlp = accuracy_score(y_test, y_pred_mlp)\n",
        "print(f\"MLP Accuracy: {accuracy_mlp * 100:.2f}%\")\n",
        "\n",
        "# Print classification report and confusion matrix\n",
        "print(\"\\nClassification Report:\")\n",
        "print(classification_report(y_test, y_pred_mlp))\n",
        "\n",
        "print(\"\\nConfusion Matrix:\")\n",
        "print(confusion_matrix(y_test, y_pred_mlp))\n",
        "\n",
        "# Calculate ROC-AUC score for MLP\n",
        "roc_auc_mlp = roc_auc_score(y_test, y_pred_prob_mlp)\n",
        "print(f\"MLP ROC-AUC Score: {roc_auc_mlp:.2f}\")\n",
        "\n",
        "# Plot ROC curve for MLP\n",
        "fpr_mlp, tpr_mlp, _ = roc_curve(y_test, y_pred_prob_mlp)\n",
        "plt.figure()\n",
        "plt.plot(fpr_mlp, tpr_mlp, color='blue', label=f'ROC Curve (area = {roc_auc_mlp:.2f})')\n",
        "plt.plot([0, 1], [0, 1], color='gray', linestyle='--')\n",
        "plt.xlim([0.0, 1.0])\n",
        "plt.ylim([0.0, 1.05])\n",
        "plt.xlabel('False Positive Rate')\n",
        "plt.ylabel('True Positive Rate')\n",
        "plt.title('ROC Curve for MLP Model')\n",
        "plt.legend(loc='lower right')\n",
        "plt.show()\n",
        "\n"
      ],
      "metadata": {
        "id": "9aBROrh8m-vc",
        "colab": {
          "base_uri": "https://localhost:8080/",
          "height": 1000
        },
        "outputId": "3e7593a6-8aed-4ead-b2ba-a43d9a243dcc"
      },
      "execution_count": 36,
      "outputs": [
        {
          "output_type": "stream",
          "name": "stderr",
          "text": [
            "/usr/local/lib/python3.10/dist-packages/keras/src/layers/core/dense.py:87: UserWarning: Do not pass an `input_shape`/`input_dim` argument to a layer. When using Sequential models, prefer using an `Input(shape)` object as the first layer in the model instead.\n",
            "  super().__init__(activity_regularizer=activity_regularizer, **kwargs)\n",
            "/usr/local/lib/python3.10/dist-packages/keras/src/layers/activations/leaky_relu.py:41: UserWarning: Argument `alpha` is deprecated. Use `negative_slope` instead.\n",
            "  warnings.warn(\n"
          ]
        },
        {
          "output_type": "stream",
          "name": "stdout",
          "text": [
            "Epoch 1/50\n",
            "\u001b[1m141/141\u001b[0m \u001b[32m━━━━━━━━━━━━━━━━━━━━\u001b[0m\u001b[37m\u001b[0m \u001b[1m4s\u001b[0m 7ms/step - accuracy: 0.7704 - loss: 0.4753 - val_accuracy: 0.7933 - val_loss: 0.4279\n",
            "Epoch 2/50\n",
            "\u001b[1m141/141\u001b[0m \u001b[32m━━━━━━━━━━━━━━━━━━━━\u001b[0m\u001b[37m\u001b[0m \u001b[1m1s\u001b[0m 4ms/step - accuracy: 0.7854 - loss: 0.4418 - val_accuracy: 0.8057 - val_loss: 0.4115\n",
            "Epoch 3/50\n",
            "\u001b[1m141/141\u001b[0m \u001b[32m━━━━━━━━━━━━━━━━━━━━\u001b[0m\u001b[37m\u001b[0m \u001b[1m1s\u001b[0m 5ms/step - accuracy: 0.7818 - loss: 0.4394 - val_accuracy: 0.8057 - val_loss: 0.4134\n",
            "Epoch 4/50\n",
            "\u001b[1m141/141\u001b[0m \u001b[32m━━━━━━━━━━━━━━━━━━━━\u001b[0m\u001b[37m\u001b[0m \u001b[1m1s\u001b[0m 5ms/step - accuracy: 0.7951 - loss: 0.4238 - val_accuracy: 0.8048 - val_loss: 0.4163\n",
            "Epoch 5/50\n",
            "\u001b[1m141/141\u001b[0m \u001b[32m━━━━━━━━━━━━━━━━━━━━\u001b[0m\u001b[37m\u001b[0m \u001b[1m1s\u001b[0m 6ms/step - accuracy: 0.7948 - loss: 0.4204 - val_accuracy: 0.7977 - val_loss: 0.4155\n"
          ]
        },
        {
          "output_type": "display_data",
          "data": {
            "text/plain": [
              "<Figure size 640x480 with 1 Axes>"
            ],
            "image/png": "[encoded data removed]"
          },
          "metadata": {}
        },
        {
          "output_type": "stream",
          "name": "stdout",
          "text": [
            "\u001b[1m45/45\u001b[0m \u001b[32m━━━━━━━━━━━━━━━━━━━━\u001b[0m\u001b[37m\u001b[0m \u001b[1m0s\u001b[0m 3ms/step\n",
            "MLP Accuracy: 81.41%\n",
            "\n",
            "Classification Report:\n",
            "              precision    recall  f1-score   support\n",
            "\n",
            "           0       0.86      0.89      0.88      1036\n",
            "           1       0.66      0.60      0.63       373\n",
            "\n",
            "    accuracy                           0.81      1409\n",
            "   macro avg       0.76      0.75      0.75      1409\n",
            "weighted avg       0.81      0.81      0.81      1409\n",
            "\n",
            "\n",
            "Confusion Matrix:\n",
            "[[922 114]\n",
            " [148 225]]\n",
            "MLP ROC-AUC Score: 0.86\n"
          ]
        },
        {
          "output_type": "display_data",
          "data": {
            "text/plain": [
              "<Figure size 640x480 with 1 Axes>"
            ],
            "image/png": "[encoded data removed]"
          },
          "metadata": {}
        }
      ]
    },
    {
      "cell_type": "markdown",
      "source": [
        "**CNN**"
      ],
      "metadata": {
        "id": "q3i56u-qybai"
      }
    },
    {
      "cell_type": "code",
      "source": [
        "import numpy as np\n",
        "import tensorflow as tf\n",
        "from tensorflow.keras.models import Sequential\n",
        "from tensorflow.keras.layers import Conv1D, MaxPooling1D, Flatten, Dense, Dropout\n",
        "from sklearn.metrics import accuracy_score, classification_report, confusion_matrix, roc_auc_score, roc_curve\n",
        "import matplotlib.pyplot as plt\n",
        "\n",
        "# Reshape the input data for CNN (CNN expects input in 3D format: (samples, timesteps, features))\n",
        "X_train_cnn = np.array(X_train).reshape((X_train.shape[0], X_train.shape[1], 1))\n",
        "X_test_cnn = np.array(X_test).reshape((X_test.shape[0], X_test.shape[1], 1))\n",
        "\n",
        "# Define the CNN model using a different variable name (cnn_model)\n",
        "cnn_model = Sequential()\n",
        "\n",
        "# Add a 1D convolutional layer with 64 filters, kernel size 3, and ReLU activation\n",
        "cnn_model.add(Conv1D(filters=64, kernel_size=3, activation='relu', input_shape=(X_train_cnn.shape[1], 1)))\n",
        "\n",
        "# Add a max pooling layer\n",
        "cnn_model.add(MaxPooling1D(pool_size=2))\n",
        "\n",
        "# Flatten the output before feeding into the dense layers\n",
        "cnn_model.add(Flatten())\n",
        "\n",
        "# Add a dropout layer to prevent overfitting\n",
        "cnn_model.add(Dropout(0.3))\n",
        "\n",
        "# Add a dense layer with 64 units and ReLU activation\n",
        "cnn_model.add(Dense(64, activation='relu'))\n",
        "\n",
        "# Add the output layer with a sigmoid activation for binary classification\n",
        "cnn_model.add(Dense(1, activation='sigmoid'))\n",
        "\n",
        "# Compile the CNN model\n",
        "cnn_model.compile(optimizer='adam', loss='binary_crossentropy', metrics=['accuracy'])\n",
        "\n",
        "# Train the CNN model\n",
        "history_cnn = cnn_model.fit(X_train_cnn, y_train, epochs=10, batch_size=32, validation_split=0.2)\n",
        "\n",
        "# Make predictions on the test set\n",
        "y_pred_prob_cnn = cnn_model.predict(X_test_cnn)  # Get predicted probabilities\n",
        "y_pred_cnn = (y_pred_prob_cnn > 0.5).astype(\"int32\")\n",
        "\n",
        "# Evaluate the CNN model\n",
        "accuracy_cnn = accuracy_score(y_test, y_pred_cnn)\n",
        "print(f\"CNN Accuracy: {accuracy_cnn * 100:.2f}%\")\n",
        "\n",
        "# Print classification report and confusion matrix\n",
        "print(\"\\nClassification Report:\")\n",
        "print(classification_report(y_test, y_pred_cnn))\n",
        "\n",
        "print(\"\\nConfusion Matrix:\")\n",
        "print(confusion_matrix(y_test, y_pred_cnn))\n",
        "\n",
        "# Calculate ROC-AUC score\n",
        "roc_auc_cnn = roc_auc_score(y_test, y_pred_prob_cnn)\n",
        "print(f\"CNN ROC-AUC Score: {roc_auc_cnn:.2f}\")\n",
        "\n",
        "# Plot ROC curve\n",
        "fpr_cnn, tpr_cnn, _ = roc_curve(y_test, y_pred_prob_cnn)\n",
        "plt.figure()\n",
        "plt.plot(fpr_cnn, tpr_cnn, color='purple', label=f'ROC Curve (area = {roc_auc_cnn:.2f})')\n",
        "plt.plot([0, 1], [0, 1], color='gray', linestyle='--')\n",
        "plt.xlim([0.0, 1.0])\n",
        "plt.ylim([0.0, 1.05])\n",
        "plt.xlabel('False Positive Rate')\n",
        "plt.ylabel('True Positive Rate')\n",
        "plt.title('ROC Curve for CNN Model')\n",
        "plt.legend(loc='lower right')\n",
        "plt.show()\n"
      ],
      "metadata": {
        "id": "rL7gysJxnvmp",
        "colab": {
          "base_uri": "https://localhost:8080/",
          "height": 1000
        },
        "outputId": "357e8131-3b26-4cae-e3b6-9a81c551b091"
      },
      "execution_count": 37,
      "outputs": [
        {
          "output_type": "stream",
          "name": "stdout",
          "text": [
            "Epoch 1/10\n"
          ]
        },
        {
          "output_type": "stream",
          "name": "stderr",
          "text": [
            "/usr/local/lib/python3.10/dist-packages/keras/src/layers/convolutional/base_conv.py:107: UserWarning: Do not pass an `input_shape`/`input_dim` argument to a layer. When using Sequential models, prefer using an `Input(shape)` object as the first layer in the model instead.\n",
            "  super().__init__(activity_regularizer=activity_regularizer, **kwargs)\n"
          ]
        },
        {
          "output_type": "stream",
          "name": "stdout",
          "text": [
            "\u001b[1m141/141\u001b[0m \u001b[32m━━━━━━━━━━━━━━━━━━━━\u001b[0m\u001b[37m\u001b[0m \u001b[1m4s\u001b[0m 12ms/step - accuracy: 0.7223 - loss: 0.5332 - val_accuracy: 0.8048 - val_loss: 0.4239\n",
            "Epoch 2/10\n",
            "\u001b[1m141/141\u001b[0m \u001b[32m━━━━━━━━━━━━━━━━━━━━\u001b[0m\u001b[37m\u001b[0m \u001b[1m2s\u001b[0m 12ms/step - accuracy: 0.7926 - loss: 0.4378 - val_accuracy: 0.8128 - val_loss: 0.4133\n",
            "Epoch 3/10\n",
            "\u001b[1m141/141\u001b[0m \u001b[32m━━━━━━━━━━━━━━━━━━━━\u001b[0m\u001b[37m\u001b[0m \u001b[1m1s\u001b[0m 9ms/step - accuracy: 0.7855 - loss: 0.4430 - val_accuracy: 0.8128 - val_loss: 0.4120\n",
            "Epoch 4/10\n",
            "\u001b[1m141/141\u001b[0m \u001b[32m━━━━━━━━━━━━━━━━━━━━\u001b[0m\u001b[37m\u001b[0m \u001b[1m2s\u001b[0m 9ms/step - accuracy: 0.7915 - loss: 0.4325 - val_accuracy: 0.8092 - val_loss: 0.4115\n",
            "Epoch 5/10\n",
            "\u001b[1m141/141\u001b[0m \u001b[32m━━━━━━━━━━━━━━━━━━━━\u001b[0m\u001b[37m\u001b[0m \u001b[1m2s\u001b[0m 6ms/step - accuracy: 0.7959 - loss: 0.4319 - val_accuracy: 0.8048 - val_loss: 0.4115\n",
            "Epoch 6/10\n",
            "\u001b[1m141/141\u001b[0m \u001b[32m━━━━━━━━━━━━━━━━━━━━\u001b[0m\u001b[37m\u001b[0m \u001b[1m1s\u001b[0m 6ms/step - accuracy: 0.8021 - loss: 0.4174 - val_accuracy: 0.8083 - val_loss: 0.4128\n",
            "Epoch 7/10\n",
            "\u001b[1m141/141\u001b[0m \u001b[32m━━━━━━━━━━━━━━━━━━━━\u001b[0m\u001b[37m\u001b[0m \u001b[1m1s\u001b[0m 5ms/step - accuracy: 0.7940 - loss: 0.4308 - val_accuracy: 0.8128 - val_loss: 0.4080\n",
            "Epoch 8/10\n",
            "\u001b[1m141/141\u001b[0m \u001b[32m━━━━━━━━━━━━━━━━━━━━\u001b[0m\u001b[37m\u001b[0m \u001b[1m1s\u001b[0m 6ms/step - accuracy: 0.8022 - loss: 0.4219 - val_accuracy: 0.8066 - val_loss: 0.4102\n",
            "Epoch 9/10\n",
            "\u001b[1m141/141\u001b[0m \u001b[32m━━━━━━━━━━━━━━━━━━━━\u001b[0m\u001b[37m\u001b[0m \u001b[1m1s\u001b[0m 5ms/step - accuracy: 0.8053 - loss: 0.4114 - val_accuracy: 0.8092 - val_loss: 0.4121\n",
            "Epoch 10/10\n",
            "\u001b[1m141/141\u001b[0m \u001b[32m━━━━━━━━━━━━━━━━━━━━\u001b[0m\u001b[37m\u001b[0m \u001b[1m1s\u001b[0m 5ms/step - accuracy: 0.7911 - loss: 0.4340 - val_accuracy: 0.8066 - val_loss: 0.4119\n",
            "\u001b[1m45/45\u001b[0m \u001b[32m━━━━━━━━━━━━━━━━━━━━\u001b[0m\u001b[37m\u001b[0m \u001b[1m0s\u001b[0m 3ms/step\n",
            "CNN Accuracy: 81.19%\n",
            "\n",
            "Classification Report:\n",
            "              precision    recall  f1-score   support\n",
            "\n",
            "           0       0.83      0.93      0.88      1036\n",
            "           1       0.72      0.48      0.57       373\n",
            "\n",
            "    accuracy                           0.81      1409\n",
            "   macro avg       0.77      0.70      0.73      1409\n",
            "weighted avg       0.80      0.81      0.80      1409\n",
            "\n",
            "\n",
            "Confusion Matrix:\n",
            "[[966  70]\n",
            " [195 178]]\n",
            "CNN ROC-AUC Score: 0.86\n"
          ]
        },
        {
          "output_type": "display_data",
          "data": {
            "text/plain": [
              "<Figure size 640x480 with 1 Axes>"
            ],
            "image/png": "[encoded data removed]"
          },
          "metadata": {}
        }
      ]
    },
    {
      "cell_type": "markdown",
      "source": [
        "**ANN**"
      ],
      "metadata": {
        "id": "oOSHUyNoR8nF"
      }
    },
    {
      "cell_type": "code",
      "source": [
        "import numpy as np\n",
        "import tensorflow as tf\n",
        "from tensorflow.keras.models import Sequential\n",
        "from tensorflow.keras.layers import Dense, Dropout\n",
        "from tensorflow.keras.callbacks import EarlyStopping\n",
        "from sklearn.metrics import accuracy_score, classification_report, confusion_matrix, roc_auc_score, roc_curve\n",
        "import matplotlib.pyplot as plt\n",
        "\n",
        "# No need to reshape the input for ANN since ANN expects 2D data: (samples, features)\n",
        "X_train_ann = np.array(X_train)\n",
        "X_test_ann = np.array(X_test)\n",
        "\n",
        "# Define the ANN model using a different variable name (ann_model)\n",
        "ann_model = Sequential()\n",
        "\n",
        "# Add a Dense input layer (hidden layer 1) with 128 units and ReLU activation\n",
        "ann_model.add(Dense(128, activation='relu', input_shape=(X_train_ann.shape[1],)))\n",
        "\n",
        "# Add Dropout to prevent overfitting\n",
        "ann_model.add(Dropout(0.3))\n",
        "\n",
        "# Add another Dense hidden layer (hidden layer 2) with 64 units and ReLU activation\n",
        "ann_model.add(Dense(64, activation='relu'))\n",
        "\n",
        "# Add the output layer with a sigmoid activation for binary classification\n",
        "ann_model.add(Dense(1, activation='sigmoid'))\n",
        "\n",
        "# Compile the ANN model\n",
        "ann_model.compile(optimizer='adam', loss='binary_crossentropy', metrics=['accuracy'])\n",
        "\n",
        "# Implement EarlyStopping\n",
        "early_stopping = EarlyStopping(monitor='val_loss', patience=3, restore_best_weights=True)\n",
        "\n",
        "# Train the ANN model with Early Stopping\n",
        "history_ann = ann_model.fit(X_train_ann, y_train,\n",
        "                            epochs=50,  # Set a higher number of epochs\n",
        "                            batch_size=32,\n",
        "                            validation_split=0.2,\n",
        "                            callbacks=[early_stopping],\n",
        "                            verbose=1)\n",
        "\n",
        "# Visualize Training History (Accuracy per Epoch)\n",
        "plt.plot(history_ann.history['accuracy'], label='Training Accuracy')\n",
        "plt.plot(history_ann.history['val_accuracy'], label='Validation Accuracy')\n",
        "plt.xlabel('Epochs')\n",
        "plt.ylabel('Accuracy')\n",
        "plt.title('Training and Validation Accuracy')\n",
        "plt.legend()\n",
        "plt.show()\n",
        "\n",
        "# Make predictions on the test set\n",
        "y_pred_prob_ann = ann_model.predict(X_test_ann)  # Get predicted probabilities\n",
        "y_pred_ann = (y_pred_prob_ann > 0.5).astype(\"int32\")\n",
        "\n",
        "# Evaluate the ANN model\n",
        "accuracy_ann = accuracy_score(y_test, y_pred_ann)\n",
        "print(f\"ANN Accuracy: {accuracy_ann * 100:.2f}%\")\n",
        "\n",
        "# Print classification report and confusion matrix\n",
        "print(\"\\nClassification Report:\")\n",
        "print(classification_report(y_test, y_pred_ann))\n",
        "\n",
        "print(\"\\nConfusion Matrix:\")\n",
        "print(confusion_matrix(y_test, y_pred_ann))\n",
        "\n",
        "# Calculate ROC-AUC score\n",
        "roc_auc_ann = roc_auc_score(y_test, y_pred_prob_ann)\n",
        "print(f\"ANN ROC-AUC Score: {roc_auc_ann:.2f}\")\n",
        "\n",
        "# Plot ROC curve\n",
        "fpr_ann, tpr_ann, _ = roc_curve(y_test, y_pred_prob_ann)\n",
        "plt.figure()\n",
        "plt.plot(fpr_ann, tpr_ann, color='red', label=f'ROC Curve (area = {roc_auc_ann:.2f})')\n",
        "plt.plot([0, 1], [0, 1], color='gray', linestyle='--')\n",
        "plt.xlim([0.0, 1.0])\n",
        "plt.ylim([0.0, 1.05])\n",
        "plt.xlabel('False Positive Rate')\n",
        "plt.ylabel('True Positive Rate')\n",
        "plt.title('ROC Curve for ANN Model')\n",
        "plt.legend(loc='lower right')\n",
        "plt.show()\n",
        "\n"
      ],
      "metadata": {
        "id": "MeBWaDjYoJNF",
        "colab": {
          "base_uri": "https://localhost:8080/",
          "height": 1000
        },
        "outputId": "da4e9557-b059-4d05-c9e5-211a8a0577bd"
      },
      "execution_count": 38,
      "outputs": [
        {
          "output_type": "stream",
          "name": "stdout",
          "text": [
            "Epoch 1/50\n"
          ]
        },
        {
          "output_type": "stream",
          "name": "stderr",
          "text": [
            "/usr/local/lib/python3.10/dist-packages/keras/src/layers/core/dense.py:87: UserWarning: Do not pass an `input_shape`/`input_dim` argument to a layer. When using Sequential models, prefer using an `Input(shape)` object as the first layer in the model instead.\n",
            "  super().__init__(activity_regularizer=activity_regularizer, **kwargs)\n"
          ]
        },
        {
          "output_type": "stream",
          "name": "stdout",
          "text": [
            "\u001b[1m141/141\u001b[0m \u001b[32m━━━━━━━━━━━━━━━━━━━━\u001b[0m\u001b[37m\u001b[0m \u001b[1m2s\u001b[0m 4ms/step - accuracy: 0.7339 - loss: 0.5266 - val_accuracy: 0.8083 - val_loss: 0.4179\n",
            "Epoch 2/50\n",
            "\u001b[1m141/141\u001b[0m \u001b[32m━━━━━━━━━━━━━━━━━━━━\u001b[0m\u001b[37m\u001b[0m \u001b[1m1s\u001b[0m 5ms/step - accuracy: 0.7823 - loss: 0.4463 - val_accuracy: 0.8083 - val_loss: 0.4162\n",
            "Epoch 3/50\n",
            "\u001b[1m141/141\u001b[0m \u001b[32m━━━━━━━━━━━━━━━━━━━━\u001b[0m\u001b[37m\u001b[0m \u001b[1m1s\u001b[0m 5ms/step - accuracy: 0.7965 - loss: 0.4361 - val_accuracy: 0.8048 - val_loss: 0.4123\n",
            "Epoch 4/50\n",
            "\u001b[1m141/141\u001b[0m \u001b[32m━━━━━━━━━━━━━━━━━━━━\u001b[0m\u001b[37m\u001b[0m \u001b[1m1s\u001b[0m 5ms/step - accuracy: 0.7903 - loss: 0.4354 - val_accuracy: 0.8030 - val_loss: 0.4106\n",
            "Epoch 5/50\n",
            "\u001b[1m141/141\u001b[0m \u001b[32m━━━━━━━━━━━━━━━━━━━━\u001b[0m\u001b[37m\u001b[0m \u001b[1m1s\u001b[0m 5ms/step - accuracy: 0.8082 - loss: 0.4052 - val_accuracy: 0.8083 - val_loss: 0.4098\n",
            "Epoch 6/50\n",
            "\u001b[1m141/141\u001b[0m \u001b[32m━━━━━━━━━━━━━━━━━━━━\u001b[0m\u001b[37m\u001b[0m \u001b[1m1s\u001b[0m 5ms/step - accuracy: 0.7948 - loss: 0.4283 - val_accuracy: 0.8030 - val_loss: 0.4151\n",
            "Epoch 7/50\n",
            "\u001b[1m141/141\u001b[0m \u001b[32m━━━━━━━━━━━━━━━━━━━━\u001b[0m\u001b[37m\u001b[0m \u001b[1m1s\u001b[0m 3ms/step - accuracy: 0.7901 - loss: 0.4274 - val_accuracy: 0.8101 - val_loss: 0.4164\n",
            "Epoch 8/50\n",
            "\u001b[1m141/141\u001b[0m \u001b[32m━━━━━━━━━━━━━━━━━━━━\u001b[0m\u001b[37m\u001b[0m \u001b[1m1s\u001b[0m 3ms/step - accuracy: 0.7994 - loss: 0.4349 - val_accuracy: 0.8066 - val_loss: 0.4082\n",
            "Epoch 9/50\n",
            "\u001b[1m141/141\u001b[0m \u001b[32m━━━━━━━━━━━━━━━━━━━━\u001b[0m\u001b[37m\u001b[0m \u001b[1m0s\u001b[0m 3ms/step - accuracy: 0.8041 - loss: 0.4266 - val_accuracy: 0.8012 - val_loss: 0.4092\n",
            "Epoch 10/50\n",
            "\u001b[1m141/141\u001b[0m \u001b[32m━━━━━━━━━━━━━━━━━━━━\u001b[0m\u001b[37m\u001b[0m \u001b[1m1s\u001b[0m 3ms/step - accuracy: 0.8003 - loss: 0.4201 - val_accuracy: 0.8048 - val_loss: 0.4078\n",
            "Epoch 11/50\n",
            "\u001b[1m141/141\u001b[0m \u001b[32m━━━━━━━━━━━━━━━━━━━━\u001b[0m\u001b[37m\u001b[0m \u001b[1m1s\u001b[0m 3ms/step - accuracy: 0.7996 - loss: 0.4115 - val_accuracy: 0.8075 - val_loss: 0.4077\n",
            "Epoch 12/50\n",
            "\u001b[1m141/141\u001b[0m \u001b[32m━━━━━━━━━━━━━━━━━━━━\u001b[0m\u001b[37m\u001b[0m \u001b[1m1s\u001b[0m 3ms/step - accuracy: 0.8032 - loss: 0.4074 - val_accuracy: 0.8110 - val_loss: 0.4092\n",
            "Epoch 13/50\n",
            "\u001b[1m141/141\u001b[0m \u001b[32m━━━━━━━━━━━━━━━━━━━━\u001b[0m\u001b[37m\u001b[0m \u001b[1m1s\u001b[0m 3ms/step - accuracy: 0.7974 - loss: 0.4148 - val_accuracy: 0.8163 - val_loss: 0.4058\n",
            "Epoch 14/50\n",
            "\u001b[1m141/141\u001b[0m \u001b[32m━━━━━━━━━━━━━━━━━━━━\u001b[0m\u001b[37m\u001b[0m \u001b[1m1s\u001b[0m 4ms/step - accuracy: 0.8117 - loss: 0.4059 - val_accuracy: 0.8004 - val_loss: 0.4135\n",
            "Epoch 15/50\n",
            "\u001b[1m141/141\u001b[0m \u001b[32m━━━━━━━━━━━━━━━━━━━━\u001b[0m\u001b[37m\u001b[0m \u001b[1m1s\u001b[0m 4ms/step - accuracy: 0.8088 - loss: 0.4109 - val_accuracy: 0.7995 - val_loss: 0.4115\n",
            "Epoch 16/50\n",
            "\u001b[1m141/141\u001b[0m \u001b[32m━━━━━━━━━━━━━━━━━━━━\u001b[0m\u001b[37m\u001b[0m \u001b[1m0s\u001b[0m 3ms/step - accuracy: 0.8148 - loss: 0.3990 - val_accuracy: 0.7977 - val_loss: 0.4128\n"
          ]
        },
        {
          "output_type": "display_data",
          "data": {
            "text/plain": [
              "<Figure size 640x480 with 1 Axes>"
            ],
            "image/png": "[encoded data removed]"
          },
          "metadata": {}
        },
        {
          "output_type": "stream",
          "name": "stdout",
          "text": [
            "\u001b[1m45/45\u001b[0m \u001b[32m━━━━━━━━━━━━━━━━━━━━\u001b[0m\u001b[37m\u001b[0m \u001b[1m0s\u001b[0m 3ms/step\n",
            "ANN Accuracy: 81.26%\n",
            "\n",
            "Classification Report:\n",
            "              precision    recall  f1-score   support\n",
            "\n",
            "           0       0.84      0.92      0.88      1036\n",
            "           1       0.70      0.51      0.59       373\n",
            "\n",
            "    accuracy                           0.81      1409\n",
            "   macro avg       0.77      0.71      0.73      1409\n",
            "weighted avg       0.80      0.81      0.80      1409\n",
            "\n",
            "\n",
            "Confusion Matrix:\n",
            "[[956  80]\n",
            " [184 189]]\n",
            "ANN ROC-AUC Score: 0.86\n"
          ]
        },
        {
          "output_type": "display_data",
          "data": {
            "text/plain": [
              "<Figure size 640x480 with 1 Axes>"
            ],
            "image/png": "[encoded data removed]"
          },
          "metadata": {}
        }
      ]
    },
    {
      "cell_type": "markdown",
      "source": [
        "**COMPARISON OF RESULTS**"
      ],
      "metadata": {
        "id": "EvQU9Wm_aDj2"
      }
    },
    {
      "cell_type": "code",
      "source": [
        "# Compare results for all models (LSTM, BiLSTM, CNN, and ANN)\n",
        "\n",
        "# Store the accuracy scores in a dictionary\n",
        "accuracy_scores = {\n",
        "    \"LSTM\": accuracy_lstm,\n",
        "    \"BiLSTM\": accuracy_bilstm,\n",
        "    \"MLP\": accuracy_mlp,\n",
        "    \"CNN\": accuracy_cnn,\n",
        "    \"ANN\": accuracy_ann\n",
        "}\n",
        "\n",
        "# Print accuracy comparison\n",
        "print(\"Model Accuracy Comparison:\")\n",
        "for model, accuracy in accuracy_scores.items():\n",
        "    print(f\"{model}: {accuracy * 100:.2f}%\")\n",
        "\n",
        "\n",
        "\n",
        "\n"
      ],
      "metadata": {
        "id": "VmNWIanvf_wH",
        "colab": {
          "base_uri": "https://localhost:8080/"
        },
        "outputId": "cdedaccd-4620-44c3-dd65-dd3b17ea24e6"
      },
      "execution_count": 39,
      "outputs": [
        {
          "output_type": "stream",
          "name": "stdout",
          "text": [
            "Model Accuracy Comparison:\n",
            "LSTM: 81.62%\n",
            "BiLSTM: 81.55%\n",
            "MLP: 81.41%\n",
            "CNN: 81.19%\n",
            "ANN: 81.26%\n"
          ]
        }
      ]
    },
    {
      "cell_type": "code",
      "source": [
        "# Store the ROC-AUC scores in a dictionary\n",
        "roc_auc_scores = {\n",
        "    \"LSTM\": roc_auc_lstm,\n",
        "    \"BiLSTM\": roc_auc_bilstm,\n",
        "    \"MLP\": roc_auc_mlp,\n",
        "    \"CNN\": roc_auc_cnn,\n",
        "    \"ANN\": roc_auc_ann\n",
        "}\n",
        "\n",
        "# Print ROC-AUC comparison\n",
        "print(\"Model ROC-AUC Score Comparison:\")\n",
        "for model, roc_auc in roc_auc_scores.items():\n",
        "    print(f\"{model}: {roc_auc:.2f}\")\n"
      ],
      "metadata": {
        "id": "ql_IumjcyZUA",
        "colab": {
          "base_uri": "https://localhost:8080/"
        },
        "outputId": "0f30c1f6-a639-4713-935b-864fc844ade0"
      },
      "execution_count": 40,
      "outputs": [
        {
          "output_type": "stream",
          "name": "stdout",
          "text": [
            "Model ROC-AUC Score Comparison:\n",
            "LSTM: 0.86\n",
            "BiLSTM: 0.86\n",
            "MLP: 0.86\n",
            "CNN: 0.86\n",
            "ANN: 0.86\n"
          ]
        }
      ]
    },
    {
      "cell_type": "code",
      "source": [
        "\n",
        "# Print classification reports for all models\n",
        "print(\"\\nClassification Reports:\")\n",
        "print(\"\\nLSTM Classification Report:\")\n",
        "print(classification_report(y_test, y_pred_lstm))\n",
        "\n",
        "print(\"\\nBiLSTM Classification Report:\")\n",
        "print(classification_report(y_test, y_pred_bilstm))\n",
        "\n",
        "print(\"\\nMLP Classification Report:\")\n",
        "print(classification_report(y_test, y_pred_mlp))\n",
        "\n",
        "print(\"\\nCNN Classification Report:\")\n",
        "print(classification_report(y_test, y_pred_cnn))\n",
        "\n",
        "print(\"\\nANN Classification Report:\")\n",
        "print(classification_report(y_test, y_pred_ann))\n",
        "\n",
        "# Print confusion matrices for all models\n",
        "print(\"\\nConfusion Matrices:\")\n",
        "print(\"\\nLSTM Confusion Matrix:\")\n",
        "print(confusion_matrix(y_test, y_pred_lstm))\n",
        "\n",
        "print(\"\\nBiLSTM Confusion Matrix:\")\n",
        "print(confusion_matrix(y_test, y_pred_bilstm))\n",
        "\n",
        "print(\"\\nMLP Confusion Matrix:\")\n",
        "print(confusion_matrix(y_test, y_pred_mlp))\n",
        "\n",
        "print(\"\\nCNN Confusion Matrix:\")\n",
        "print(confusion_matrix(y_test, y_pred_cnn))\n",
        "\n",
        "print(\"\\nANN Confusion Matrix:\")\n",
        "print(confusion_matrix(y_test, y_pred_ann))"
      ],
      "metadata": {
        "id": "EgsCtfiIxdhp",
        "colab": {
          "base_uri": "https://localhost:8080/"
        },
        "outputId": "b7e6c6ec-e4c5-47ac-ba9d-303c36c1398f"
      },
      "execution_count": 41,
      "outputs": [
        {
          "output_type": "stream",
          "name": "stdout",
          "text": [
            "\n",
            "Classification Reports:\n",
            "\n",
            "LSTM Classification Report:\n",
            "              precision    recall  f1-score   support\n",
            "\n",
            "           0       0.86      0.90      0.88      1036\n",
            "           1       0.68      0.59      0.63       373\n",
            "\n",
            "    accuracy                           0.82      1409\n",
            "   macro avg       0.77      0.74      0.75      1409\n",
            "weighted avg       0.81      0.82      0.81      1409\n",
            "\n",
            "\n",
            "BiLSTM Classification Report:\n",
            "              precision    recall  f1-score   support\n",
            "\n",
            "           0       0.85      0.90      0.88      1036\n",
            "           1       0.68      0.57      0.62       373\n",
            "\n",
            "    accuracy                           0.82      1409\n",
            "   macro avg       0.77      0.74      0.75      1409\n",
            "weighted avg       0.81      0.82      0.81      1409\n",
            "\n",
            "\n",
            "MLP Classification Report:\n",
            "              precision    recall  f1-score   support\n",
            "\n",
            "           0       0.86      0.89      0.88      1036\n",
            "           1       0.66      0.60      0.63       373\n",
            "\n",
            "    accuracy                           0.81      1409\n",
            "   macro avg       0.76      0.75      0.75      1409\n",
            "weighted avg       0.81      0.81      0.81      1409\n",
            "\n",
            "\n",
            "CNN Classification Report:\n",
            "              precision    recall  f1-score   support\n",
            "\n",
            "           0       0.83      0.93      0.88      1036\n",
            "           1       0.72      0.48      0.57       373\n",
            "\n",
            "    accuracy                           0.81      1409\n",
            "   macro avg       0.77      0.70      0.73      1409\n",
            "weighted avg       0.80      0.81      0.80      1409\n",
            "\n",
            "\n",
            "ANN Classification Report:\n",
            "              precision    recall  f1-score   support\n",
            "\n",
            "           0       0.84      0.92      0.88      1036\n",
            "           1       0.70      0.51      0.59       373\n",
            "\n",
            "    accuracy                           0.81      1409\n",
            "   macro avg       0.77      0.71      0.73      1409\n",
            "weighted avg       0.80      0.81      0.80      1409\n",
            "\n",
            "\n",
            "Confusion Matrices:\n",
            "\n",
            "LSTM Confusion Matrix:\n",
            "[[931 105]\n",
            " [154 219]]\n",
            "\n",
            "BiLSTM Confusion Matrix:\n",
            "[[935 101]\n",
            " [159 214]]\n",
            "\n",
            "MLP Confusion Matrix:\n",
            "[[922 114]\n",
            " [148 225]]\n",
            "\n",
            "CNN Confusion Matrix:\n",
            "[[966  70]\n",
            " [195 178]]\n",
            "\n",
            "ANN Confusion Matrix:\n",
            "[[956  80]\n",
            " [184 189]]\n"
          ]
        }
      ]
    },
    {
      "cell_type": "markdown",
      "source": [
        "**ENSEMBLING**"
      ],
      "metadata": {
        "id": "dVe9ZfKLZ-cz"
      }
    },
    {
      "cell_type": "code",
      "source": [
        "print(type(lstm_model))  # Should show <class 'tensorflow.python.keras.engine.sequential.Sequential'> or similar\n",
        "print(type(bilstm_model))\n",
        "print(type(mlp_model))\n",
        "print(type(cnn_model))\n",
        "print(type(ann_model))"
      ],
      "metadata": {
        "id": "wDx0gHDWfbAM",
        "colab": {
          "base_uri": "https://localhost:8080/"
        },
        "outputId": "beb430c1-6bdb-4ef0-e9a5-ef43910b520f"
      },
      "execution_count": 42,
      "outputs": [
        {
          "output_type": "stream",
          "name": "stdout",
          "text": [
            "<class 'keras.src.models.sequential.Sequential'>\n",
            "<class 'keras.src.models.sequential.Sequential'>\n",
            "<class 'keras.src.models.sequential.Sequential'>\n",
            "<class 'keras.src.models.sequential.Sequential'>\n",
            "<class 'keras.src.models.sequential.Sequential'>\n"
          ]
        }
      ]
    },
    {
      "cell_type": "code",
      "source": [
        "!pip install tensorflow"
      ],
      "metadata": {
        "id": "yCKF-L27zuPP",
        "colab": {
          "base_uri": "https://localhost:8080/"
        },
        "outputId": "f892848e-0ed4-4443-dce3-225d2c1ae008"
      },
      "execution_count": 43,
      "outputs": [
        {
          "output_type": "stream",
          "name": "stdout",
          "text": [
            "Requirement already satisfied: tensorflow in /usr/local/lib/python3.10/dist-packages (2.17.0)\n",
            "Requirement already satisfied: absl-py>=1.0.0 in /usr/local/lib/python3.10/dist-packages (from tensorflow) (1.4.0)\n",
            "Requirement already satisfied: astunparse>=1.6.0 in /usr/local/lib/python3.10/dist-packages (from tensorflow) (1.6.3)\n",
            "Requirement already satisfied: flatbuffers>=24.3.25 in /usr/local/lib/python3.10/dist-packages (from tensorflow) (24.3.25)\n",
            "Requirement already satisfied: gast!=0.5.0,!=0.5.1,!=0.5.2,>=0.2.1 in /usr/local/lib/python3.10/dist-packages (from tensorflow) (0.6.0)\n",
            "Requirement already satisfied: google-pasta>=0.1.1 in /usr/local/lib/python3.10/dist-packages (from tensorflow) (0.2.0)\n",
            "Requirement already satisfied: h5py>=3.10.0 in /usr/local/lib/python3.10/dist-packages (from tensorflow) (3.11.0)\n",
            "Requirement already satisfied: libclang>=13.0.0 in /usr/local/lib/python3.10/dist-packages (from tensorflow) (18.1.1)\n",
            "Requirement already satisfied: ml-dtypes<0.5.0,>=0.3.1 in /usr/local/lib/python3.10/dist-packages (from tensorflow) (0.4.1)\n",
            "Requirement already satisfied: opt-einsum>=2.3.2 in /usr/local/lib/python3.10/dist-packages (from tensorflow) (3.4.0)\n",
            "Requirement already satisfied: packaging in /usr/local/lib/python3.10/dist-packages (from tensorflow) (24.1)\n",
            "Requirement already satisfied: protobuf!=4.21.0,!=4.21.1,!=4.21.2,!=4.21.3,!=4.21.4,!=4.21.5,<5.0.0dev,>=3.20.3 in /usr/local/lib/python3.10/dist-packages (from tensorflow) (3.20.3)\n",
            "Requirement already satisfied: requests<3,>=2.21.0 in /usr/local/lib/python3.10/dist-packages (from tensorflow) (2.32.3)\n",
            "Requirement already satisfied: setuptools in /usr/local/lib/python3.10/dist-packages (from tensorflow) (71.0.4)\n",
            "Requirement already satisfied: six>=1.12.0 in /usr/local/lib/python3.10/dist-packages (from tensorflow) (1.16.0)\n",
            "Requirement already satisfied: termcolor>=1.1.0 in /usr/local/lib/python3.10/dist-packages (from tensorflow) (2.5.0)\n",
            "Requirement already satisfied: typing-extensions>=3.6.6 in /usr/local/lib/python3.10/dist-packages (from tensorflow) (4.12.2)\n",
            "Requirement already satisfied: wrapt>=1.11.0 in /usr/local/lib/python3.10/dist-packages (from tensorflow) (1.16.0)\n",
            "Requirement already satisfied: grpcio<2.0,>=1.24.3 in /usr/local/lib/python3.10/dist-packages (from tensorflow) (1.64.1)\n",
            "Requirement already satisfied: tensorboard<2.18,>=2.17 in /usr/local/lib/python3.10/dist-packages (from tensorflow) (2.17.0)\n",
            "Requirement already satisfied: keras>=3.2.0 in /usr/local/lib/python3.10/dist-packages (from tensorflow) (3.4.1)\n",
            "Requirement already satisfied: tensorflow-io-gcs-filesystem>=0.23.1 in /usr/local/lib/python3.10/dist-packages (from tensorflow) (0.37.1)\n",
            "Requirement already satisfied: numpy<2.0.0,>=1.23.5 in /usr/local/lib/python3.10/dist-packages (from tensorflow) (1.26.4)\n",
            "Requirement already satisfied: wheel<1.0,>=0.23.0 in /usr/local/lib/python3.10/dist-packages (from astunparse>=1.6.0->tensorflow) (0.44.0)\n",
            "Requirement already satisfied: rich in /usr/local/lib/python3.10/dist-packages (from keras>=3.2.0->tensorflow) (13.9.2)\n",
            "Requirement already satisfied: namex in /usr/local/lib/python3.10/dist-packages (from keras>=3.2.0->tensorflow) (0.0.8)\n",
            "Requirement already satisfied: optree in /usr/local/lib/python3.10/dist-packages (from keras>=3.2.0->tensorflow) (0.13.0)\n",
            "Requirement already satisfied: charset-normalizer<4,>=2 in /usr/local/lib/python3.10/dist-packages (from requests<3,>=2.21.0->tensorflow) (3.4.0)\n",
            "Requirement already satisfied: idna<4,>=2.5 in /usr/local/lib/python3.10/dist-packages (from requests<3,>=2.21.0->tensorflow) (3.10)\n",
            "Requirement already satisfied: urllib3<3,>=1.21.1 in /usr/local/lib/python3.10/dist-packages (from requests<3,>=2.21.0->tensorflow) (2.2.3)\n",
            "Requirement already satisfied: certifi>=2017.4.17 in /usr/local/lib/python3.10/dist-packages (from requests<3,>=2.21.0->tensorflow) (2024.8.30)\n",
            "Requirement already satisfied: markdown>=2.6.8 in /usr/local/lib/python3.10/dist-packages (from tensorboard<2.18,>=2.17->tensorflow) (3.7)\n",
            "Requirement already satisfied: tensorboard-data-server<0.8.0,>=0.7.0 in /usr/local/lib/python3.10/dist-packages (from tensorboard<2.18,>=2.17->tensorflow) (0.7.2)\n",
            "Requirement already satisfied: werkzeug>=1.0.1 in /usr/local/lib/python3.10/dist-packages (from tensorboard<2.18,>=2.17->tensorflow) (3.0.4)\n",
            "Requirement already satisfied: MarkupSafe>=2.1.1 in /usr/local/lib/python3.10/dist-packages (from werkzeug>=1.0.1->tensorboard<2.18,>=2.17->tensorflow) (3.0.1)\n",
            "Requirement already satisfied: markdown-it-py>=2.2.0 in /usr/local/lib/python3.10/dist-packages (from rich->keras>=3.2.0->tensorflow) (3.0.0)\n",
            "Requirement already satisfied: pygments<3.0.0,>=2.13.0 in /usr/local/lib/python3.10/dist-packages (from rich->keras>=3.2.0->tensorflow) (2.18.0)\n",
            "Requirement already satisfied: mdurl~=0.1 in /usr/local/lib/python3.10/dist-packages (from markdown-it-py>=2.2.0->rich->keras>=3.2.0->tensorflow) (0.1.2)\n"
          ]
        }
      ]
    },
    {
      "cell_type": "code",
      "source": [
        "!pip install tensorflow scikit-learn"
      ],
      "metadata": {
        "id": "arpodek41eE_",
        "colab": {
          "base_uri": "https://localhost:8080/"
        },
        "outputId": "68d12eb9-694e-49e5-bb60-133d38816598"
      },
      "execution_count": 44,
      "outputs": [
        {
          "output_type": "stream",
          "name": "stdout",
          "text": [
            "Requirement already satisfied: tensorflow in /usr/local/lib/python3.10/dist-packages (2.17.0)\n",
            "Requirement already satisfied: scikit-learn in /usr/local/lib/python3.10/dist-packages (1.5.2)\n",
            "Requirement already satisfied: absl-py>=1.0.0 in /usr/local/lib/python3.10/dist-packages (from tensorflow) (1.4.0)\n",
            "Requirement already satisfied: astunparse>=1.6.0 in /usr/local/lib/python3.10/dist-packages (from tensorflow) (1.6.3)\n",
            "Requirement already satisfied: flatbuffers>=24.3.25 in /usr/local/lib/python3.10/dist-packages (from tensorflow) (24.3.25)\n",
            "Requirement already satisfied: gast!=0.5.0,!=0.5.1,!=0.5.2,>=0.2.1 in /usr/local/lib/python3.10/dist-packages (from tensorflow) (0.6.0)\n",
            "Requirement already satisfied: google-pasta>=0.1.1 in /usr/local/lib/python3.10/dist-packages (from tensorflow) (0.2.0)\n",
            "Requirement already satisfied: h5py>=3.10.0 in /usr/local/lib/python3.10/dist-packages (from tensorflow) (3.11.0)\n",
            "Requirement already satisfied: libclang>=13.0.0 in /usr/local/lib/python3.10/dist-packages (from tensorflow) (18.1.1)\n",
            "Requirement already satisfied: ml-dtypes<0.5.0,>=0.3.1 in /usr/local/lib/python3.10/dist-packages (from tensorflow) (0.4.1)\n",
            "Requirement already satisfied: opt-einsum>=2.3.2 in /usr/local/lib/python3.10/dist-packages (from tensorflow) (3.4.0)\n",
            "Requirement already satisfied: packaging in /usr/local/lib/python3.10/dist-packages (from tensorflow) (24.1)\n",
            "Requirement already satisfied: protobuf!=4.21.0,!=4.21.1,!=4.21.2,!=4.21.3,!=4.21.4,!=4.21.5,<5.0.0dev,>=3.20.3 in /usr/local/lib/python3.10/dist-packages (from tensorflow) (3.20.3)\n",
            "Requirement already satisfied: requests<3,>=2.21.0 in /usr/local/lib/python3.10/dist-packages (from tensorflow) (2.32.3)\n",
            "Requirement already satisfied: setuptools in /usr/local/lib/python3.10/dist-packages (from tensorflow) (71.0.4)\n",
            "Requirement already satisfied: six>=1.12.0 in /usr/local/lib/python3.10/dist-packages (from tensorflow) (1.16.0)\n",
            "Requirement already satisfied: termcolor>=1.1.0 in /usr/local/lib/python3.10/dist-packages (from tensorflow) (2.5.0)\n",
            "Requirement already satisfied: typing-extensions>=3.6.6 in /usr/local/lib/python3.10/dist-packages (from tensorflow) (4.12.2)\n",
            "Requirement already satisfied: wrapt>=1.11.0 in /usr/local/lib/python3.10/dist-packages (from tensorflow) (1.16.0)\n",
            "Requirement already satisfied: grpcio<2.0,>=1.24.3 in /usr/local/lib/python3.10/dist-packages (from tensorflow) (1.64.1)\n",
            "Requirement already satisfied: tensorboard<2.18,>=2.17 in /usr/local/lib/python3.10/dist-packages (from tensorflow) (2.17.0)\n",
            "Requirement already satisfied: keras>=3.2.0 in /usr/local/lib/python3.10/dist-packages (from tensorflow) (3.4.1)\n",
            "Requirement already satisfied: tensorflow-io-gcs-filesystem>=0.23.1 in /usr/local/lib/python3.10/dist-packages (from tensorflow) (0.37.1)\n",
            "Requirement already satisfied: numpy<2.0.0,>=1.23.5 in /usr/local/lib/python3.10/dist-packages (from tensorflow) (1.26.4)\n",
            "Requirement already satisfied: scipy>=1.6.0 in /usr/local/lib/python3.10/dist-packages (from scikit-learn) (1.13.1)\n",
            "Requirement already satisfied: joblib>=1.2.0 in /usr/local/lib/python3.10/dist-packages (from scikit-learn) (1.4.2)\n",
            "Requirement already satisfied: threadpoolctl>=3.1.0 in /usr/local/lib/python3.10/dist-packages (from scikit-learn) (3.5.0)\n",
            "Requirement already satisfied: wheel<1.0,>=0.23.0 in /usr/local/lib/python3.10/dist-packages (from astunparse>=1.6.0->tensorflow) (0.44.0)\n",
            "Requirement already satisfied: rich in /usr/local/lib/python3.10/dist-packages (from keras>=3.2.0->tensorflow) (13.9.2)\n",
            "Requirement already satisfied: namex in /usr/local/lib/python3.10/dist-packages (from keras>=3.2.0->tensorflow) (0.0.8)\n",
            "Requirement already satisfied: optree in /usr/local/lib/python3.10/dist-packages (from keras>=3.2.0->tensorflow) (0.13.0)\n",
            "Requirement already satisfied: charset-normalizer<4,>=2 in /usr/local/lib/python3.10/dist-packages (from requests<3,>=2.21.0->tensorflow) (3.4.0)\n",
            "Requirement already satisfied: idna<4,>=2.5 in /usr/local/lib/python3.10/dist-packages (from requests<3,>=2.21.0->tensorflow) (3.10)\n",
            "Requirement already satisfied: urllib3<3,>=1.21.1 in /usr/local/lib/python3.10/dist-packages (from requests<3,>=2.21.0->tensorflow) (2.2.3)\n",
            "Requirement already satisfied: certifi>=2017.4.17 in /usr/local/lib/python3.10/dist-packages (from requests<3,>=2.21.0->tensorflow) (2024.8.30)\n",
            "Requirement already satisfied: markdown>=2.6.8 in /usr/local/lib/python3.10/dist-packages (from tensorboard<2.18,>=2.17->tensorflow) (3.7)\n",
            "Requirement already satisfied: tensorboard-data-server<0.8.0,>=0.7.0 in /usr/local/lib/python3.10/dist-packages (from tensorboard<2.18,>=2.17->tensorflow) (0.7.2)\n",
            "Requirement already satisfied: werkzeug>=1.0.1 in /usr/local/lib/python3.10/dist-packages (from tensorboard<2.18,>=2.17->tensorflow) (3.0.4)\n",
            "Requirement already satisfied: MarkupSafe>=2.1.1 in /usr/local/lib/python3.10/dist-packages (from werkzeug>=1.0.1->tensorboard<2.18,>=2.17->tensorflow) (3.0.1)\n",
            "Requirement already satisfied: markdown-it-py>=2.2.0 in /usr/local/lib/python3.10/dist-packages (from rich->keras>=3.2.0->tensorflow) (3.0.0)\n",
            "Requirement already satisfied: pygments<3.0.0,>=2.13.0 in /usr/local/lib/python3.10/dist-packages (from rich->keras>=3.2.0->tensorflow) (2.18.0)\n",
            "Requirement already satisfied: mdurl~=0.1 in /usr/local/lib/python3.10/dist-packages (from markdown-it-py>=2.2.0->rich->keras>=3.2.0->tensorflow) (0.1.2)\n"
          ]
        }
      ]
    },
    {
      "cell_type": "code",
      "source": [
        "!pip install scikeras"
      ],
      "metadata": {
        "id": "o0fTHgh-1fYB",
        "colab": {
          "base_uri": "https://localhost:8080/"
        },
        "outputId": "a8cac1d0-9ee2-4e48-de79-558f16096c96"
      },
      "execution_count": 45,
      "outputs": [
        {
          "output_type": "stream",
          "name": "stdout",
          "text": [
            "Requirement already satisfied: scikeras in /usr/local/lib/python3.10/dist-packages (0.13.0)\n",
            "Requirement already satisfied: keras>=3.2.0 in /usr/local/lib/python3.10/dist-packages (from scikeras) (3.4.1)\n",
            "Requirement already satisfied: scikit-learn>=1.4.2 in /usr/local/lib/python3.10/dist-packages (from scikeras) (1.5.2)\n",
            "Requirement already satisfied: absl-py in /usr/local/lib/python3.10/dist-packages (from keras>=3.2.0->scikeras) (1.4.0)\n",
            "Requirement already satisfied: numpy in /usr/local/lib/python3.10/dist-packages (from keras>=3.2.0->scikeras) (1.26.4)\n",
            "Requirement already satisfied: rich in /usr/local/lib/python3.10/dist-packages (from keras>=3.2.0->scikeras) (13.9.2)\n",
            "Requirement already satisfied: namex in /usr/local/lib/python3.10/dist-packages (from keras>=3.2.0->scikeras) (0.0.8)\n",
            "Requirement already satisfied: h5py in /usr/local/lib/python3.10/dist-packages (from keras>=3.2.0->scikeras) (3.11.0)\n",
            "Requirement already satisfied: optree in /usr/local/lib/python3.10/dist-packages (from keras>=3.2.0->scikeras) (0.13.0)\n",
            "Requirement already satisfied: ml-dtypes in /usr/local/lib/python3.10/dist-packages (from keras>=3.2.0->scikeras) (0.4.1)\n",
            "Requirement already satisfied: packaging in /usr/local/lib/python3.10/dist-packages (from keras>=3.2.0->scikeras) (24.1)\n",
            "Requirement already satisfied: scipy>=1.6.0 in /usr/local/lib/python3.10/dist-packages (from scikit-learn>=1.4.2->scikeras) (1.13.1)\n",
            "Requirement already satisfied: joblib>=1.2.0 in /usr/local/lib/python3.10/dist-packages (from scikit-learn>=1.4.2->scikeras) (1.4.2)\n",
            "Requirement already satisfied: threadpoolctl>=3.1.0 in /usr/local/lib/python3.10/dist-packages (from scikit-learn>=1.4.2->scikeras) (3.5.0)\n",
            "Requirement already satisfied: typing-extensions>=4.5.0 in /usr/local/lib/python3.10/dist-packages (from optree->keras>=3.2.0->scikeras) (4.12.2)\n",
            "Requirement already satisfied: markdown-it-py>=2.2.0 in /usr/local/lib/python3.10/dist-packages (from rich->keras>=3.2.0->scikeras) (3.0.0)\n",
            "Requirement already satisfied: pygments<3.0.0,>=2.13.0 in /usr/local/lib/python3.10/dist-packages (from rich->keras>=3.2.0->scikeras) (2.18.0)\n",
            "Requirement already satisfied: mdurl~=0.1 in /usr/local/lib/python3.10/dist-packages (from markdown-it-py>=2.2.0->rich->keras>=3.2.0->scikeras) (0.1.2)\n"
          ]
        }
      ]
    },
    {
      "cell_type": "markdown",
      "source": [
        "**VOTING CLASSIFIER**"
      ],
      "metadata": {
        "id": "ASuyPcNaZuYu"
      }
    },
    {
      "cell_type": "code",
      "source": [
        "import numpy as np\n",
        "from scikeras.wrappers import KerasClassifier\n",
        "from sklearn.ensemble import VotingClassifier\n",
        "from sklearn.linear_model import LogisticRegression\n",
        "from sklearn.svm import SVC\n",
        "from sklearn.ensemble import RandomForestClassifier\n",
        "from sklearn.metrics import roc_auc_score, accuracy_score\n",
        "\n",
        "\n",
        "\n",
        "# Define your model-building functions for each Keras model\n",
        "\n",
        "def build_ann_model():\n",
        "    # Your ANN model definition\n",
        "    model = ann_model  # replace with your actual ANN model creation code\n",
        "    return model\n",
        "\n",
        "def build_mlp_model():\n",
        "    # Your MLP model definition\n",
        "    model = mlp_model  # replace with your actual MLP model creation code\n",
        "    return model\n",
        "\n",
        "def build_bilstm_model():\n",
        "    # Your BiLSTM model definition\n",
        "    model = bilstm_model  # replace with your actual BiLSTM model creation code\n",
        "    return model\n",
        "\n",
        "def build_lstm_model():\n",
        "    # Your LSTM model definition\n",
        "    model = lstm_model  # replace with your actual LSTM model creation code\n",
        "    return model\n",
        "\n",
        "def build_cnn_model():\n",
        "    # Your CNN model definition\n",
        "    model = cnn_model  # replace with your actual CNN model creation code\n",
        "    return model\n",
        "\n",
        "# Wrap Keras models using KerasClassifier to make them scikit-learn compatible\n",
        "model1 = KerasClassifier(build_fn=build_ann_model, epochs=10, batch_size=32, verbose=0)\n",
        "model2 = KerasClassifier(build_fn=build_mlp_model, epochs=10, batch_size=32, verbose=0)\n",
        "model3 = KerasClassifier(build_fn=build_bilstm_model, epochs=10, batch_size=32, verbose=0)\n",
        "model4 = KerasClassifier(build_fn=build_lstm_model, epochs=10, batch_size=32, verbose=0)\n",
        "model5 = KerasClassifier(build_fn=build_cnn_model, epochs=10, batch_size=32, verbose=0)\n",
        "\n",
        "\n",
        "# Create a VotingClassifier with soft voting\n",
        "voting_clf = VotingClassifier(estimators=[\n",
        "    ('ann', model1),\n",
        "    ('mlp', model2),\n",
        "    ('bilstm', model3),\n",
        "    ('lstm', model4),\n",
        "    ('cnn', model5)\n",
        "], voting='soft')\n",
        "\n",
        "# For 2D input models (ANN, MLP)\n",
        "X_train_2d = X_train.values  # shape: (samples, features)\n",
        "X_test_2d = X_test.values    # shape: (samples, features)\n",
        "\n",
        "# For 3D input models (LSTM, BiLSTM, CNN)\n",
        "# Reshape to (samples, timesteps, features). Set timesteps to 1 for CNN/LSTM if not dealing with sequences.\n",
        "X_train_3d = X_train.values.reshape((X_train.shape[0], 1, X_train.shape[1]))  # shape: (samples, 1, features)\n",
        "X_test_3d = X_test.values.reshape((X_test.shape[0], 1, X_test.shape[1]))      # shape: (samples, 1, features)\n",
        "\n",
        "\n",
        "\n",
        "# Modify input shape for CNN specifically\n",
        "# Reshape X_train_3d to have (samples, timesteps, channels) for CNN\n",
        "X_train_cnn = X_train.values.reshape((X_train.shape[0], X_train.shape[1], 1))  # (samples, features, 1)\n",
        "X_test_cnn = X_test.values.reshape((X_test.shape[0], X_test.shape[1], 1))      # (samples, features, 1)\n",
        "\n",
        "# Fit and predict for each model separately based on their input requirements\n",
        "y_pred_prob_voting = []\n",
        "\n",
        "for name, model in voting_clf.estimators:\n",
        "    if name in ['ann', 'mlp']:  # Models that expect 2D input\n",
        "        print(f\"Fitting {name} model with 2D input...\")\n",
        "        model.fit(X_train_2d, y_train)\n",
        "        y_pred_prob_voting.append(model.predict_proba(X_test_2d)[:, 1])  # 2D for prediction\n",
        "    elif name in ['cnn']:  # CNN expects input as (samples, features, 1)\n",
        "        print(f\"Fitting {name} model with CNN input (3D)...\")\n",
        "        model.fit(X_train_cnn, y_train)\n",
        "        y_pred_prob_voting.append(model.predict_proba(X_test_cnn)[:, 1])  # CNN 3D for prediction\n",
        "    else:  # Models that expect 3D input (e.g., LSTM, BiLSTM)\n",
        "        print(f\"Fitting {name} model with 3D input...\")\n",
        "        model.fit(X_train_3d, y_train)\n",
        "        y_pred_prob_voting.append(model.predict_proba(X_test_3d)[:, 1])  # 3D for prediction\n",
        "\n",
        "# Average the predictions for soft voting\n",
        "y_pred_prob_voting = np.mean(y_pred_prob_voting, axis=0)\n",
        "y_pred_voting = (y_pred_prob_voting > 0.5).astype(\"int32\")\n",
        "\n",
        "# Evaluate the Voting Classifier\n",
        "accuracy_voting = accuracy_score(y_test, y_pred_voting)\n",
        "roc_auc_voting = roc_auc_score(y_test, y_pred_prob_voting)\n",
        "\n",
        "# Print the evaluation metrics\n",
        "print(f\"Voting Classifier Accuracy: {accuracy_voting * 100:.2f}%\")\n",
        "print(f\"Voting Classifier ROC-AUC Score: {roc_auc_voting:.2f}\")\n"
      ],
      "metadata": {
        "id": "2KuVhlVW1jM_",
        "colab": {
          "base_uri": "https://localhost:8080/"
        },
        "outputId": "7d480925-6775-43f1-8325-29a68e2711af"
      },
      "execution_count": 46,
      "outputs": [
        {
          "output_type": "stream",
          "name": "stdout",
          "text": [
            "Fitting ann model with 2D input...\n"
          ]
        },
        {
          "output_type": "stream",
          "name": "stderr",
          "text": [
            "/usr/local/lib/python3.10/dist-packages/scikeras/wrappers.py:925: UserWarning: ``build_fn`` will be renamed to ``model`` in a future release, at which point use of ``build_fn`` will raise an Error instead.\n",
            "  X, y = self._initialize(X, y)\n"
          ]
        },
        {
          "output_type": "stream",
          "name": "stdout",
          "text": [
            "Fitting mlp model with 2D input...\n"
          ]
        },
        {
          "output_type": "stream",
          "name": "stderr",
          "text": [
            "/usr/local/lib/python3.10/dist-packages/scikeras/wrappers.py:925: UserWarning: ``build_fn`` will be renamed to ``model`` in a future release, at which point use of ``build_fn`` will raise an Error instead.\n",
            "  X, y = self._initialize(X, y)\n"
          ]
        },
        {
          "output_type": "stream",
          "name": "stdout",
          "text": [
            "Fitting bilstm model with 3D input...\n"
          ]
        },
        {
          "output_type": "stream",
          "name": "stderr",
          "text": [
            "/usr/local/lib/python3.10/dist-packages/scikeras/wrappers.py:925: UserWarning: ``build_fn`` will be renamed to ``model`` in a future release, at which point use of ``build_fn`` will raise an Error instead.\n",
            "  X, y = self._initialize(X, y)\n"
          ]
        },
        {
          "output_type": "stream",
          "name": "stdout",
          "text": [
            "Fitting lstm model with 3D input...\n"
          ]
        },
        {
          "output_type": "stream",
          "name": "stderr",
          "text": [
            "/usr/local/lib/python3.10/dist-packages/scikeras/wrappers.py:925: UserWarning: ``build_fn`` will be renamed to ``model`` in a future release, at which point use of ``build_fn`` will raise an Error instead.\n",
            "  X, y = self._initialize(X, y)\n"
          ]
        },
        {
          "output_type": "stream",
          "name": "stdout",
          "text": [
            "Fitting cnn model with CNN input (3D)...\n"
          ]
        },
        {
          "output_type": "stream",
          "name": "stderr",
          "text": [
            "/usr/local/lib/python3.10/dist-packages/scikeras/wrappers.py:925: UserWarning: ``build_fn`` will be renamed to ``model`` in a future release, at which point use of ``build_fn`` will raise an Error instead.\n",
            "  X, y = self._initialize(X, y)\n"
          ]
        },
        {
          "output_type": "stream",
          "name": "stdout",
          "text": [
            "Voting Classifier Accuracy: 81.26%\n",
            "Voting Classifier ROC-AUC Score: 0.86\n"
          ]
        }
      ]
    }
  ]
}