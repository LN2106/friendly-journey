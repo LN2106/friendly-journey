{
  "nbformat": 4,
  "nbformat_minor": 0,
  "metadata": {
    "colab": {
      "provenance": []
    },
    "kernelspec": {
      "name": "python3",
      "display_name": "Python 3"
    },
    "language_info": {
      "name": "python"
    }
  },
  "cells": [
    {
      "cell_type": "markdown",
      "metadata": {
        "id": "ug_6NAb1rJgt"
      },
      "source": [
        "**TABLE OF CONTENT**\n",
        "\n",
        "PART I:\n",
        "\n"
      ]
    },
    {
      "cell_type": "code",
      "execution_count": 1,
      "metadata": {
        "colab": {
          "base_uri": "https://localhost:8080/"
        },
        "id": "77Edn9s1oxTP",
        "outputId": "7e90be04-7dd0-4411-d1ed-69d0eb64a51f"
      },
      "outputs": [
        {
          "output_type": "stream",
          "name": "stdout",
          "text": [
            "Drive already mounted at /content/drive; to attempt to forcibly remount, call drive.mount(\"/content/drive\", force_remount=True).\n"
          ]
        }
      ],
      "source": [
        "from google.colab import drive\n",
        "drive.mount('/content/drive')"
      ]
    },
    {
      "cell_type": "code",
      "execution_count": 2,
      "metadata": {
        "id": "uyqSJBp1rX9H"
      },
      "outputs": [],
      "source": [
        "import pandas as pd\n",
        "import numpy as np\n",
        "import matplotlib.pyplot as plt\n",
        "import seaborn as sns\n",
        "import warnings\n",
        "warnings.simplefilter(action='ignore', category=FutureWarning)"
      ]
    },
    {
      "cell_type": "code",
      "execution_count": 3,
      "metadata": {
        "id": "9nEW3IkknUVc",
        "colab": {
          "base_uri": "https://localhost:8080/",
          "height": 290
        },
        "outputId": "ee7f70e1-b707-44dd-933f-a2a9eab8386e"
      },
      "outputs": [
        {
          "output_type": "execute_result",
          "data": {
            "text/plain": [
              "      gender  SeniorCitizen  Partner  Dependents    tenure  PhoneService  \\\n",
              "1583       1              0        1           1  0.083333             1   \n",
              "6350       0              0        0           1  0.041667             1   \n",
              "1033       1              0        1           0  0.861111             1   \n",
              "2500       0              0        1           1  0.694444             1   \n",
              "5281       1              0        1           1  1.000000             1   \n",
              "\n",
              "      MultipleLines  OnlineSecurity  OnlineBackup  DeviceProtection  ...  \\\n",
              "1583              1               0             0                 0  ...   \n",
              "6350              0               0             0                 0  ...   \n",
              "1033              1               0             0                 0  ...   \n",
              "2500              0               1             0                 0  ...   \n",
              "5281              1               1             1                 0  ...   \n",
              "\n",
              "      InternetService_No  Contract_Month-to-month  Contract_One year  \\\n",
              "1583                   0                        1                  0   \n",
              "6350                   1                        1                  0   \n",
              "1033                   1                        0                  0   \n",
              "2500                   0                        0                  1   \n",
              "5281                   0                        0                  0   \n",
              "\n",
              "      Contract_Two year  PaymentMethod_Bank transfer (automatic)  \\\n",
              "1583                  0                                        0   \n",
              "6350                  0                                        0   \n",
              "1033                  1                                        1   \n",
              "2500                  0                                        0   \n",
              "5281                  1                                        0   \n",
              "\n",
              "      PaymentMethod_Credit card (automatic)  PaymentMethod_Electronic check  \\\n",
              "1583                                      1                               0   \n",
              "6350                                      0                               0   \n",
              "1033                                      0                               0   \n",
              "2500                                      0                               1   \n",
              "5281                                      1                               0   \n",
              "\n",
              "      PaymentMethod_Mailed check       CLV  AvgMonthlyCharges  \n",
              "1583                           0  0.034351           0.295161  \n",
              "6350                           1  0.007035           0.105691  \n",
              "1033                           0  0.171497           0.084328  \n",
              "2500                           0  0.441520           0.620088  \n",
              "5281                           0  0.562105           0.486321  \n",
              "\n",
              "[5 rows x 29 columns]"
            ],
            "text/html": [
              "\n",
              "  <div id=\"df-f3a5ee62-2017-46c9-a5ba-76600344805f\" class=\"colab-df-container\">\n",
              "    <div>\n",
              "<style scoped>\n",
              "    .dataframe tbody tr th:only-of-type {\n",
              "        vertical-align: middle;\n",
              "    }\n",
              "\n",
              "    .dataframe tbody tr th {\n",
              "        vertical-align: top;\n",
              "    }\n",
              "\n",
              "    .dataframe thead th {\n",
              "        text-align: right;\n",
              "    }\n",
              "</style>\n",
              "<table border=\"1\" class=\"dataframe\">\n",
              "  <thead>\n",
              "    <tr style=\"text-align: right;\">\n",
              "      <th></th>\n",
              "      <th>gender</th>\n",
              "      <th>SeniorCitizen</th>\n",
              "      <th>Partner</th>\n",
              "      <th>Dependents</th>\n",
              "      <th>tenure</th>\n",
              "      <th>PhoneService</th>\n",
              "      <th>MultipleLines</th>\n",
              "      <th>OnlineSecurity</th>\n",
              "      <th>OnlineBackup</th>\n",
              "      <th>DeviceProtection</th>\n",
              "      <th>...</th>\n",
              "      <th>InternetService_No</th>\n",
              "      <th>Contract_Month-to-month</th>\n",
              "      <th>Contract_One year</th>\n",
              "      <th>Contract_Two year</th>\n",
              "      <th>PaymentMethod_Bank transfer (automatic)</th>\n",
              "      <th>PaymentMethod_Credit card (automatic)</th>\n",
              "      <th>PaymentMethod_Electronic check</th>\n",
              "      <th>PaymentMethod_Mailed check</th>\n",
              "      <th>CLV</th>\n",
              "      <th>AvgMonthlyCharges</th>\n",
              "    </tr>\n",
              "  </thead>\n",
              "  <tbody>\n",
              "    <tr>\n",
              "      <th>1583</th>\n",
              "      <td>1</td>\n",
              "      <td>0</td>\n",
              "      <td>1</td>\n",
              "      <td>1</td>\n",
              "      <td>0.083333</td>\n",
              "      <td>1</td>\n",
              "      <td>1</td>\n",
              "      <td>0</td>\n",
              "      <td>0</td>\n",
              "      <td>0</td>\n",
              "      <td>...</td>\n",
              "      <td>0</td>\n",
              "      <td>1</td>\n",
              "      <td>0</td>\n",
              "      <td>0</td>\n",
              "      <td>0</td>\n",
              "      <td>1</td>\n",
              "      <td>0</td>\n",
              "      <td>0</td>\n",
              "      <td>0.034351</td>\n",
              "      <td>0.295161</td>\n",
              "    </tr>\n",
              "    <tr>\n",
              "      <th>6350</th>\n",
              "      <td>0</td>\n",
              "      <td>0</td>\n",
              "      <td>0</td>\n",
              "      <td>1</td>\n",
              "      <td>0.041667</td>\n",
              "      <td>1</td>\n",
              "      <td>0</td>\n",
              "      <td>0</td>\n",
              "      <td>0</td>\n",
              "      <td>0</td>\n",
              "      <td>...</td>\n",
              "      <td>1</td>\n",
              "      <td>1</td>\n",
              "      <td>0</td>\n",
              "      <td>0</td>\n",
              "      <td>0</td>\n",
              "      <td>0</td>\n",
              "      <td>0</td>\n",
              "      <td>1</td>\n",
              "      <td>0.007035</td>\n",
              "      <td>0.105691</td>\n",
              "    </tr>\n",
              "    <tr>\n",
              "      <th>1033</th>\n",
              "      <td>1</td>\n",
              "      <td>0</td>\n",
              "      <td>1</td>\n",
              "      <td>0</td>\n",
              "      <td>0.861111</td>\n",
              "      <td>1</td>\n",
              "      <td>1</td>\n",
              "      <td>0</td>\n",
              "      <td>0</td>\n",
              "      <td>0</td>\n",
              "      <td>...</td>\n",
              "      <td>1</td>\n",
              "      <td>0</td>\n",
              "      <td>0</td>\n",
              "      <td>1</td>\n",
              "      <td>1</td>\n",
              "      <td>0</td>\n",
              "      <td>0</td>\n",
              "      <td>0</td>\n",
              "      <td>0.171497</td>\n",
              "      <td>0.084328</td>\n",
              "    </tr>\n",
              "    <tr>\n",
              "      <th>2500</th>\n",
              "      <td>0</td>\n",
              "      <td>0</td>\n",
              "      <td>1</td>\n",
              "      <td>1</td>\n",
              "      <td>0.694444</td>\n",
              "      <td>1</td>\n",
              "      <td>0</td>\n",
              "      <td>1</td>\n",
              "      <td>0</td>\n",
              "      <td>0</td>\n",
              "      <td>...</td>\n",
              "      <td>0</td>\n",
              "      <td>0</td>\n",
              "      <td>1</td>\n",
              "      <td>0</td>\n",
              "      <td>0</td>\n",
              "      <td>0</td>\n",
              "      <td>1</td>\n",
              "      <td>0</td>\n",
              "      <td>0.441520</td>\n",
              "      <td>0.620088</td>\n",
              "    </tr>\n",
              "    <tr>\n",
              "      <th>5281</th>\n",
              "      <td>1</td>\n",
              "      <td>0</td>\n",
              "      <td>1</td>\n",
              "      <td>1</td>\n",
              "      <td>1.000000</td>\n",
              "      <td>1</td>\n",
              "      <td>1</td>\n",
              "      <td>1</td>\n",
              "      <td>1</td>\n",
              "      <td>0</td>\n",
              "      <td>...</td>\n",
              "      <td>0</td>\n",
              "      <td>0</td>\n",
              "      <td>0</td>\n",
              "      <td>1</td>\n",
              "      <td>0</td>\n",
              "      <td>1</td>\n",
              "      <td>0</td>\n",
              "      <td>0</td>\n",
              "      <td>0.562105</td>\n",
              "      <td>0.486321</td>\n",
              "    </tr>\n",
              "  </tbody>\n",
              "</table>\n",
              "<p>5 rows × 29 columns</p>\n",
              "</div>\n",
              "    <div class=\"colab-df-buttons\">\n",
              "\n",
              "  <div class=\"colab-df-container\">\n",
              "    <button class=\"colab-df-convert\" onclick=\"convertToInteractive('df-f3a5ee62-2017-46c9-a5ba-76600344805f')\"\n",
              "            title=\"Convert this dataframe to an interactive table.\"\n",
              "            style=\"display:none;\">\n",
              "\n",
              "  <svg xmlns=\"http://www.w3.org/2000/svg\" height=\"24px\" viewBox=\"0 -960 960 960\">\n",
              "    <path d=\"M120-120v-720h720v720H120Zm60-500h600v-160H180v160Zm220 220h160v-160H400v160Zm0 220h160v-160H400v160ZM180-400h160v-160H180v160Zm440 0h160v-160H620v160ZM180-180h160v-160H180v160Zm440 0h160v-160H620v160Z\"/>\n",
              "  </svg>\n",
              "    </button>\n",
              "\n",
              "  <style>\n",
              "    .colab-df-container {\n",
              "      display:flex;\n",
              "      gap: 12px;\n",
              "    }\n",
              "\n",
              "    .colab-df-convert {\n",
              "      background-color: #E8F0FE;\n",
              "      border: none;\n",
              "      border-radius: 50%;\n",
              "      cursor: pointer;\n",
              "      display: none;\n",
              "      fill: #1967D2;\n",
              "      height: 32px;\n",
              "      padding: 0 0 0 0;\n",
              "      width: 32px;\n",
              "    }\n",
              "\n",
              "    .colab-df-convert:hover {\n",
              "      background-color: #E2EBFA;\n",
              "      box-shadow: 0px 1px 2px rgba(60, 64, 67, 0.3), 0px 1px 3px 1px rgba(60, 64, 67, 0.15);\n",
              "      fill: #174EA6;\n",
              "    }\n",
              "\n",
              "    .colab-df-buttons div {\n",
              "      margin-bottom: 4px;\n",
              "    }\n",
              "\n",
              "    [theme=dark] .colab-df-convert {\n",
              "      background-color: #3B4455;\n",
              "      fill: #D2E3FC;\n",
              "    }\n",
              "\n",
              "    [theme=dark] .colab-df-convert:hover {\n",
              "      background-color: #434B5C;\n",
              "      box-shadow: 0px 1px 3px 1px rgba(0, 0, 0, 0.15);\n",
              "      filter: drop-shadow(0px 1px 2px rgba(0, 0, 0, 0.3));\n",
              "      fill: #FFFFFF;\n",
              "    }\n",
              "  </style>\n",
              "\n",
              "    <script>\n",
              "      const buttonEl =\n",
              "        document.querySelector('#df-f3a5ee62-2017-46c9-a5ba-76600344805f button.colab-df-convert');\n",
              "      buttonEl.style.display =\n",
              "        google.colab.kernel.accessAllowed ? 'block' : 'none';\n",
              "\n",
              "      async function convertToInteractive(key) {\n",
              "        const element = document.querySelector('#df-f3a5ee62-2017-46c9-a5ba-76600344805f');\n",
              "        const dataTable =\n",
              "          await google.colab.kernel.invokeFunction('convertToInteractive',\n",
              "                                                    [key], {});\n",
              "        if (!dataTable) return;\n",
              "\n",
              "        const docLinkHtml = 'Like what you see? Visit the ' +\n",
              "          '<a target=\"_blank\" href=https://colab.research.google.com/notebooks/data_table.ipynb>data table notebook</a>'\n",
              "          + ' to learn more about interactive tables.';\n",
              "        element.innerHTML = '';\n",
              "        dataTable['output_type'] = 'display_data';\n",
              "        await google.colab.output.renderOutput(dataTable, element);\n",
              "        const docLink = document.createElement('div');\n",
              "        docLink.innerHTML = docLinkHtml;\n",
              "        element.appendChild(docLink);\n",
              "      }\n",
              "    </script>\n",
              "  </div>\n",
              "\n",
              "\n",
              "<div id=\"df-7c090d45-1d6a-4d03-9ba2-628be5383a1b\">\n",
              "  <button class=\"colab-df-quickchart\" onclick=\"quickchart('df-7c090d45-1d6a-4d03-9ba2-628be5383a1b')\"\n",
              "            title=\"Suggest charts\"\n",
              "            style=\"display:none;\">\n",
              "\n",
              "<svg xmlns=\"http://www.w3.org/2000/svg\" height=\"24px\"viewBox=\"0 0 24 24\"\n",
              "     width=\"24px\">\n",
              "    <g>\n",
              "        <path d=\"M19 3H5c-1.1 0-2 .9-2 2v14c0 1.1.9 2 2 2h14c1.1 0 2-.9 2-2V5c0-1.1-.9-2-2-2zM9 17H7v-7h2v7zm4 0h-2V7h2v10zm4 0h-2v-4h2v4z\"/>\n",
              "    </g>\n",
              "</svg>\n",
              "  </button>\n",
              "\n",
              "<style>\n",
              "  .colab-df-quickchart {\n",
              "      --bg-color: #E8F0FE;\n",
              "      --fill-color: #1967D2;\n",
              "      --hover-bg-color: #E2EBFA;\n",
              "      --hover-fill-color: #174EA6;\n",
              "      --disabled-fill-color: #AAA;\n",
              "      --disabled-bg-color: #DDD;\n",
              "  }\n",
              "\n",
              "  [theme=dark] .colab-df-quickchart {\n",
              "      --bg-color: #3B4455;\n",
              "      --fill-color: #D2E3FC;\n",
              "      --hover-bg-color: #434B5C;\n",
              "      --hover-fill-color: #FFFFFF;\n",
              "      --disabled-bg-color: #3B4455;\n",
              "      --disabled-fill-color: #666;\n",
              "  }\n",
              "\n",
              "  .colab-df-quickchart {\n",
              "    background-color: var(--bg-color);\n",
              "    border: none;\n",
              "    border-radius: 50%;\n",
              "    cursor: pointer;\n",
              "    display: none;\n",
              "    fill: var(--fill-color);\n",
              "    height: 32px;\n",
              "    padding: 0;\n",
              "    width: 32px;\n",
              "  }\n",
              "\n",
              "  .colab-df-quickchart:hover {\n",
              "    background-color: var(--hover-bg-color);\n",
              "    box-shadow: 0 1px 2px rgba(60, 64, 67, 0.3), 0 1px 3px 1px rgba(60, 64, 67, 0.15);\n",
              "    fill: var(--button-hover-fill-color);\n",
              "  }\n",
              "\n",
              "  .colab-df-quickchart-complete:disabled,\n",
              "  .colab-df-quickchart-complete:disabled:hover {\n",
              "    background-color: var(--disabled-bg-color);\n",
              "    fill: var(--disabled-fill-color);\n",
              "    box-shadow: none;\n",
              "  }\n",
              "\n",
              "  .colab-df-spinner {\n",
              "    border: 2px solid var(--fill-color);\n",
              "    border-color: transparent;\n",
              "    border-bottom-color: var(--fill-color);\n",
              "    animation:\n",
              "      spin 1s steps(1) infinite;\n",
              "  }\n",
              "\n",
              "  @keyframes spin {\n",
              "    0% {\n",
              "      border-color: transparent;\n",
              "      border-bottom-color: var(--fill-color);\n",
              "      border-left-color: var(--fill-color);\n",
              "    }\n",
              "    20% {\n",
              "      border-color: transparent;\n",
              "      border-left-color: var(--fill-color);\n",
              "      border-top-color: var(--fill-color);\n",
              "    }\n",
              "    30% {\n",
              "      border-color: transparent;\n",
              "      border-left-color: var(--fill-color);\n",
              "      border-top-color: var(--fill-color);\n",
              "      border-right-color: var(--fill-color);\n",
              "    }\n",
              "    40% {\n",
              "      border-color: transparent;\n",
              "      border-right-color: var(--fill-color);\n",
              "      border-top-color: var(--fill-color);\n",
              "    }\n",
              "    60% {\n",
              "      border-color: transparent;\n",
              "      border-right-color: var(--fill-color);\n",
              "    }\n",
              "    80% {\n",
              "      border-color: transparent;\n",
              "      border-right-color: var(--fill-color);\n",
              "      border-bottom-color: var(--fill-color);\n",
              "    }\n",
              "    90% {\n",
              "      border-color: transparent;\n",
              "      border-bottom-color: var(--fill-color);\n",
              "    }\n",
              "  }\n",
              "</style>\n",
              "\n",
              "  <script>\n",
              "    async function quickchart(key) {\n",
              "      const quickchartButtonEl =\n",
              "        document.querySelector('#' + key + ' button');\n",
              "      quickchartButtonEl.disabled = true;  // To prevent multiple clicks.\n",
              "      quickchartButtonEl.classList.add('colab-df-spinner');\n",
              "      try {\n",
              "        const charts = await google.colab.kernel.invokeFunction(\n",
              "            'suggestCharts', [key], {});\n",
              "      } catch (error) {\n",
              "        console.error('Error during call to suggestCharts:', error);\n",
              "      }\n",
              "      quickchartButtonEl.classList.remove('colab-df-spinner');\n",
              "      quickchartButtonEl.classList.add('colab-df-quickchart-complete');\n",
              "    }\n",
              "    (() => {\n",
              "      let quickchartButtonEl =\n",
              "        document.querySelector('#df-7c090d45-1d6a-4d03-9ba2-628be5383a1b button');\n",
              "      quickchartButtonEl.style.display =\n",
              "        google.colab.kernel.accessAllowed ? 'block' : 'none';\n",
              "    })();\n",
              "  </script>\n",
              "</div>\n",
              "\n",
              "    </div>\n",
              "  </div>\n"
            ],
            "application/vnd.google.colaboratory.intrinsic+json": {
              "type": "dataframe"
            }
          },
          "metadata": {},
          "execution_count": 3
        }
      ],
      "source": [
        "df = pd.read_csv(\"/content/drive/MyDrive/A1-fyp2- churn/data for deep models.csv\")\n",
        "df.sample(5)"
      ]
    },
    {
      "cell_type": "markdown",
      "metadata": {
        "id": "0XI3m9L9Eghg"
      },
      "source": [
        "**Train test split**"
      ]
    },
    {
      "cell_type": "code",
      "execution_count": 4,
      "metadata": {
        "id": "-O8XBNXTteln"
      },
      "outputs": [],
      "source": [
        "X = df.drop(['Churn'], axis = 1)\n",
        "y = df['Churn']"
      ]
    },
    {
      "cell_type": "code",
      "execution_count": 5,
      "metadata": {
        "id": "strd3RTlam8l"
      },
      "outputs": [],
      "source": [
        "\n",
        "from sklearn.model_selection import train_test_split\n",
        "X_train, X_test, y_train, y_test = train_test_split(X,y,test_size=0.2,random_state=42)"
      ]
    },
    {
      "cell_type": "code",
      "execution_count": 6,
      "metadata": {
        "colab": {
          "base_uri": "https://localhost:8080/"
        },
        "id": "LXfaetHrEghh",
        "outputId": "d0c88c74-8df0-492b-ed2d-2c080e5f151e"
      },
      "outputs": [
        {
          "output_type": "execute_result",
          "data": {
            "text/plain": [
              "(5634, 28)"
            ]
          },
          "metadata": {},
          "execution_count": 6
        }
      ],
      "source": [
        "X_train.shape"
      ]
    },
    {
      "cell_type": "code",
      "execution_count": 7,
      "metadata": {
        "colab": {
          "base_uri": "https://localhost:8080/"
        },
        "id": "NG7ZVa0YEghh",
        "outputId": "d4009fac-fe16-40af-bd6e-db5faf5c18f1",
        "scrolled": true
      },
      "outputs": [
        {
          "output_type": "execute_result",
          "data": {
            "text/plain": [
              "(1409, 28)"
            ]
          },
          "metadata": {},
          "execution_count": 7
        }
      ],
      "source": [
        "X_test.shape"
      ]
    },
    {
      "cell_type": "code",
      "source": [
        "from imblearn.over_sampling import SMOTE\n",
        "smote = SMOTE(random_state=42)\n",
        "X_train_smote, y_train_smote = smote.fit_resample(X_train, y_train)"
      ],
      "metadata": {
        "id": "2ILoHUA111H4"
      },
      "execution_count": 8,
      "outputs": []
    },
    {
      "cell_type": "markdown",
      "source": [
        "**LSTM**"
      ],
      "metadata": {
        "id": "1UwFo8-21x21"
      }
    },
    {
      "cell_type": "code",
      "source": [
        "\n",
        "import numpy as np\n",
        "import tensorflow as tf\n",
        "from tensorflow.keras.models import Sequential\n",
        "from tensorflow.keras.layers import LSTM, Bidirectional, Dense, Dropout\n",
        "from sklearn.preprocessing import MinMaxScaler\n",
        "from sklearn.metrics import accuracy_score, classification_report, confusion_matrix\n",
        "\n",
        "# Reshape the input data for LSTM\n",
        "# LSTM expects input in 3D format: (samples, timesteps, features)\n",
        "\n",
        "# Reshape the training and testing data for LSTM (1 timestep in this case)\n",
        "X_train_lstm = np.array(X_train).reshape((X_train.shape[0], 1, X_train.shape[1]))\n",
        "X_test_lstm = np.array(X_test).reshape((X_test.shape[0], 1, X_test.shape[1]))\n",
        "\n",
        "# Define the LSTM model\n",
        "model = Sequential()\n",
        "\n",
        "# Add a Bidirectional LSTM layer\n",
        "#model.add(Bidirectional(LSTM(64, return_sequences=False), input_shape=(X_train_lstm.shape[1], X_train_lstm.shape[2])))\n",
        "model.add(LSTM(64, return_sequences=False, input_shape=(X_train_lstm.shape[1], X_train_lstm.shape[2])))\n",
        "\n",
        "# Add Dropout to prevent overfitting\n",
        "model.add(Dropout(0.3))\n",
        "\n",
        "# Add a Dense output layer with a sigmoid activation function for binary classification\n",
        "model.add(Dense(1, activation='sigmoid'))\n",
        "\n",
        "# Compile the model\n",
        "model.compile(optimizer='adam', loss='binary_crossentropy', metrics=['accuracy'])\n",
        "\n",
        "# Train the LSTM model\n",
        "history = model.fit(X_train_lstm, y_train, epochs=10, batch_size=32, validation_split=0.2)\n",
        "\n",
        "# Make predictions on the test set\n",
        "y_pred_lstm = (model.predict(X_test_lstm) > 0.5).astype(\"int32\")\n",
        "\n",
        "# Evaluate the model\n",
        "accuracy_lstm = accuracy_score(y_test, y_pred_lstm)\n",
        "print(f\"LSTM Accuracy: {accuracy_lstm * 100:.2f}%\")\n",
        "\n",
        "# Print classification report and confusion matrix\n",
        "print(\"\\nClassification Report:\")\n",
        "print(classification_report(y_test, y_pred_lstm))\n",
        "\n",
        "print(\"\\nConfusion Matrix:\")\n",
        "print(confusion_matrix(y_test, y_pred_lstm))"
      ],
      "metadata": {
        "colab": {
          "base_uri": "https://localhost:8080/"
        },
        "id": "bK60BCImcUE7",
        "outputId": "142e89c6-d14e-43cf-f30a-986f44f89b18"
      },
      "execution_count": 9,
      "outputs": [
        {
          "output_type": "stream",
          "name": "stderr",
          "text": [
            "/usr/local/lib/python3.10/dist-packages/keras/src/layers/rnn/rnn.py:204: UserWarning: Do not pass an `input_shape`/`input_dim` argument to a layer. When using Sequential models, prefer using an `Input(shape)` object as the first layer in the model instead.\n",
            "  super().__init__(**kwargs)\n"
          ]
        },
        {
          "output_type": "stream",
          "name": "stdout",
          "text": [
            "Epoch 1/10\n",
            "\u001b[1m141/141\u001b[0m \u001b[32m━━━━━━━━━━━━━━━━━━━━\u001b[0m\u001b[37m\u001b[0m \u001b[1m12s\u001b[0m 28ms/step - accuracy: 0.7380 - loss: 0.5626 - val_accuracy: 0.7986 - val_loss: 0.4346\n",
            "Epoch 2/10\n",
            "\u001b[1m141/141\u001b[0m \u001b[32m━━━━━━━━━━━━━━━━━━━━\u001b[0m\u001b[37m\u001b[0m \u001b[1m2s\u001b[0m 14ms/step - accuracy: 0.7835 - loss: 0.4465 - val_accuracy: 0.8012 - val_loss: 0.4230\n",
            "Epoch 3/10\n",
            "\u001b[1m141/141\u001b[0m \u001b[32m━━━━━━━━━━━━━━━━━━━━\u001b[0m\u001b[37m\u001b[0m \u001b[1m2s\u001b[0m 10ms/step - accuracy: 0.7892 - loss: 0.4340 - val_accuracy: 0.8083 - val_loss: 0.4173\n",
            "Epoch 4/10\n",
            "\u001b[1m141/141\u001b[0m \u001b[32m━━━━━━━━━━━━━━━━━━━━\u001b[0m\u001b[37m\u001b[0m \u001b[1m2s\u001b[0m 8ms/step - accuracy: 0.7970 - loss: 0.4269 - val_accuracy: 0.8119 - val_loss: 0.4166\n",
            "Epoch 5/10\n",
            "\u001b[1m141/141\u001b[0m \u001b[32m━━━━━━━━━━━━━━━━━━━━\u001b[0m\u001b[37m\u001b[0m \u001b[1m2s\u001b[0m 10ms/step - accuracy: 0.8014 - loss: 0.4113 - val_accuracy: 0.8128 - val_loss: 0.4134\n",
            "Epoch 6/10\n",
            "\u001b[1m141/141\u001b[0m \u001b[32m━━━━━━━━━━━━━━━━━━━━\u001b[0m\u001b[37m\u001b[0m \u001b[1m2s\u001b[0m 4ms/step - accuracy: 0.7913 - loss: 0.4352 - val_accuracy: 0.8119 - val_loss: 0.4127\n",
            "Epoch 7/10\n",
            "\u001b[1m141/141\u001b[0m \u001b[32m━━━━━━━━━━━━━━━━━━━━\u001b[0m\u001b[37m\u001b[0m \u001b[1m1s\u001b[0m 4ms/step - accuracy: 0.7960 - loss: 0.4279 - val_accuracy: 0.8128 - val_loss: 0.4118\n",
            "Epoch 8/10\n",
            "\u001b[1m141/141\u001b[0m \u001b[32m━━━━━━━━━━━━━━━━━━━━\u001b[0m\u001b[37m\u001b[0m \u001b[1m1s\u001b[0m 4ms/step - accuracy: 0.7975 - loss: 0.4311 - val_accuracy: 0.8083 - val_loss: 0.4100\n",
            "Epoch 9/10\n",
            "\u001b[1m141/141\u001b[0m \u001b[32m━━━━━━━━━━━━━━━━━━━━\u001b[0m\u001b[37m\u001b[0m \u001b[1m1s\u001b[0m 4ms/step - accuracy: 0.7880 - loss: 0.4399 - val_accuracy: 0.8110 - val_loss: 0.4098\n",
            "Epoch 10/10\n",
            "\u001b[1m141/141\u001b[0m \u001b[32m━━━━━━━━━━━━━━━━━━━━\u001b[0m\u001b[37m\u001b[0m \u001b[1m1s\u001b[0m 4ms/step - accuracy: 0.7930 - loss: 0.4275 - val_accuracy: 0.8083 - val_loss: 0.4084\n",
            "\u001b[1m45/45\u001b[0m \u001b[32m━━━━━━━━━━━━━━━━━━━━\u001b[0m\u001b[37m\u001b[0m \u001b[1m0s\u001b[0m 5ms/step\n",
            "LSTM Accuracy: 81.62%\n",
            "\n",
            "Classification Report:\n",
            "              precision    recall  f1-score   support\n",
            "\n",
            "           0       0.86      0.90      0.88      1036\n",
            "           1       0.68      0.59      0.63       373\n",
            "\n",
            "    accuracy                           0.82      1409\n",
            "   macro avg       0.77      0.74      0.75      1409\n",
            "weighted avg       0.81      0.82      0.81      1409\n",
            "\n",
            "\n",
            "Confusion Matrix:\n",
            "[[931 105]\n",
            " [154 219]]\n"
          ]
        }
      ]
    },
    {
      "cell_type": "code",
      "source": [
        "from sklearn.metrics import roc_auc_score, roc_curve\n",
        "import matplotlib.pyplot as plt\n",
        "\n",
        "# Calculate ROC-AUC score\n",
        "y_pred_prob_lstm = model.predict(X_test_lstm)  # Get predicted probabilities\n",
        "roc_auc_lstm = roc_auc_score(y_test, y_pred_prob_lstm)\n",
        "print(f\"LSTM ROC-AUC Score: {roc_auc_lstm:.2f}\")\n",
        "\n",
        "# Plot ROC curve\n",
        "fpr, tpr, _ = roc_curve(y_test, y_pred_prob_lstm)\n",
        "plt.figure()\n",
        "plt.plot(fpr, tpr, color='blue', label=f'ROC Curve (area = {roc_auc_lstm:.2f})')\n",
        "plt.plot([0, 1], [0, 1], color='gray', linestyle='--')\n",
        "plt.xlim([0.0, 1.0])\n",
        "plt.ylim([0.0, 1.05])\n",
        "plt.xlabel('False Positive Rate')\n",
        "plt.ylabel('True Positive Rate')\n",
        "plt.title('ROC Curve')\n",
        "plt.legend(loc='lower right')\n",
        "plt.show()\n"
      ],
      "metadata": {
        "colab": {
          "base_uri": "https://localhost:8080/",
          "height": 507
        },
        "id": "eWkD7rAFfKT7",
        "outputId": "8fd35e3d-8d52-4d53-da7c-930766f660ef"
      },
      "execution_count": 10,
      "outputs": [
        {
          "output_type": "stream",
          "name": "stdout",
          "text": [
            "\u001b[1m45/45\u001b[0m \u001b[32m━━━━━━━━━━━━━━━━━━━━\u001b[0m\u001b[37m\u001b[0m \u001b[1m0s\u001b[0m 2ms/step\n",
            "LSTM ROC-AUC Score: 0.86\n"
          ]
        },
        {
          "output_type": "display_data",
          "data": {
            "text/plain": [
              "<Figure size 640x480 with 1 Axes>"
            ],
            "image/png": "[encoded data removed]"
          },
          "metadata": {}
        }
      ]
    },
    {
      "cell_type": "code",
      "source": [
        "# Train with larger batch size\n",
        "model_batch_64 = Sequential()\n",
        "model_batch_64.add(LSTM(64, return_sequences=False, input_shape=(X_train_lstm.shape[1], X_train_lstm.shape[2])))\n",
        "model_batch_64.add(Dropout(0.3))\n",
        "model_batch_64.add(Dense(1, activation='sigmoid'))\n",
        "\n",
        "# Compile and train\n",
        "model_batch_64.compile(optimizer='adam', loss='binary_crossentropy', metrics=['accuracy'])\n",
        "history_batch_64 = model_batch_64.fit(X_train_lstm, y_train, epochs=10, batch_size=64, validation_split=0.2)\n",
        "\n",
        "# Evaluate model\n",
        "y_pred_batch_64 = (model_batch_64.predict(X_test_lstm) > 0.5).astype(\"int32\")\n",
        "accuracy_batch_64 = accuracy_score(y_test, y_pred_batch_64)\n",
        "print(f\"Accuracy (Batch size 64): {accuracy_batch_64 * 100:.2f}%\")"
      ],
      "metadata": {
        "colab": {
          "base_uri": "https://localhost:8080/"
        },
        "id": "n6nTFRT540lZ",
        "outputId": "061e5079-d1f5-4d40-a57a-cd21b87d6161"
      },
      "execution_count": 11,
      "outputs": [
        {
          "output_type": "stream",
          "name": "stdout",
          "text": [
            "Epoch 1/10\n"
          ]
        },
        {
          "output_type": "stream",
          "name": "stderr",
          "text": [
            "/usr/local/lib/python3.10/dist-packages/keras/src/layers/rnn/rnn.py:204: UserWarning: Do not pass an `input_shape`/`input_dim` argument to a layer. When using Sequential models, prefer using an `Input(shape)` object as the first layer in the model instead.\n",
            "  super().__init__(**kwargs)\n"
          ]
        },
        {
          "output_type": "stream",
          "name": "stdout",
          "text": [
            "\u001b[1m71/71\u001b[0m \u001b[32m━━━━━━━━━━━━━━━━━━━━\u001b[0m\u001b[37m\u001b[0m \u001b[1m4s\u001b[0m 15ms/step - accuracy: 0.6876 - loss: 0.6144 - val_accuracy: 0.7516 - val_loss: 0.4824\n",
            "Epoch 2/10\n",
            "\u001b[1m71/71\u001b[0m \u001b[32m━━━━━━━━━━━━━━━━━━━━\u001b[0m\u001b[37m\u001b[0m \u001b[1m1s\u001b[0m 8ms/step - accuracy: 0.7586 - loss: 0.4861 - val_accuracy: 0.7959 - val_loss: 0.4324\n",
            "Epoch 3/10\n",
            "\u001b[1m71/71\u001b[0m \u001b[32m━━━━━━━━━━━━━━━━━━━━\u001b[0m\u001b[37m\u001b[0m \u001b[1m1s\u001b[0m 5ms/step - accuracy: 0.7846 - loss: 0.4554 - val_accuracy: 0.8057 - val_loss: 0.4245\n",
            "Epoch 4/10\n",
            "\u001b[1m71/71\u001b[0m \u001b[32m━━━━━━━━━━━━━━━━━━━━\u001b[0m\u001b[37m\u001b[0m \u001b[1m1s\u001b[0m 4ms/step - accuracy: 0.7990 - loss: 0.4353 - val_accuracy: 0.8021 - val_loss: 0.4204\n",
            "Epoch 5/10\n",
            "\u001b[1m71/71\u001b[0m \u001b[32m━━━━━━━━━━━━━━━━━━━━\u001b[0m\u001b[37m\u001b[0m \u001b[1m1s\u001b[0m 4ms/step - accuracy: 0.7880 - loss: 0.4322 - val_accuracy: 0.8012 - val_loss: 0.4194\n",
            "Epoch 6/10\n",
            "\u001b[1m71/71\u001b[0m \u001b[32m━━━━━━━━━━━━━━━━━━━━\u001b[0m\u001b[37m\u001b[0m \u001b[1m1s\u001b[0m 5ms/step - accuracy: 0.7996 - loss: 0.4203 - val_accuracy: 0.8119 - val_loss: 0.4163\n",
            "Epoch 7/10\n",
            "\u001b[1m71/71\u001b[0m \u001b[32m━━━━━━━━━━━━━━━━━━━━\u001b[0m\u001b[37m\u001b[0m \u001b[1m0s\u001b[0m 4ms/step - accuracy: 0.7974 - loss: 0.4223 - val_accuracy: 0.8119 - val_loss: 0.4151\n",
            "Epoch 8/10\n",
            "\u001b[1m71/71\u001b[0m \u001b[32m━━━━━━━━━━━━━━━━━━━━\u001b[0m\u001b[37m\u001b[0m \u001b[1m0s\u001b[0m 4ms/step - accuracy: 0.7946 - loss: 0.4308 - val_accuracy: 0.8101 - val_loss: 0.4141\n",
            "Epoch 9/10\n",
            "\u001b[1m71/71\u001b[0m \u001b[32m━━━━━━━━━━━━━━━━━━━━\u001b[0m\u001b[37m\u001b[0m \u001b[1m0s\u001b[0m 5ms/step - accuracy: 0.7998 - loss: 0.4177 - val_accuracy: 0.8110 - val_loss: 0.4128\n",
            "Epoch 10/10\n",
            "\u001b[1m71/71\u001b[0m \u001b[32m━━━━━━━━━━━━━━━━━━━━\u001b[0m\u001b[37m\u001b[0m \u001b[1m1s\u001b[0m 5ms/step - accuracy: 0.7881 - loss: 0.4290 - val_accuracy: 0.8137 - val_loss: 0.4129\n",
            "\u001b[1m45/45\u001b[0m \u001b[32m━━━━━━━━━━━━━━━━━━━━\u001b[0m\u001b[37m\u001b[0m \u001b[1m0s\u001b[0m 5ms/step\n",
            "Accuracy (Batch size 64): 81.76%\n"
          ]
        }
      ]
    },
    {
      "cell_type": "code",
      "source": [
        "# Train with more LSTM units\n",
        "model_lstm_128 = Sequential()\n",
        "model_lstm_128.add(LSTM(128, return_sequences=False, input_shape=(X_train_lstm.shape[1], X_train_lstm.shape[2])))\n",
        "model_lstm_128.add(Dropout(0.3))\n",
        "model_lstm_128.add(Dense(1, activation='sigmoid'))\n",
        "\n",
        "# Compile and train\n",
        "model_lstm_128.compile(optimizer='adam', loss='binary_crossentropy', metrics=['accuracy'])\n",
        "history_lstm_128 = model_lstm_128.fit(X_train_lstm, y_train, epochs=10, batch_size=32, validation_split=0.2)\n",
        "\n",
        "# Evaluate model\n",
        "y_pred_lstm_128 = (model_lstm_128.predict(X_test_lstm) > 0.5).astype(\"int32\")\n",
        "accuracy_lstm_128 = accuracy_score(y_test, y_pred_lstm_128)\n",
        "print(f\"Accuracy (LSTM units 128): {accuracy_lstm_128 * 100:.2f}%\")\n"
      ],
      "metadata": {
        "colab": {
          "base_uri": "https://localhost:8080/"
        },
        "id": "6fYqRsBr4-3R",
        "outputId": "fa233a70-0ffa-40b5-8951-d491452ae052"
      },
      "execution_count": 12,
      "outputs": [
        {
          "output_type": "stream",
          "name": "stdout",
          "text": [
            "Epoch 1/10\n"
          ]
        },
        {
          "output_type": "stream",
          "name": "stderr",
          "text": [
            "/usr/local/lib/python3.10/dist-packages/keras/src/layers/rnn/rnn.py:204: UserWarning: Do not pass an `input_shape`/`input_dim` argument to a layer. When using Sequential models, prefer using an `Input(shape)` object as the first layer in the model instead.\n",
            "  super().__init__(**kwargs)\n"
          ]
        },
        {
          "output_type": "stream",
          "name": "stdout",
          "text": [
            "\u001b[1m141/141\u001b[0m \u001b[32m━━━━━━━━━━━━━━━━━━━━\u001b[0m\u001b[37m\u001b[0m \u001b[1m3s\u001b[0m 8ms/step - accuracy: 0.7031 - loss: 0.5721 - val_accuracy: 0.7995 - val_loss: 0.4277\n",
            "Epoch 2/10\n",
            "\u001b[1m141/141\u001b[0m \u001b[32m━━━━━━━━━━━━━━━━━━━━\u001b[0m\u001b[37m\u001b[0m \u001b[1m1s\u001b[0m 6ms/step - accuracy: 0.7711 - loss: 0.4417 - val_accuracy: 0.7995 - val_loss: 0.4231\n",
            "Epoch 3/10\n",
            "\u001b[1m141/141\u001b[0m \u001b[32m━━━━━━━━━━━━━━━━━━━━\u001b[0m\u001b[37m\u001b[0m \u001b[1m2s\u001b[0m 12ms/step - accuracy: 0.7886 - loss: 0.4310 - val_accuracy: 0.8021 - val_loss: 0.4166\n",
            "Epoch 4/10\n",
            "\u001b[1m141/141\u001b[0m \u001b[32m━━━━━━━━━━━━━━━━━━━━\u001b[0m\u001b[37m\u001b[0m \u001b[1m2s\u001b[0m 9ms/step - accuracy: 0.7906 - loss: 0.4277 - val_accuracy: 0.8128 - val_loss: 0.4150\n",
            "Epoch 5/10\n",
            "\u001b[1m141/141\u001b[0m \u001b[32m━━━━━━━━━━━━━━━━━━━━\u001b[0m\u001b[37m\u001b[0m \u001b[1m2s\u001b[0m 6ms/step - accuracy: 0.7992 - loss: 0.4307 - val_accuracy: 0.8101 - val_loss: 0.4144\n",
            "Epoch 6/10\n",
            "\u001b[1m141/141\u001b[0m \u001b[32m━━━━━━━━━━━━━━━━━━━━\u001b[0m\u001b[37m\u001b[0m \u001b[1m1s\u001b[0m 6ms/step - accuracy: 0.7913 - loss: 0.4191 - val_accuracy: 0.8110 - val_loss: 0.4107\n",
            "Epoch 7/10\n",
            "\u001b[1m141/141\u001b[0m \u001b[32m━━━━━━━━━━━━━━━━━━━━\u001b[0m\u001b[37m\u001b[0m \u001b[1m1s\u001b[0m 5ms/step - accuracy: 0.7894 - loss: 0.4278 - val_accuracy: 0.8137 - val_loss: 0.4098\n",
            "Epoch 8/10\n",
            "\u001b[1m141/141\u001b[0m \u001b[32m━━━━━━━━━━━━━━━━━━━━\u001b[0m\u001b[37m\u001b[0m \u001b[1m1s\u001b[0m 5ms/step - accuracy: 0.7997 - loss: 0.4188 - val_accuracy: 0.7915 - val_loss: 0.4150\n",
            "Epoch 9/10\n",
            "\u001b[1m141/141\u001b[0m \u001b[32m━━━━━━━━━━━━━━━━━━━━\u001b[0m\u001b[37m\u001b[0m \u001b[1m1s\u001b[0m 6ms/step - accuracy: 0.8000 - loss: 0.4208 - val_accuracy: 0.8119 - val_loss: 0.4085\n",
            "Epoch 10/10\n",
            "\u001b[1m141/141\u001b[0m \u001b[32m━━━━━━━━━━━━━━━━━━━━\u001b[0m\u001b[37m\u001b[0m \u001b[1m1s\u001b[0m 5ms/step - accuracy: 0.7845 - loss: 0.4300 - val_accuracy: 0.8110 - val_loss: 0.4076\n",
            "\u001b[1m45/45\u001b[0m \u001b[32m━━━━━━━━━━━━━━━━━━━━\u001b[0m\u001b[37m\u001b[0m \u001b[1m0s\u001b[0m 5ms/step\n",
            "Accuracy (LSTM units 128): 81.90%\n"
          ]
        }
      ]
    },
    {
      "cell_type": "code",
      "source": [
        "# Train with more LSTM units\n",
        "model_lstm_128 = Sequential()\n",
        "model_lstm_128.add(LSTM(128, return_sequences=False, input_shape=(X_train_lstm.shape[1], X_train_lstm.shape[2])))\n",
        "model_lstm_128.add(Dropout(0.3))\n",
        "model_lstm_128.add(Dense(1, activation='sigmoid'))\n",
        "\n",
        "# Compile and train\n",
        "model_lstm_128.compile(optimizer='adam', loss='binary_crossentropy', metrics=['accuracy'])\n",
        "history_lstm_128 = model_lstm_128.fit(X_train_lstm, y_train, epochs=10, batch_size=32, validation_split=0.2)\n",
        "\n",
        "# Evaluate model\n",
        "y_pred_lstm_128 = (model_lstm_128.predict(X_test_lstm) > 0.5).astype(\"int32\")\n",
        "accuracy_lstm_128 = accuracy_score(y_test, y_pred_lstm_128)\n",
        "print(f\"Accuracy (LSTM units 128): {accuracy_lstm_128 * 100:.2f}%\")\n"
      ],
      "metadata": {
        "colab": {
          "base_uri": "https://localhost:8080/"
        },
        "id": "IXNDCRzS5Ft7",
        "outputId": "cb1a1371-cbf8-46bd-ec6c-33d26573d586"
      },
      "execution_count": 13,
      "outputs": [
        {
          "output_type": "stream",
          "name": "stderr",
          "text": [
            "/usr/local/lib/python3.10/dist-packages/keras/src/layers/rnn/rnn.py:204: UserWarning: Do not pass an `input_shape`/`input_dim` argument to a layer. When using Sequential models, prefer using an `Input(shape)` object as the first layer in the model instead.\n",
            "  super().__init__(**kwargs)\n"
          ]
        },
        {
          "output_type": "stream",
          "name": "stdout",
          "text": [
            "Epoch 1/10\n",
            "\u001b[1m141/141\u001b[0m \u001b[32m━━━━━━━━━━━━━━━━━━━━\u001b[0m\u001b[37m\u001b[0m \u001b[1m4s\u001b[0m 12ms/step - accuracy: 0.7288 - loss: 0.5640 - val_accuracy: 0.7977 - val_loss: 0.4295\n",
            "Epoch 2/10\n",
            "\u001b[1m141/141\u001b[0m \u001b[32m━━━━━━━━━━━━━━━━━━━━\u001b[0m\u001b[37m\u001b[0m \u001b[1m2s\u001b[0m 6ms/step - accuracy: 0.7862 - loss: 0.4404 - val_accuracy: 0.8066 - val_loss: 0.4193\n",
            "Epoch 3/10\n",
            "\u001b[1m141/141\u001b[0m \u001b[32m━━━━━━━━━━━━━━━━━━━━\u001b[0m\u001b[37m\u001b[0m \u001b[1m1s\u001b[0m 7ms/step - accuracy: 0.7919 - loss: 0.4343 - val_accuracy: 0.8092 - val_loss: 0.4172\n",
            "Epoch 4/10\n",
            "\u001b[1m141/141\u001b[0m \u001b[32m━━━━━━━━━━━━━━━━━━━━\u001b[0m\u001b[37m\u001b[0m \u001b[1m1s\u001b[0m 5ms/step - accuracy: 0.7937 - loss: 0.4290 - val_accuracy: 0.8101 - val_loss: 0.4133\n",
            "Epoch 5/10\n",
            "\u001b[1m141/141\u001b[0m \u001b[32m━━━━━━━━━━━━━━━━━━━━\u001b[0m\u001b[37m\u001b[0m \u001b[1m1s\u001b[0m 6ms/step - accuracy: 0.7931 - loss: 0.4296 - val_accuracy: 0.8110 - val_loss: 0.4138\n",
            "Epoch 6/10\n",
            "\u001b[1m141/141\u001b[0m \u001b[32m━━━━━━━━━━━━━━━━━━━━\u001b[0m\u001b[37m\u001b[0m \u001b[1m1s\u001b[0m 6ms/step - accuracy: 0.7914 - loss: 0.4375 - val_accuracy: 0.8101 - val_loss: 0.4137\n",
            "Epoch 7/10\n",
            "\u001b[1m141/141\u001b[0m \u001b[32m━━━━━━━━━━━━━━━━━━━━\u001b[0m\u001b[37m\u001b[0m \u001b[1m1s\u001b[0m 6ms/step - accuracy: 0.7996 - loss: 0.4202 - val_accuracy: 0.8092 - val_loss: 0.4096\n",
            "Epoch 8/10\n",
            "\u001b[1m141/141\u001b[0m \u001b[32m━━━━━━━━━━━━━━━━━━━━\u001b[0m\u001b[37m\u001b[0m \u001b[1m1s\u001b[0m 6ms/step - accuracy: 0.8021 - loss: 0.4217 - val_accuracy: 0.8119 - val_loss: 0.4088\n",
            "Epoch 9/10\n",
            "\u001b[1m141/141\u001b[0m \u001b[32m━━━━━━━━━━━━━━━━━━━━\u001b[0m\u001b[37m\u001b[0m \u001b[1m1s\u001b[0m 6ms/step - accuracy: 0.8009 - loss: 0.4119 - val_accuracy: 0.8083 - val_loss: 0.4089\n",
            "Epoch 10/10\n",
            "\u001b[1m141/141\u001b[0m \u001b[32m━━━━━━━━━━━━━━━━━━━━\u001b[0m\u001b[37m\u001b[0m \u001b[1m1s\u001b[0m 6ms/step - accuracy: 0.7995 - loss: 0.4283 - val_accuracy: 0.8092 - val_loss: 0.4107\n",
            "\u001b[1m45/45\u001b[0m \u001b[32m━━━━━━━━━━━━━━━━━━━━\u001b[0m\u001b[37m\u001b[0m \u001b[1m0s\u001b[0m 6ms/step\n",
            "Accuracy (LSTM units 128): 81.62%\n"
          ]
        }
      ]
    },
    {
      "cell_type": "code",
      "source": [
        "# Train with higher dropout rate\n",
        "model_dropout_05 = Sequential()\n",
        "model_dropout_05.add(LSTM(64, return_sequences=False, input_shape=(X_train_lstm.shape[1], X_train_lstm.shape[2])))\n",
        "model_dropout_05.add(Dropout(0.5))\n",
        "model_dropout_05.add(Dense(1, activation='sigmoid'))\n",
        "\n",
        "# Compile and train\n",
        "model_dropout_05.compile(optimizer='adam', loss='binary_crossentropy', metrics=['accuracy'])\n",
        "history_dropout_05 = model_dropout_05.fit(X_train_lstm, y_train, epochs=10, batch_size=32, validation_split=0.2)\n",
        "\n",
        "# Evaluate model\n",
        "y_pred_dropout_05 = (model_dropout_05.predict(X_test_lstm) > 0.5).astype(\"int32\")\n",
        "accuracy_dropout_05 = accuracy_score(y_test, y_pred_dropout_05)\n",
        "print(f\"Accuracy (Dropout 0.5): {accuracy_dropout_05 * 100:.2f}%\")\n"
      ],
      "metadata": {
        "colab": {
          "base_uri": "https://localhost:8080/"
        },
        "id": "Ywe8EAvg5Pyz",
        "outputId": "d7b7fcc3-67c7-4994-f567-21dac6c2a200"
      },
      "execution_count": 14,
      "outputs": [
        {
          "output_type": "stream",
          "name": "stdout",
          "text": [
            "Epoch 1/10\n"
          ]
        },
        {
          "output_type": "stream",
          "name": "stderr",
          "text": [
            "/usr/local/lib/python3.10/dist-packages/keras/src/layers/rnn/rnn.py:204: UserWarning: Do not pass an `input_shape`/`input_dim` argument to a layer. When using Sequential models, prefer using an `Input(shape)` object as the first layer in the model instead.\n",
            "  super().__init__(**kwargs)\n"
          ]
        },
        {
          "output_type": "stream",
          "name": "stdout",
          "text": [
            "\u001b[1m141/141\u001b[0m \u001b[32m━━━━━━━━━━━━━━━━━━━━\u001b[0m\u001b[37m\u001b[0m \u001b[1m4s\u001b[0m 10ms/step - accuracy: 0.6907 - loss: 0.5871 - val_accuracy: 0.7924 - val_loss: 0.4418\n",
            "Epoch 2/10\n",
            "\u001b[1m141/141\u001b[0m \u001b[32m━━━━━━━━━━━━━━━━━━━━\u001b[0m\u001b[37m\u001b[0m \u001b[1m2s\u001b[0m 5ms/step - accuracy: 0.7923 - loss: 0.4428 - val_accuracy: 0.8039 - val_loss: 0.4226\n",
            "Epoch 3/10\n",
            "\u001b[1m141/141\u001b[0m \u001b[32m━━━━━━━━━━━━━━━━━━━━\u001b[0m\u001b[37m\u001b[0m \u001b[1m1s\u001b[0m 4ms/step - accuracy: 0.7900 - loss: 0.4303 - val_accuracy: 0.8048 - val_loss: 0.4174\n",
            "Epoch 4/10\n",
            "\u001b[1m141/141\u001b[0m \u001b[32m━━━━━━━━━━━━━━━━━━━━\u001b[0m\u001b[37m\u001b[0m \u001b[1m1s\u001b[0m 4ms/step - accuracy: 0.7819 - loss: 0.4472 - val_accuracy: 0.8110 - val_loss: 0.4152\n",
            "Epoch 5/10\n",
            "\u001b[1m141/141\u001b[0m \u001b[32m━━━━━━━━━━━━━━━━━━━━\u001b[0m\u001b[37m\u001b[0m \u001b[1m1s\u001b[0m 4ms/step - accuracy: 0.7968 - loss: 0.4172 - val_accuracy: 0.8119 - val_loss: 0.4136\n",
            "Epoch 6/10\n",
            "\u001b[1m141/141\u001b[0m \u001b[32m━━━━━━━━━━━━━━━━━━━━\u001b[0m\u001b[37m\u001b[0m \u001b[1m1s\u001b[0m 4ms/step - accuracy: 0.7993 - loss: 0.4261 - val_accuracy: 0.8119 - val_loss: 0.4126\n",
            "Epoch 7/10\n",
            "\u001b[1m141/141\u001b[0m \u001b[32m━━━━━━━━━━━━━━━━━━━━\u001b[0m\u001b[37m\u001b[0m \u001b[1m1s\u001b[0m 4ms/step - accuracy: 0.7957 - loss: 0.4242 - val_accuracy: 0.8057 - val_loss: 0.4120\n",
            "Epoch 8/10\n",
            "\u001b[1m141/141\u001b[0m \u001b[32m━━━━━━━━━━━━━━━━━━━━\u001b[0m\u001b[37m\u001b[0m \u001b[1m1s\u001b[0m 4ms/step - accuracy: 0.7912 - loss: 0.4364 - val_accuracy: 0.8110 - val_loss: 0.4101\n",
            "Epoch 9/10\n",
            "\u001b[1m141/141\u001b[0m \u001b[32m━━━━━━━━━━━━━━━━━━━━\u001b[0m\u001b[37m\u001b[0m \u001b[1m1s\u001b[0m 4ms/step - accuracy: 0.7969 - loss: 0.4240 - val_accuracy: 0.8101 - val_loss: 0.4094\n",
            "Epoch 10/10\n",
            "\u001b[1m141/141\u001b[0m \u001b[32m━━━━━━━━━━━━━━━━━━━━\u001b[0m\u001b[37m\u001b[0m \u001b[1m1s\u001b[0m 4ms/step - accuracy: 0.7859 - loss: 0.4412 - val_accuracy: 0.8075 - val_loss: 0.4090\n",
            "\u001b[1m45/45\u001b[0m \u001b[32m━━━━━━━━━━━━━━━━━━━━\u001b[0m\u001b[37m\u001b[0m \u001b[1m0s\u001b[0m 6ms/step\n",
            "Accuracy (Dropout 0.5): 81.41%\n"
          ]
        }
      ]
    },
    {
      "cell_type": "code",
      "source": [
        "# Train with RMSprop optimizer\n",
        "model_rmsprop = Sequential()\n",
        "model_rmsprop.add(LSTM(64, return_sequences=False, input_shape=(X_train_lstm.shape[1], X_train_lstm.shape[2])))\n",
        "model_rmsprop.add(Dropout(0.3))\n",
        "model_rmsprop.add(Dense(1, activation='sigmoid'))\n",
        "\n",
        "# Compile and train\n",
        "model_rmsprop.compile(optimizer='RMSprop', loss='binary_crossentropy', metrics=['accuracy'])\n",
        "history_rmsprop = model_rmsprop.fit(X_train_lstm, y_train, epochs=10, batch_size=32, validation_split=0.2)\n",
        "\n",
        "# Evaluate model\n",
        "y_pred_rmsprop = (model_rmsprop.predict(X_test_lstm) > 0.5).astype(\"int32\")\n",
        "accuracy_rmsprop = accuracy_score(y_test, y_pred_rmsprop)\n",
        "print(f\"Accuracy (RMSprop optimizer): {accuracy_rmsprop * 100:.2f}%\")\n",
        "\n"
      ],
      "metadata": {
        "colab": {
          "base_uri": "https://localhost:8080/"
        },
        "id": "gro1V-oi5ZJ0",
        "outputId": "42028d16-cdc5-4a72-8a74-38ed4e62aebc"
      },
      "execution_count": 15,
      "outputs": [
        {
          "output_type": "stream",
          "name": "stdout",
          "text": [
            "Epoch 1/10\n"
          ]
        },
        {
          "output_type": "stream",
          "name": "stderr",
          "text": [
            "/usr/local/lib/python3.10/dist-packages/keras/src/layers/rnn/rnn.py:204: UserWarning: Do not pass an `input_shape`/`input_dim` argument to a layer. When using Sequential models, prefer using an `Input(shape)` object as the first layer in the model instead.\n",
            "  super().__init__(**kwargs)\n"
          ]
        },
        {
          "output_type": "stream",
          "name": "stdout",
          "text": [
            "\u001b[1m141/141\u001b[0m \u001b[32m━━━━━━━━━━━━━━━━━━━━\u001b[0m\u001b[37m\u001b[0m \u001b[1m3s\u001b[0m 7ms/step - accuracy: 0.7267 - loss: 0.5730 - val_accuracy: 0.7933 - val_loss: 0.4379\n",
            "Epoch 2/10\n",
            "\u001b[1m141/141\u001b[0m \u001b[32m━━━━━━━━━━━━━━━━━━━━\u001b[0m\u001b[37m\u001b[0m \u001b[1m1s\u001b[0m 6ms/step - accuracy: 0.7754 - loss: 0.4496 - val_accuracy: 0.8004 - val_loss: 0.4207\n",
            "Epoch 3/10\n",
            "\u001b[1m141/141\u001b[0m \u001b[32m━━━━━━━━━━━━━━━━━━━━\u001b[0m\u001b[37m\u001b[0m \u001b[1m1s\u001b[0m 6ms/step - accuracy: 0.7901 - loss: 0.4331 - val_accuracy: 0.8075 - val_loss: 0.4171\n",
            "Epoch 4/10\n",
            "\u001b[1m141/141\u001b[0m \u001b[32m━━━━━━━━━━━━━━━━━━━━\u001b[0m\u001b[37m\u001b[0m \u001b[1m1s\u001b[0m 7ms/step - accuracy: 0.7999 - loss: 0.4218 - val_accuracy: 0.8083 - val_loss: 0.4149\n",
            "Epoch 5/10\n",
            "\u001b[1m141/141\u001b[0m \u001b[32m━━━━━━━━━━━━━━━━━━━━\u001b[0m\u001b[37m\u001b[0m \u001b[1m1s\u001b[0m 4ms/step - accuracy: 0.7940 - loss: 0.4192 - val_accuracy: 0.8110 - val_loss: 0.4141\n",
            "Epoch 6/10\n",
            "\u001b[1m141/141\u001b[0m \u001b[32m━━━━━━━━━━━━━━━━━━━━\u001b[0m\u001b[37m\u001b[0m \u001b[1m1s\u001b[0m 4ms/step - accuracy: 0.7951 - loss: 0.4190 - val_accuracy: 0.8119 - val_loss: 0.4125\n",
            "Epoch 7/10\n",
            "\u001b[1m141/141\u001b[0m \u001b[32m━━━━━━━━━━━━━━━━━━━━\u001b[0m\u001b[37m\u001b[0m \u001b[1m1s\u001b[0m 4ms/step - accuracy: 0.7865 - loss: 0.4372 - val_accuracy: 0.8083 - val_loss: 0.4151\n",
            "Epoch 8/10\n",
            "\u001b[1m141/141\u001b[0m \u001b[32m━━━━━━━━━━━━━━━━━━━━\u001b[0m\u001b[37m\u001b[0m \u001b[1m1s\u001b[0m 4ms/step - accuracy: 0.7915 - loss: 0.4311 - val_accuracy: 0.8110 - val_loss: 0.4113\n",
            "Epoch 9/10\n",
            "\u001b[1m141/141\u001b[0m \u001b[32m━━━━━━━━━━━━━━━━━━━━\u001b[0m\u001b[37m\u001b[0m \u001b[1m1s\u001b[0m 4ms/step - accuracy: 0.7939 - loss: 0.4272 - val_accuracy: 0.8092 - val_loss: 0.4118\n",
            "Epoch 10/10\n",
            "\u001b[1m141/141\u001b[0m \u001b[32m━━━━━━━━━━━━━━━━━━━━\u001b[0m\u001b[37m\u001b[0m \u001b[1m1s\u001b[0m 4ms/step - accuracy: 0.8077 - loss: 0.4091 - val_accuracy: 0.8110 - val_loss: 0.4097\n",
            "\u001b[1m45/45\u001b[0m \u001b[32m━━━━━━━━━━━━━━━━━━━━\u001b[0m\u001b[37m\u001b[0m \u001b[1m0s\u001b[0m 6ms/step\n",
            "Accuracy (RMSprop optimizer): 81.55%\n"
          ]
        }
      ]
    },
    {
      "cell_type": "code",
      "source": [
        "\n",
        "model_acti = Sequential()\n",
        "model_acti.add(LSTM(64, return_sequences=False, input_shape=(X_train_lstm.shape[1], X_train_lstm.shape[2])))\n",
        "model_acti.add(Dropout(0.3))\n",
        "model_acti.add(Dense(1, activation='tanh'))\n",
        "\n",
        "# Compile and train\n",
        "model_acti.compile(optimizer='adam', loss='binary_crossentropy', metrics=['accuracy'])\n",
        "history_acti = model_rmsprop.fit(X_train_lstm, y_train, epochs=10, batch_size=32, validation_split=0.2)\n",
        "\n",
        "# Evaluate model\n",
        "y_pred_acti = (model_rmsprop.predict(X_test_lstm) > 0.5).astype(\"int32\")\n",
        "accuracy_acti = accuracy_score(y_test, y_pred_acti)\n",
        "print(f\"Accuracy (Activation): {accuracy_acti * 100:.2f}%\")"
      ],
      "metadata": {
        "colab": {
          "base_uri": "https://localhost:8080/"
        },
        "id": "P0DDlPj15aAf",
        "outputId": "c84ae532-748c-4c7c-ba5f-a2662c2cc42c"
      },
      "execution_count": 16,
      "outputs": [
        {
          "output_type": "stream",
          "name": "stdout",
          "text": [
            "Epoch 1/10\n",
            "\u001b[1m 19/141\u001b[0m \u001b[32m━━\u001b[0m\u001b[37m━━━━━━━━━━━━━━━━━━\u001b[0m \u001b[1m0s\u001b[0m 3ms/step - accuracy: 0.7914 - loss: 0.4230 "
          ]
        },
        {
          "output_type": "stream",
          "name": "stderr",
          "text": [
            "/usr/local/lib/python3.10/dist-packages/keras/src/layers/rnn/rnn.py:204: UserWarning: Do not pass an `input_shape`/`input_dim` argument to a layer. When using Sequential models, prefer using an `Input(shape)` object as the first layer in the model instead.\n",
            "  super().__init__(**kwargs)\n"
          ]
        },
        {
          "output_type": "stream",
          "name": "stdout",
          "text": [
            "\u001b[1m141/141\u001b[0m \u001b[32m━━━━━━━━━━━━━━━━━━━━\u001b[0m\u001b[37m\u001b[0m \u001b[1m1s\u001b[0m 4ms/step - accuracy: 0.7961 - loss: 0.4256 - val_accuracy: 0.7968 - val_loss: 0.4119\n",
            "Epoch 2/10\n",
            "\u001b[1m141/141\u001b[0m \u001b[32m━━━━━━━━━━━━━━━━━━━━\u001b[0m\u001b[37m\u001b[0m \u001b[1m1s\u001b[0m 4ms/step - accuracy: 0.8015 - loss: 0.4121 - val_accuracy: 0.8101 - val_loss: 0.4088\n",
            "Epoch 3/10\n",
            "\u001b[1m141/141\u001b[0m \u001b[32m━━━━━━━━━━━━━━━━━━━━\u001b[0m\u001b[37m\u001b[0m \u001b[1m1s\u001b[0m 4ms/step - accuracy: 0.7960 - loss: 0.4289 - val_accuracy: 0.8066 - val_loss: 0.4075\n",
            "Epoch 4/10\n",
            "\u001b[1m141/141\u001b[0m \u001b[32m━━━━━━━━━━━━━━━━━━━━\u001b[0m\u001b[37m\u001b[0m \u001b[1m1s\u001b[0m 4ms/step - accuracy: 0.8012 - loss: 0.4241 - val_accuracy: 0.8057 - val_loss: 0.4067\n",
            "Epoch 5/10\n",
            "\u001b[1m141/141\u001b[0m \u001b[32m━━━━━━━━━━━━━━━━━━━━\u001b[0m\u001b[37m\u001b[0m \u001b[1m1s\u001b[0m 4ms/step - accuracy: 0.8004 - loss: 0.4043 - val_accuracy: 0.8101 - val_loss: 0.4067\n",
            "Epoch 6/10\n",
            "\u001b[1m141/141\u001b[0m \u001b[32m━━━━━━━━━━━━━━━━━━━━\u001b[0m\u001b[37m\u001b[0m \u001b[1m1s\u001b[0m 4ms/step - accuracy: 0.7974 - loss: 0.4319 - val_accuracy: 0.8110 - val_loss: 0.4067\n",
            "Epoch 7/10\n",
            "\u001b[1m141/141\u001b[0m \u001b[32m━━━━━━━━━━━━━━━━━━━━\u001b[0m\u001b[37m\u001b[0m \u001b[1m1s\u001b[0m 4ms/step - accuracy: 0.8007 - loss: 0.4077 - val_accuracy: 0.8066 - val_loss: 0.4057\n",
            "Epoch 8/10\n",
            "\u001b[1m141/141\u001b[0m \u001b[32m━━━━━━━━━━━━━━━━━━━━\u001b[0m\u001b[37m\u001b[0m \u001b[1m1s\u001b[0m 4ms/step - accuracy: 0.7967 - loss: 0.4137 - val_accuracy: 0.8092 - val_loss: 0.4059\n",
            "Epoch 9/10\n",
            "\u001b[1m141/141\u001b[0m \u001b[32m━━━━━━━━━━━━━━━━━━━━\u001b[0m\u001b[37m\u001b[0m \u001b[1m1s\u001b[0m 4ms/step - accuracy: 0.7953 - loss: 0.4321 - val_accuracy: 0.8110 - val_loss: 0.4067\n",
            "Epoch 10/10\n",
            "\u001b[1m141/141\u001b[0m \u001b[32m━━━━━━━━━━━━━━━━━━━━\u001b[0m\u001b[37m\u001b[0m \u001b[1m1s\u001b[0m 6ms/step - accuracy: 0.8044 - loss: 0.4180 - val_accuracy: 0.8101 - val_loss: 0.4067\n",
            "\u001b[1m45/45\u001b[0m \u001b[32m━━━━━━━━━━━━━━━━━━━━\u001b[0m\u001b[37m\u001b[0m \u001b[1m0s\u001b[0m 3ms/step\n",
            "Accuracy (Activation): 81.26%\n"
          ]
        }
      ]
    },
    {
      "cell_type": "markdown",
      "source": [
        "----------------------------------------------------------"
      ],
      "metadata": {
        "id": "f1nVUxsdbPoG"
      }
    },
    {
      "cell_type": "code",
      "source": [],
      "metadata": {
        "id": "tDqh7rA0kcwN"
      },
      "execution_count": 16,
      "outputs": []
    },
    {
      "cell_type": "markdown",
      "source": [
        "**BI-LSTM**"
      ],
      "metadata": {
        "id": "GSkpLUR4S8lE"
      }
    },
    {
      "cell_type": "code",
      "source": [
        "import numpy as np\n",
        "import tensorflow as tf\n",
        "from tensorflow.keras.models import Sequential\n",
        "from tensorflow.keras.layers import LSTM, Bidirectional, Dense, Dropout\n",
        "from sklearn.preprocessing import MinMaxScaler\n",
        "from sklearn.metrics import accuracy_score, classification_report, confusion_matrix, roc_auc_score, roc_curve\n",
        "import matplotlib.pyplot as plt\n",
        "\n",
        "# Reshape the training and testing data for LSTM (1 timestep in this case)\n",
        "X_train_bilstm = np.array(X_train).reshape((X_train.shape[0], 1, X_train.shape[1]))\n",
        "X_test_bilstm = np.array(X_test).reshape((X_test.shape[0], 1, X_test.shape[1]))\n",
        "\n",
        "# Define the BiLSTM model using a different variable name (bilstm_model)\n",
        "bilstm_model = Sequential()\n",
        "\n",
        "# Add a Bidirectional LSTM layer\n",
        "bilstm_model.add(Bidirectional(LSTM(64, return_sequences=False), input_shape=(X_train_bilstm.shape[1], X_train_bilstm.shape[2])))\n",
        "\n",
        "# Add Dropout to prevent overfitting\n",
        "bilstm_model.add(Dropout(0.3))\n",
        "\n",
        "# Add a Dense output layer with a sigmoid activation function for binary classification\n",
        "bilstm_model.add(Dense(1, activation='sigmoid'))\n",
        "\n",
        "# Compile the BiLSTM model\n",
        "bilstm_model.compile(optimizer='adam', loss='binary_crossentropy', metrics=['accuracy'])\n",
        "\n",
        "# Train the BiLSTM model\n",
        "history_bilstm = bilstm_model.fit(X_train_bilstm, y_train, epochs=10, batch_size=32, validation_split=0.2)\n",
        "\n",
        "# Make predictions on the test set\n",
        "y_pred_prob_bilstm = bilstm_model.predict(X_test_bilstm)  # Get predicted probabilities\n",
        "y_pred_bilstm = (y_pred_prob_bilstm > 0.5).astype(\"int32\")\n",
        "\n",
        "# Evaluate the BiLSTM model\n",
        "accuracy_bilstm = accuracy_score(y_test, y_pred_bilstm)\n",
        "print(f\"bi-LSTM Accuracy: {accuracy_bilstm * 100:.2f}%\")\n",
        "\n",
        "# Print classification report and confusion matrix\n",
        "print(\"\\nClassification Report:\")\n",
        "print(classification_report(y_test, y_pred_bilstm))\n",
        "\n",
        "print(\"\\nConfusion Matrix:\")\n",
        "print(confusion_matrix(y_test, y_pred_bilstm))\n",
        "\n",
        "# Calculate ROC-AUC score\n",
        "roc_auc_bilstm = roc_auc_score(y_test, y_pred_prob_bilstm)\n",
        "print(f\"bi-LSTM ROC-AUC Score: {roc_auc_bilstm:.2f}\")\n",
        "\n",
        "# Plot ROC curve\n",
        "fpr_bilstm, tpr_bilstm, _ = roc_curve(y_test, y_pred_prob_bilstm)\n",
        "plt.figure()\n",
        "plt.plot(fpr_bilstm, tpr_bilstm, color='blue', label=f'ROC Curve (area = {roc_auc_bilstm:.2f})')\n",
        "plt.plot([0, 1], [0, 1], color='gray', linestyle='--')\n",
        "plt.xlim([0.0, 1.0])\n",
        "plt.ylim([0.0, 1.05])\n",
        "plt.xlabel('False Positive Rate')\n",
        "plt.ylabel('True Positive Rate')\n",
        "plt.title('ROC Curve for bi-LSTM Model')\n",
        "plt.legend(loc='lower right')\n",
        "plt.show()\n",
        "\n",
        "\n"
      ],
      "metadata": {
        "id": "L_rqmW0HTAuF",
        "colab": {
          "base_uri": "https://localhost:8080/",
          "height": 1000
        },
        "outputId": "389a1aac-ddea-49f9-e740-7b8a2fa331fb"
      },
      "execution_count": 17,
      "outputs": [
        {
          "output_type": "stream",
          "name": "stdout",
          "text": [
            "Epoch 1/10\n"
          ]
        },
        {
          "output_type": "stream",
          "name": "stderr",
          "text": [
            "/usr/local/lib/python3.10/dist-packages/keras/src/layers/rnn/bidirectional.py:107: UserWarning: Do not pass an `input_shape`/`input_dim` argument to a layer. When using Sequential models, prefer using an `Input(shape)` object as the first layer in the model instead.\n",
            "  super().__init__(**kwargs)\n"
          ]
        },
        {
          "output_type": "stream",
          "name": "stdout",
          "text": [
            "\u001b[1m141/141\u001b[0m \u001b[32m━━━━━━━━━━━━━━━━━━━━\u001b[0m\u001b[37m\u001b[0m \u001b[1m7s\u001b[0m 9ms/step - accuracy: 0.7467 - loss: 0.5456 - val_accuracy: 0.7835 - val_loss: 0.4371\n",
            "Epoch 2/10\n",
            "\u001b[1m141/141\u001b[0m \u001b[32m━━━━━━━━━━━━━━━━━━━━\u001b[0m\u001b[37m\u001b[0m \u001b[1m2s\u001b[0m 5ms/step - accuracy: 0.7869 - loss: 0.4407 - val_accuracy: 0.8092 - val_loss: 0.4169\n",
            "Epoch 3/10\n",
            "\u001b[1m141/141\u001b[0m \u001b[32m━━━━━━━━━━━━━━━━━━━━\u001b[0m\u001b[37m\u001b[0m \u001b[1m1s\u001b[0m 6ms/step - accuracy: 0.7857 - loss: 0.4309 - val_accuracy: 0.8092 - val_loss: 0.4139\n",
            "Epoch 4/10\n",
            "\u001b[1m141/141\u001b[0m \u001b[32m━━━━━━━━━━━━━━━━━━━━\u001b[0m\u001b[37m\u001b[0m \u001b[1m1s\u001b[0m 6ms/step - accuracy: 0.7928 - loss: 0.4269 - val_accuracy: 0.8119 - val_loss: 0.4122\n",
            "Epoch 5/10\n",
            "\u001b[1m141/141\u001b[0m \u001b[32m━━━━━━━━━━━━━━━━━━━━\u001b[0m\u001b[37m\u001b[0m \u001b[1m1s\u001b[0m 6ms/step - accuracy: 0.7913 - loss: 0.4258 - val_accuracy: 0.8101 - val_loss: 0.4116\n",
            "Epoch 6/10\n",
            "\u001b[1m141/141\u001b[0m \u001b[32m━━━━━━━━━━━━━━━━━━━━\u001b[0m\u001b[37m\u001b[0m \u001b[1m1s\u001b[0m 5ms/step - accuracy: 0.7903 - loss: 0.4349 - val_accuracy: 0.8092 - val_loss: 0.4151\n",
            "Epoch 7/10\n",
            "\u001b[1m141/141\u001b[0m \u001b[32m━━━━━━━━━━━━━━━━━━━━\u001b[0m\u001b[37m\u001b[0m \u001b[1m1s\u001b[0m 5ms/step - accuracy: 0.7748 - loss: 0.4552 - val_accuracy: 0.8119 - val_loss: 0.4122\n",
            "Epoch 8/10\n",
            "\u001b[1m141/141\u001b[0m \u001b[32m━━━━━━━━━━━━━━━━━━━━\u001b[0m\u001b[37m\u001b[0m \u001b[1m1s\u001b[0m 7ms/step - accuracy: 0.7967 - loss: 0.4338 - val_accuracy: 0.8092 - val_loss: 0.4073\n",
            "Epoch 9/10\n",
            "\u001b[1m141/141\u001b[0m \u001b[32m━━━━━━━━━━━━━━━━━━━━\u001b[0m\u001b[37m\u001b[0m \u001b[1m2s\u001b[0m 9ms/step - accuracy: 0.7946 - loss: 0.4269 - val_accuracy: 0.8101 - val_loss: 0.4083\n",
            "Epoch 10/10\n",
            "\u001b[1m141/141\u001b[0m \u001b[32m━━━━━━━━━━━━━━━━━━━━\u001b[0m\u001b[37m\u001b[0m \u001b[1m2s\u001b[0m 6ms/step - accuracy: 0.7968 - loss: 0.4291 - val_accuracy: 0.8075 - val_loss: 0.4063\n",
            "\u001b[1m45/45\u001b[0m \u001b[32m━━━━━━━━━━━━━━━━━━━━\u001b[0m\u001b[37m\u001b[0m \u001b[1m1s\u001b[0m 10ms/step\n",
            "bi-LSTM Accuracy: 81.41%\n",
            "\n",
            "Classification Report:\n",
            "              precision    recall  f1-score   support\n",
            "\n",
            "           0       0.86      0.89      0.88      1036\n",
            "           1       0.66      0.60      0.63       373\n",
            "\n",
            "    accuracy                           0.81      1409\n",
            "   macro avg       0.76      0.75      0.75      1409\n",
            "weighted avg       0.81      0.81      0.81      1409\n",
            "\n",
            "\n",
            "Confusion Matrix:\n",
            "[[923 113]\n",
            " [149 224]]\n",
            "bi-LSTM ROC-AUC Score: 0.86\n"
          ]
        },
        {
          "output_type": "display_data",
          "data": {
            "text/plain": [
              "<Figure size 640x480 with 1 Axes>"
            ],
            "image/png": "[encoded data removed]"
          },
          "metadata": {}
        }
      ]
    },
    {
      "cell_type": "markdown",
      "source": [
        "**MLP**"
      ],
      "metadata": {
        "id": "wxGvaNIFm83M"
      }
    },
    {
      "cell_type": "code",
      "source": [
        "import numpy as np\n",
        "import tensorflow as tf\n",
        "from tensorflow.keras.models import Sequential\n",
        "from tensorflow.keras.layers import Dense, Dropout\n",
        "from tensorflow.keras.callbacks import EarlyStopping\n",
        "from sklearn.metrics import accuracy_score, classification_report, confusion_matrix, roc_auc_score, roc_curve\n",
        "import matplotlib.pyplot as plt\n",
        "\n",
        "# Prepare the training and test data for MLP\n",
        "X_train_mlp = np.array(X_train)\n",
        "X_test_mlp = np.array(X_test)\n",
        "\n",
        "# Define the MLP model\n",
        "mlp_model = Sequential()\n",
        "\n",
        "# Input layer with 256 units and 'tanh' activation function\n",
        "mlp_model.add(Dense(256, activation='tanh', input_shape=(X_train_mlp.shape[1],)))\n",
        "\n",
        "# Add Dropout to prevent overfitting\n",
        "mlp_model.add(Dropout(0.3))\n",
        "\n",
        "# Second hidden layer with 128 units and 'tanh' activation\n",
        "mlp_model.add(Dense(128, activation='tanh'))\n",
        "\n",
        "# Add Dropout\n",
        "mlp_model.add(Dropout(0.3))\n",
        "\n",
        "# Third hidden layer with 64 units and Leaky ReLU activation\n",
        "mlp_model.add(Dense(64))\n",
        "mlp_model.add(tf.keras.layers.LeakyReLU(alpha=0.1))\n",
        "\n",
        "# Output layer for binary classification with sigmoid activation\n",
        "mlp_model.add(Dense(1, activation='sigmoid'))\n",
        "\n",
        "# Compile the MLP model\n",
        "mlp_model.compile(optimizer='adam', loss='binary_crossentropy', metrics=['accuracy'])\n",
        "\n",
        "# Implement EarlyStopping for MLP\n",
        "early_stopping_mlp = EarlyStopping(monitor='val_loss', patience=3, restore_best_weights=True)\n",
        "\n",
        "# Train the MLP model\n",
        "history_mlp = mlp_model.fit(X_train_mlp, y_train,\n",
        "                            epochs=50,\n",
        "                            batch_size=32,\n",
        "                            validation_split=0.2,\n",
        "                            callbacks=[early_stopping_mlp],\n",
        "                            verbose=1)\n",
        "\n",
        "# Visualize Training History (Accuracy per Epoch)\n",
        "plt.plot(history_mlp.history['accuracy'], label='Training Accuracy')\n",
        "plt.plot(history_mlp.history['val_accuracy'], label='Validation Accuracy')\n",
        "plt.xlabel('Epochs')\n",
        "plt.ylabel('Accuracy')\n",
        "plt.title('Training and Validation Accuracy (MLP)')\n",
        "plt.legend()\n",
        "plt.show()\n",
        "\n",
        "# Make predictions on the test set\n",
        "y_pred_prob_mlp = mlp_model.predict(X_test_mlp)  # Get predicted probabilities\n",
        "y_pred_mlp = (y_pred_prob_mlp > 0.5).astype(\"int32\")\n",
        "\n",
        "# Evaluate the MLP model\n",
        "accuracy_mlp = accuracy_score(y_test, y_pred_mlp)\n",
        "print(f\"MLP Accuracy: {accuracy_mlp * 100:.2f}%\")\n",
        "\n",
        "# Print classification report and confusion matrix\n",
        "print(\"\\nClassification Report:\")\n",
        "print(classification_report(y_test, y_pred_mlp))\n",
        "\n",
        "print(\"\\nConfusion Matrix:\")\n",
        "print(confusion_matrix(y_test, y_pred_mlp))\n",
        "\n",
        "# Calculate ROC-AUC score for MLP\n",
        "roc_auc_mlp = roc_auc_score(y_test, y_pred_prob_mlp)\n",
        "print(f\"MLP ROC-AUC Score: {roc_auc_mlp:.2f}\")\n",
        "\n",
        "# Plot ROC curve for MLP\n",
        "fpr_mlp, tpr_mlp, _ = roc_curve(y_test, y_pred_prob_mlp)\n",
        "plt.figure()\n",
        "plt.plot(fpr_mlp, tpr_mlp, color='blue', label=f'ROC Curve (area = {roc_auc_mlp:.2f})')\n",
        "plt.plot([0, 1], [0, 1], color='gray', linestyle='--')\n",
        "plt.xlim([0.0, 1.0])\n",
        "plt.ylim([0.0, 1.05])\n",
        "plt.xlabel('False Positive Rate')\n",
        "plt.ylabel('True Positive Rate')\n",
        "plt.title('ROC Curve for MLP Model')\n",
        "plt.legend(loc='lower right')\n",
        "plt.show()\n",
        "\n"
      ],
      "metadata": {
        "colab": {
          "base_uri": "https://localhost:8080/",
          "height": 1000
        },
        "id": "9aBROrh8m-vc",
        "outputId": "cebab459-ce7a-490a-b224-dd3e35435017"
      },
      "execution_count": 18,
      "outputs": [
        {
          "output_type": "stream",
          "name": "stdout",
          "text": [
            "Epoch 1/50\n"
          ]
        },
        {
          "output_type": "stream",
          "name": "stderr",
          "text": [
            "/usr/local/lib/python3.10/dist-packages/keras/src/layers/core/dense.py:87: UserWarning: Do not pass an `input_shape`/`input_dim` argument to a layer. When using Sequential models, prefer using an `Input(shape)` object as the first layer in the model instead.\n",
            "  super().__init__(activity_regularizer=activity_regularizer, **kwargs)\n",
            "/usr/local/lib/python3.10/dist-packages/keras/src/layers/activations/leaky_relu.py:41: UserWarning: Argument `alpha` is deprecated. Use `negative_slope` instead.\n",
            "  warnings.warn(\n"
          ]
        },
        {
          "output_type": "stream",
          "name": "stdout",
          "text": [
            "\u001b[1m141/141\u001b[0m \u001b[32m━━━━━━━━━━━━━━━━━━━━\u001b[0m\u001b[37m\u001b[0m \u001b[1m3s\u001b[0m 5ms/step - accuracy: 0.7798 - loss: 0.4744 - val_accuracy: 0.7977 - val_loss: 0.4198\n",
            "Epoch 2/50\n",
            "\u001b[1m141/141\u001b[0m \u001b[32m━━━━━━━━━━━━━━━━━━━━\u001b[0m\u001b[37m\u001b[0m \u001b[1m1s\u001b[0m 5ms/step - accuracy: 0.7949 - loss: 0.4375 - val_accuracy: 0.8092 - val_loss: 0.4180\n",
            "Epoch 3/50\n",
            "\u001b[1m141/141\u001b[0m \u001b[32m━━━━━━━━━━━━━━━━━━━━\u001b[0m\u001b[37m\u001b[0m \u001b[1m1s\u001b[0m 4ms/step - accuracy: 0.7816 - loss: 0.4442 - val_accuracy: 0.7977 - val_loss: 0.4129\n",
            "Epoch 4/50\n",
            "\u001b[1m141/141\u001b[0m \u001b[32m━━━━━━━━━━━━━━━━━━━━\u001b[0m\u001b[37m\u001b[0m \u001b[1m1s\u001b[0m 4ms/step - accuracy: 0.7946 - loss: 0.4372 - val_accuracy: 0.8030 - val_loss: 0.4126\n",
            "Epoch 5/50\n",
            "\u001b[1m141/141\u001b[0m \u001b[32m━━━━━━━━━━━━━━━━━━━━\u001b[0m\u001b[37m\u001b[0m \u001b[1m1s\u001b[0m 5ms/step - accuracy: 0.7903 - loss: 0.4407 - val_accuracy: 0.8030 - val_loss: 0.4142\n",
            "Epoch 6/50\n",
            "\u001b[1m141/141\u001b[0m \u001b[32m━━━━━━━━━━━━━━━━━━━━\u001b[0m\u001b[37m\u001b[0m \u001b[1m1s\u001b[0m 4ms/step - accuracy: 0.7975 - loss: 0.4262 - val_accuracy: 0.7995 - val_loss: 0.4136\n",
            "Epoch 7/50\n",
            "\u001b[1m141/141\u001b[0m \u001b[32m━━━━━━━━━━━━━━━━━━━━\u001b[0m\u001b[37m\u001b[0m \u001b[1m1s\u001b[0m 4ms/step - accuracy: 0.8075 - loss: 0.4185 - val_accuracy: 0.7995 - val_loss: 0.4171\n"
          ]
        },
        {
          "output_type": "display_data",
          "data": {
            "text/plain": [
              "<Figure size 640x480 with 1 Axes>"
            ],
            "image/png": "[encoded data removed]"
          },
          "metadata": {}
        },
        {
          "output_type": "stream",
          "name": "stdout",
          "text": [
            "\u001b[1m45/45\u001b[0m \u001b[32m━━━━━━━━━━━━━━━━━━━━\u001b[0m\u001b[37m\u001b[0m \u001b[1m0s\u001b[0m 3ms/step\n",
            "MLP Accuracy: 80.62%\n",
            "\n",
            "Classification Report:\n",
            "              precision    recall  f1-score   support\n",
            "\n",
            "           0       0.85      0.89      0.87      1036\n",
            "           1       0.65      0.57      0.61       373\n",
            "\n",
            "    accuracy                           0.81      1409\n",
            "   macro avg       0.75      0.73      0.74      1409\n",
            "weighted avg       0.80      0.81      0.80      1409\n",
            "\n",
            "\n",
            "Confusion Matrix:\n",
            "[[923 113]\n",
            " [160 213]]\n",
            "MLP ROC-AUC Score: 0.85\n"
          ]
        },
        {
          "output_type": "display_data",
          "data": {
            "text/plain": [
              "<Figure size 640x480 with 1 Axes>"
            ],
            "image/png": "[encoded data removed]"
          },
          "metadata": {}
        }
      ]
    },
    {
      "cell_type": "markdown",
      "source": [
        "**CNN**"
      ],
      "metadata": {
        "id": "q3i56u-qybai"
      }
    },
    {
      "cell_type": "code",
      "source": [
        "import numpy as np\n",
        "import tensorflow as tf\n",
        "from tensorflow.keras.models import Sequential\n",
        "from tensorflow.keras.layers import Conv1D, MaxPooling1D, Flatten, Dense, Dropout\n",
        "from sklearn.metrics import accuracy_score, classification_report, confusion_matrix, roc_auc_score, roc_curve\n",
        "import matplotlib.pyplot as plt\n",
        "\n",
        "# Reshape the input data for CNN (CNN expects input in 3D format: (samples, timesteps, features))\n",
        "X_train_cnn = np.array(X_train).reshape((X_train.shape[0], X_train.shape[1], 1))\n",
        "X_test_cnn = np.array(X_test).reshape((X_test.shape[0], X_test.shape[1], 1))\n",
        "\n",
        "# Define the CNN model using a different variable name (cnn_model)\n",
        "cnn_model = Sequential()\n",
        "\n",
        "# Add a 1D convolutional layer with 64 filters, kernel size 3, and ReLU activation\n",
        "cnn_model.add(Conv1D(filters=64, kernel_size=3, activation='relu', input_shape=(X_train_cnn.shape[1], 1)))\n",
        "\n",
        "# Add a max pooling layer\n",
        "cnn_model.add(MaxPooling1D(pool_size=2))\n",
        "\n",
        "# Flatten the output before feeding into the dense layers\n",
        "cnn_model.add(Flatten())\n",
        "\n",
        "# Add a dropout layer to prevent overfitting\n",
        "cnn_model.add(Dropout(0.3))\n",
        "\n",
        "# Add a dense layer with 64 units and ReLU activation\n",
        "cnn_model.add(Dense(64, activation='relu'))\n",
        "\n",
        "# Add the output layer with a sigmoid activation for binary classification\n",
        "cnn_model.add(Dense(1, activation='sigmoid'))\n",
        "\n",
        "# Compile the CNN model\n",
        "cnn_model.compile(optimizer='adam', loss='binary_crossentropy', metrics=['accuracy'])\n",
        "\n",
        "# Train the CNN model\n",
        "history_cnn = cnn_model.fit(X_train_cnn, y_train, epochs=10, batch_size=32, validation_split=0.2)\n",
        "\n",
        "# Make predictions on the test set\n",
        "y_pred_prob_cnn = cnn_model.predict(X_test_cnn)  # Get predicted probabilities\n",
        "y_pred_cnn = (y_pred_prob_cnn > 0.5).astype(\"int32\")\n",
        "\n",
        "# Evaluate the CNN model\n",
        "accuracy_cnn = accuracy_score(y_test, y_pred_cnn)\n",
        "print(f\"CNN Accuracy: {accuracy_cnn * 100:.2f}%\")\n",
        "\n",
        "# Print classification report and confusion matrix\n",
        "print(\"\\nClassification Report:\")\n",
        "print(classification_report(y_test, y_pred_cnn))\n",
        "\n",
        "print(\"\\nConfusion Matrix:\")\n",
        "print(confusion_matrix(y_test, y_pred_cnn))\n",
        "\n",
        "# Calculate ROC-AUC score\n",
        "roc_auc_cnn = roc_auc_score(y_test, y_pred_prob_cnn)\n",
        "print(f\"CNN ROC-AUC Score: {roc_auc_cnn:.2f}\")\n",
        "\n",
        "# Plot ROC curve\n",
        "fpr_cnn, tpr_cnn, _ = roc_curve(y_test, y_pred_prob_cnn)\n",
        "plt.figure()\n",
        "plt.plot(fpr_cnn, tpr_cnn, color='purple', label=f'ROC Curve (area = {roc_auc_cnn:.2f})')\n",
        "plt.plot([0, 1], [0, 1], color='gray', linestyle='--')\n",
        "plt.xlim([0.0, 1.0])\n",
        "plt.ylim([0.0, 1.05])\n",
        "plt.xlabel('False Positive Rate')\n",
        "plt.ylabel('True Positive Rate')\n",
        "plt.title('ROC Curve for CNN Model')\n",
        "plt.legend(loc='lower right')\n",
        "plt.show()\n"
      ],
      "metadata": {
        "colab": {
          "base_uri": "https://localhost:8080/",
          "height": 1000
        },
        "id": "rL7gysJxnvmp",
        "outputId": "5ae7d7b9-2fe5-41a4-844b-ccb662e62861"
      },
      "execution_count": 19,
      "outputs": [
        {
          "output_type": "stream",
          "name": "stdout",
          "text": [
            "Epoch 1/10\n"
          ]
        },
        {
          "output_type": "stream",
          "name": "stderr",
          "text": [
            "/usr/local/lib/python3.10/dist-packages/keras/src/layers/convolutional/base_conv.py:107: UserWarning: Do not pass an `input_shape`/`input_dim` argument to a layer. When using Sequential models, prefer using an `Input(shape)` object as the first layer in the model instead.\n",
            "  super().__init__(activity_regularizer=activity_regularizer, **kwargs)\n"
          ]
        },
        {
          "output_type": "stream",
          "name": "stdout",
          "text": [
            "\u001b[1m141/141\u001b[0m \u001b[32m━━━━━━━━━━━━━━━━━━━━\u001b[0m\u001b[37m\u001b[0m \u001b[1m5s\u001b[0m 9ms/step - accuracy: 0.7327 - loss: 0.5360 - val_accuracy: 0.7968 - val_loss: 0.4314\n",
            "Epoch 2/10\n",
            "\u001b[1m141/141\u001b[0m \u001b[32m━━━━━━━━━━━━━━━━━━━━\u001b[0m\u001b[37m\u001b[0m \u001b[1m1s\u001b[0m 6ms/step - accuracy: 0.7776 - loss: 0.4519 - val_accuracy: 0.8048 - val_loss: 0.4185\n",
            "Epoch 3/10\n",
            "\u001b[1m141/141\u001b[0m \u001b[32m━━━━━━━━━━━━━━━━━━━━\u001b[0m\u001b[37m\u001b[0m \u001b[1m1s\u001b[0m 6ms/step - accuracy: 0.7928 - loss: 0.4322 - val_accuracy: 0.8048 - val_loss: 0.4141\n",
            "Epoch 4/10\n",
            "\u001b[1m141/141\u001b[0m \u001b[32m━━━━━━━━━━━━━━━━━━━━\u001b[0m\u001b[37m\u001b[0m \u001b[1m1s\u001b[0m 5ms/step - accuracy: 0.7825 - loss: 0.4394 - val_accuracy: 0.8048 - val_loss: 0.4135\n",
            "Epoch 5/10\n",
            "\u001b[1m141/141\u001b[0m \u001b[32m━━━━━━━━━━━━━━━━━━━━\u001b[0m\u001b[37m\u001b[0m \u001b[1m1s\u001b[0m 5ms/step - accuracy: 0.7933 - loss: 0.4339 - val_accuracy: 0.8048 - val_loss: 0.4149\n",
            "Epoch 6/10\n",
            "\u001b[1m141/141\u001b[0m \u001b[32m━━━━━━━━━━━━━━━━━━━━\u001b[0m\u001b[37m\u001b[0m \u001b[1m1s\u001b[0m 5ms/step - accuracy: 0.7888 - loss: 0.4402 - val_accuracy: 0.7986 - val_loss: 0.4281\n",
            "Epoch 7/10\n",
            "\u001b[1m141/141\u001b[0m \u001b[32m━━━━━━━━━━━━━━━━━━━━\u001b[0m\u001b[37m\u001b[0m \u001b[1m1s\u001b[0m 5ms/step - accuracy: 0.8056 - loss: 0.4123 - val_accuracy: 0.8092 - val_loss: 0.4102\n",
            "Epoch 8/10\n",
            "\u001b[1m141/141\u001b[0m \u001b[32m━━━━━━━━━━━━━━━━━━━━\u001b[0m\u001b[37m\u001b[0m \u001b[1m2s\u001b[0m 7ms/step - accuracy: 0.8008 - loss: 0.4188 - val_accuracy: 0.8110 - val_loss: 0.4080\n",
            "Epoch 9/10\n",
            "\u001b[1m141/141\u001b[0m \u001b[32m━━━━━━━━━━━━━━━━━━━━\u001b[0m\u001b[37m\u001b[0m \u001b[1m1s\u001b[0m 5ms/step - accuracy: 0.8080 - loss: 0.4183 - val_accuracy: 0.8004 - val_loss: 0.4089\n",
            "Epoch 10/10\n",
            "\u001b[1m141/141\u001b[0m \u001b[32m━━━━━━━━━━━━━━━━━━━━\u001b[0m\u001b[37m\u001b[0m \u001b[1m2s\u001b[0m 7ms/step - accuracy: 0.7997 - loss: 0.4245 - val_accuracy: 0.8083 - val_loss: 0.4083\n",
            "\u001b[1m45/45\u001b[0m \u001b[32m━━━━━━━━━━━━━━━━━━━━\u001b[0m\u001b[37m\u001b[0m \u001b[1m0s\u001b[0m 5ms/step\n",
            "CNN Accuracy: 80.84%\n",
            "\n",
            "Classification Report:\n",
            "              precision    recall  f1-score   support\n",
            "\n",
            "           0       0.85      0.90      0.87      1036\n",
            "           1       0.67      0.55      0.61       373\n",
            "\n",
            "    accuracy                           0.81      1409\n",
            "   macro avg       0.76      0.73      0.74      1409\n",
            "weighted avg       0.80      0.81      0.80      1409\n",
            "\n",
            "\n",
            "Confusion Matrix:\n",
            "[[932 104]\n",
            " [166 207]]\n",
            "CNN ROC-AUC Score: 0.86\n"
          ]
        },
        {
          "output_type": "display_data",
          "data": {
            "text/plain": [
              "<Figure size 640x480 with 1 Axes>"
            ],
            "image/png": "[encoded data removed]"
          },
          "metadata": {}
        }
      ]
    },
    {
      "cell_type": "markdown",
      "source": [
        "**ANN**"
      ],
      "metadata": {
        "id": "oOSHUyNoR8nF"
      }
    },
    {
      "cell_type": "code",
      "source": [
        "import numpy as np\n",
        "import tensorflow as tf\n",
        "from tensorflow.keras.models import Sequential\n",
        "from tensorflow.keras.layers import Dense, Dropout\n",
        "from tensorflow.keras.callbacks import EarlyStopping\n",
        "from sklearn.metrics import accuracy_score, classification_report, confusion_matrix, roc_auc_score, roc_curve\n",
        "import matplotlib.pyplot as plt\n",
        "\n",
        "# No need to reshape the input for ANN since ANN expects 2D data: (samples, features)\n",
        "X_train_ann = np.array(X_train)\n",
        "X_test_ann = np.array(X_test)\n",
        "\n",
        "# Define the ANN model using a different variable name (ann_model)\n",
        "ann_model = Sequential()\n",
        "\n",
        "# Add a Dense input layer (hidden layer 1) with 128 units and ReLU activation\n",
        "ann_model.add(Dense(128, activation='relu', input_shape=(X_train_ann.shape[1],)))\n",
        "\n",
        "# Add Dropout to prevent overfitting\n",
        "ann_model.add(Dropout(0.3))\n",
        "\n",
        "# Add another Dense hidden layer (hidden layer 2) with 64 units and ReLU activation\n",
        "ann_model.add(Dense(64, activation='relu'))\n",
        "\n",
        "# Add the output layer with a sigmoid activation for binary classification\n",
        "ann_model.add(Dense(1, activation='sigmoid'))\n",
        "\n",
        "# Compile the ANN model\n",
        "ann_model.compile(optimizer='adam', loss='binary_crossentropy', metrics=['accuracy'])\n",
        "\n",
        "# Implement EarlyStopping\n",
        "early_stopping = EarlyStopping(monitor='val_loss', patience=3, restore_best_weights=True)\n",
        "\n",
        "# Train the ANN model with Early Stopping\n",
        "history_ann = ann_model.fit(X_train_ann, y_train,\n",
        "                            epochs=50,  # Set a higher number of epochs\n",
        "                            batch_size=32,\n",
        "                            validation_split=0.2,\n",
        "                            callbacks=[early_stopping],\n",
        "                            verbose=1)\n",
        "\n",
        "# Visualize Training History (Accuracy per Epoch)\n",
        "plt.plot(history_ann.history['accuracy'], label='Training Accuracy')\n",
        "plt.plot(history_ann.history['val_accuracy'], label='Validation Accuracy')\n",
        "plt.xlabel('Epochs')\n",
        "plt.ylabel('Accuracy')\n",
        "plt.title('Training and Validation Accuracy')\n",
        "plt.legend()\n",
        "plt.show()\n",
        "\n",
        "# Make predictions on the test set\n",
        "y_pred_prob_ann = ann_model.predict(X_test_ann)  # Get predicted probabilities\n",
        "y_pred_ann = (y_pred_prob_ann > 0.5).astype(\"int32\")\n",
        "\n",
        "# Evaluate the ANN model\n",
        "accuracy_ann = accuracy_score(y_test, y_pred_ann)\n",
        "print(f\"ANN Accuracy: {accuracy_ann * 100:.2f}%\")\n",
        "\n",
        "# Print classification report and confusion matrix\n",
        "print(\"\\nClassification Report:\")\n",
        "print(classification_report(y_test, y_pred_ann))\n",
        "\n",
        "print(\"\\nConfusion Matrix:\")\n",
        "print(confusion_matrix(y_test, y_pred_ann))\n",
        "\n",
        "# Calculate ROC-AUC score\n",
        "roc_auc_ann = roc_auc_score(y_test, y_pred_prob_ann)\n",
        "print(f\"ANN ROC-AUC Score: {roc_auc_ann:.2f}\")\n",
        "\n",
        "# Plot ROC curve\n",
        "fpr_ann, tpr_ann, _ = roc_curve(y_test, y_pred_prob_ann)\n",
        "plt.figure()\n",
        "plt.plot(fpr_ann, tpr_ann, color='red', label=f'ROC Curve (area = {roc_auc_ann:.2f})')\n",
        "plt.plot([0, 1], [0, 1], color='gray', linestyle='--')\n",
        "plt.xlim([0.0, 1.0])\n",
        "plt.ylim([0.0, 1.05])\n",
        "plt.xlabel('False Positive Rate')\n",
        "plt.ylabel('True Positive Rate')\n",
        "plt.title('ROC Curve for ANN Model')\n",
        "plt.legend(loc='lower right')\n",
        "plt.show()\n",
        "\n"
      ],
      "metadata": {
        "colab": {
          "base_uri": "https://localhost:8080/",
          "height": 1000
        },
        "id": "MeBWaDjYoJNF",
        "outputId": "b32d720d-b0c4-4a98-d07f-b7e507f21092"
      },
      "execution_count": 20,
      "outputs": [
        {
          "output_type": "stream",
          "name": "stdout",
          "text": [
            "Epoch 1/50\n"
          ]
        },
        {
          "output_type": "stream",
          "name": "stderr",
          "text": [
            "/usr/local/lib/python3.10/dist-packages/keras/src/layers/core/dense.py:87: UserWarning: Do not pass an `input_shape`/`input_dim` argument to a layer. When using Sequential models, prefer using an `Input(shape)` object as the first layer in the model instead.\n",
            "  super().__init__(activity_regularizer=activity_regularizer, **kwargs)\n"
          ]
        },
        {
          "output_type": "stream",
          "name": "stdout",
          "text": [
            "\u001b[1m141/141\u001b[0m \u001b[32m━━━━━━━━━━━━━━━━━━━━\u001b[0m\u001b[37m\u001b[0m \u001b[1m3s\u001b[0m 6ms/step - accuracy: 0.7187 - loss: 0.5222 - val_accuracy: 0.8048 - val_loss: 0.4157\n",
            "Epoch 2/50\n",
            "\u001b[1m141/141\u001b[0m \u001b[32m━━━━━━━━━━━━━━━━━━━━\u001b[0m\u001b[37m\u001b[0m \u001b[1m1s\u001b[0m 5ms/step - accuracy: 0.7944 - loss: 0.4328 - val_accuracy: 0.8057 - val_loss: 0.4108\n",
            "Epoch 3/50\n",
            "\u001b[1m141/141\u001b[0m \u001b[32m━━━━━━━━━━━━━━━━━━━━\u001b[0m\u001b[37m\u001b[0m \u001b[1m1s\u001b[0m 3ms/step - accuracy: 0.7947 - loss: 0.4304 - val_accuracy: 0.8057 - val_loss: 0.4095\n",
            "Epoch 4/50\n",
            "\u001b[1m141/141\u001b[0m \u001b[32m━━━━━━━━━━━━━━━━━━━━\u001b[0m\u001b[37m\u001b[0m \u001b[1m1s\u001b[0m 3ms/step - accuracy: 0.7950 - loss: 0.4243 - val_accuracy: 0.8004 - val_loss: 0.4082\n",
            "Epoch 5/50\n",
            "\u001b[1m141/141\u001b[0m \u001b[32m━━━━━━━━━━━━━━━━━━━━\u001b[0m\u001b[37m\u001b[0m \u001b[1m0s\u001b[0m 3ms/step - accuracy: 0.8067 - loss: 0.4103 - val_accuracy: 0.8030 - val_loss: 0.4073\n",
            "Epoch 6/50\n",
            "\u001b[1m141/141\u001b[0m \u001b[32m━━━━━━━━━━━━━━━━━━━━\u001b[0m\u001b[37m\u001b[0m \u001b[1m1s\u001b[0m 3ms/step - accuracy: 0.8032 - loss: 0.4213 - val_accuracy: 0.8066 - val_loss: 0.4052\n",
            "Epoch 7/50\n",
            "\u001b[1m141/141\u001b[0m \u001b[32m━━━━━━━━━━━━━━━━━━━━\u001b[0m\u001b[37m\u001b[0m \u001b[1m1s\u001b[0m 3ms/step - accuracy: 0.8062 - loss: 0.4129 - val_accuracy: 0.8021 - val_loss: 0.4065\n",
            "Epoch 8/50\n",
            "\u001b[1m141/141\u001b[0m \u001b[32m━━━━━━━━━━━━━━━━━━━━\u001b[0m\u001b[37m\u001b[0m \u001b[1m0s\u001b[0m 3ms/step - accuracy: 0.7977 - loss: 0.4176 - val_accuracy: 0.8030 - val_loss: 0.4081\n",
            "Epoch 9/50\n",
            "\u001b[1m141/141\u001b[0m \u001b[32m━━━━━━━━━━━━━━━━━━━━\u001b[0m\u001b[37m\u001b[0m \u001b[1m1s\u001b[0m 3ms/step - accuracy: 0.8073 - loss: 0.4069 - val_accuracy: 0.8066 - val_loss: 0.4061\n"
          ]
        },
        {
          "output_type": "display_data",
          "data": {
            "text/plain": [
              "<Figure size 640x480 with 1 Axes>"
            ],
            "image/png": "[encoded data removed]"
          },
          "metadata": {}
        },
        {
          "output_type": "stream",
          "name": "stdout",
          "text": [
            "\u001b[1m45/45\u001b[0m \u001b[32m━━━━━━━━━━━━━━━━━━━━\u001b[0m\u001b[37m\u001b[0m \u001b[1m0s\u001b[0m 3ms/step\n",
            "ANN Accuracy: 81.19%\n",
            "\n",
            "Classification Report:\n",
            "              precision    recall  f1-score   support\n",
            "\n",
            "           0       0.85      0.91      0.88      1036\n",
            "           1       0.68      0.54      0.60       373\n",
            "\n",
            "    accuracy                           0.81      1409\n",
            "   macro avg       0.77      0.72      0.74      1409\n",
            "weighted avg       0.80      0.81      0.80      1409\n",
            "\n",
            "\n",
            "Confusion Matrix:\n",
            "[[944  92]\n",
            " [173 200]]\n",
            "ANN ROC-AUC Score: 0.86\n"
          ]
        },
        {
          "output_type": "display_data",
          "data": {
            "text/plain": [
              "<Figure size 640x480 with 1 Axes>"
            ],
            "image/png": "[encoded data removed]"
          },
          "metadata": {}
        }
      ]
    },
    {
      "cell_type": "code",
      "source": [
        "# Compare results for all models (LSTM, BiLSTM, CNN, and ANN)\n",
        "\n",
        "# Store the accuracy scores in a dictionary\n",
        "accuracy_scores = {\n",
        "    \"LSTM\": accuracy_lstm,\n",
        "    \"BiLSTM\": accuracy_bilstm,\n",
        "    \"MLP\": accuracy_mlp,\n",
        "    \"CNN\": accuracy_cnn,\n",
        "    \"ANN\": accuracy_ann\n",
        "}\n",
        "\n",
        "# Print accuracy comparison\n",
        "print(\"Model Accuracy Comparison:\")\n",
        "for model, accuracy in accuracy_scores.items():\n",
        "    print(f\"{model}: {accuracy * 100:.2f}%\")\n",
        "\n",
        "\n",
        "\n",
        "\n"
      ],
      "metadata": {
        "id": "VmNWIanvf_wH",
        "colab": {
          "base_uri": "https://localhost:8080/"
        },
        "outputId": "33f758c8-b651-47e9-a0fa-05d46498245e"
      },
      "execution_count": 21,
      "outputs": [
        {
          "output_type": "stream",
          "name": "stdout",
          "text": [
            "Model Accuracy Comparison:\n",
            "LSTM: 81.62%\n",
            "BiLSTM: 81.41%\n",
            "MLP: 80.62%\n",
            "CNN: 80.84%\n",
            "ANN: 81.19%\n"
          ]
        }
      ]
    },
    {
      "cell_type": "code",
      "source": [
        "# Store the ROC-AUC scores in a dictionary\n",
        "roc_auc_scores = {\n",
        "    \"LSTM\": roc_auc_lstm,\n",
        "    \"BiLSTM\": roc_auc_bilstm,\n",
        "    \"MLP\": roc_auc_mlp,\n",
        "    \"CNN\": roc_auc_cnn,\n",
        "    \"ANN\": roc_auc_ann\n",
        "}\n",
        "\n",
        "# Print ROC-AUC comparison\n",
        "print(\"Model ROC-AUC Score Comparison:\")\n",
        "for model, roc_auc in roc_auc_scores.items():\n",
        "    print(f\"{model}: {roc_auc:.2f}\")\n"
      ],
      "metadata": {
        "colab": {
          "base_uri": "https://localhost:8080/"
        },
        "id": "ql_IumjcyZUA",
        "outputId": "60ed8573-75f3-44d4-f8a2-6f41d6374f5f"
      },
      "execution_count": 22,
      "outputs": [
        {
          "output_type": "stream",
          "name": "stdout",
          "text": [
            "Model ROC-AUC Score Comparison:\n",
            "LSTM: 0.86\n",
            "BiLSTM: 0.86\n",
            "MLP: 0.85\n",
            "CNN: 0.86\n",
            "ANN: 0.86\n"
          ]
        }
      ]
    },
    {
      "cell_type": "code",
      "source": [
        "\n",
        "# Print classification reports for all models\n",
        "print(\"\\nClassification Reports:\")\n",
        "print(\"\\nLSTM Classification Report:\")\n",
        "print(classification_report(y_test, y_pred_lstm))\n",
        "\n",
        "print(\"\\nBiLSTM Classification Report:\")\n",
        "print(classification_report(y_test, y_pred_bilstm))\n",
        "\n",
        "print(\"\\nMLP Classification Report:\")\n",
        "print(classification_report(y_test, y_pred_mlp))\n",
        "\n",
        "print(\"\\nCNN Classification Report:\")\n",
        "print(classification_report(y_test, y_pred_cnn))\n",
        "\n",
        "print(\"\\nANN Classification Report:\")\n",
        "print(classification_report(y_test, y_pred_ann))\n",
        "\n",
        "# Print confusion matrices for all models\n",
        "print(\"\\nConfusion Matrices:\")\n",
        "print(\"\\nLSTM Confusion Matrix:\")\n",
        "print(confusion_matrix(y_test, y_pred_lstm))\n",
        "\n",
        "print(\"\\nBiLSTM Confusion Matrix:\")\n",
        "print(confusion_matrix(y_test, y_pred_bilstm))\n",
        "\n",
        "print(\"\\nMLP Confusion Matrix:\")\n",
        "print(confusion_matrix(y_test, y_pred_mlp))\n",
        "\n",
        "print(\"\\nCNN Confusion Matrix:\")\n",
        "print(confusion_matrix(y_test, y_pred_cnn))\n",
        "\n",
        "print(\"\\nANN Confusion Matrix:\")\n",
        "print(confusion_matrix(y_test, y_pred_ann))"
      ],
      "metadata": {
        "id": "EgsCtfiIxdhp",
        "colab": {
          "base_uri": "https://localhost:8080/"
        },
        "outputId": "0d2a77f8-ee54-40fa-be32-96bad727531b"
      },
      "execution_count": 23,
      "outputs": [
        {
          "output_type": "stream",
          "name": "stdout",
          "text": [
            "\n",
            "Classification Reports:\n",
            "\n",
            "LSTM Classification Report:\n",
            "              precision    recall  f1-score   support\n",
            "\n",
            "           0       0.86      0.90      0.88      1036\n",
            "           1       0.68      0.59      0.63       373\n",
            "\n",
            "    accuracy                           0.82      1409\n",
            "   macro avg       0.77      0.74      0.75      1409\n",
            "weighted avg       0.81      0.82      0.81      1409\n",
            "\n",
            "\n",
            "BiLSTM Classification Report:\n",
            "              precision    recall  f1-score   support\n",
            "\n",
            "           0       0.86      0.89      0.88      1036\n",
            "           1       0.66      0.60      0.63       373\n",
            "\n",
            "    accuracy                           0.81      1409\n",
            "   macro avg       0.76      0.75      0.75      1409\n",
            "weighted avg       0.81      0.81      0.81      1409\n",
            "\n",
            "\n",
            "MLP Classification Report:\n",
            "              precision    recall  f1-score   support\n",
            "\n",
            "           0       0.85      0.89      0.87      1036\n",
            "           1       0.65      0.57      0.61       373\n",
            "\n",
            "    accuracy                           0.81      1409\n",
            "   macro avg       0.75      0.73      0.74      1409\n",
            "weighted avg       0.80      0.81      0.80      1409\n",
            "\n",
            "\n",
            "CNN Classification Report:\n",
            "              precision    recall  f1-score   support\n",
            "\n",
            "           0       0.85      0.90      0.87      1036\n",
            "           1       0.67      0.55      0.61       373\n",
            "\n",
            "    accuracy                           0.81      1409\n",
            "   macro avg       0.76      0.73      0.74      1409\n",
            "weighted avg       0.80      0.81      0.80      1409\n",
            "\n",
            "\n",
            "ANN Classification Report:\n",
            "              precision    recall  f1-score   support\n",
            "\n",
            "           0       0.85      0.91      0.88      1036\n",
            "           1       0.68      0.54      0.60       373\n",
            "\n",
            "    accuracy                           0.81      1409\n",
            "   macro avg       0.77      0.72      0.74      1409\n",
            "weighted avg       0.80      0.81      0.80      1409\n",
            "\n",
            "\n",
            "Confusion Matrices:\n",
            "\n",
            "LSTM Confusion Matrix:\n",
            "[[931 105]\n",
            " [154 219]]\n",
            "\n",
            "BiLSTM Confusion Matrix:\n",
            "[[923 113]\n",
            " [149 224]]\n",
            "\n",
            "MLP Confusion Matrix:\n",
            "[[923 113]\n",
            " [160 213]]\n",
            "\n",
            "CNN Confusion Matrix:\n",
            "[[932 104]\n",
            " [166 207]]\n",
            "\n",
            "ANN Confusion Matrix:\n",
            "[[944  92]\n",
            " [173 200]]\n"
          ]
        }
      ]
    },
    {
      "cell_type": "code",
      "source": [],
      "metadata": {
        "id": "gtUS-9tTdLua"
      },
      "execution_count": null,
      "outputs": []
    }
  ]
}